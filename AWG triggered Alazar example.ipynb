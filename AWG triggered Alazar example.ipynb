{
 "cells": [
  {
   "cell_type": "code",
   "execution_count": 1,
   "metadata": {
    "collapsed": true
   },
   "outputs": [],
   "source": [
    "%matplotlib notebook\n",
    "\n",
    "import os\n",
    "import time\n",
    "import numpy as np\n",
    "import matplotlib as mpl\n",
    "import sys\n",
    "from importlib import reload"
   ]
  },
  {
   "cell_type": "code",
   "execution_count": 2,
   "metadata": {
    "collapsed": true
   },
   "outputs": [],
   "source": [
    "import qcodes as qc\n",
    "from broadbean.plotting import plotter"
   ]
  },
  {
   "cell_type": "code",
   "execution_count": 3,
   "metadata": {},
   "outputs": [],
   "source": [
    "from pytopo.qctools.instruments import create_inst, add2station\n",
    "from pytopo.qctools.dataset2 import select_experiment\n",
    "\n",
    "from plottr import client\n",
    "from plottr.qcodes_dataset import QcodesDatasetSubscriber\n",
    "from plottr.qcodes_dataset import QcodesDatasetSubscriber as LivePlotSubscriber\n",
    "\n",
    "from pytopo.mplplots.init_nb_plotting import *\n",
    "\n",
    "qc.config['core']['db_location'] = r\"d:/OneDrive/BF2/Data/experiments.db\"\n",
    "qc.dataset.database.initialise_database()"
   ]
  },
  {
   "cell_type": "code",
   "execution_count": 4,
   "metadata": {
    "collapsed": true
   },
   "outputs": [],
   "source": [
    "from qcodes import load_by_id\n",
    "from qcodes import validators\n",
    "from qcodes.dataset.measurements import Measurement\n",
    "from qcodes.dataset.database import initialise_database\n",
    "from qcodes.instrument.base import Instrument\n",
    "from qcodes.instrument.parameter import Parameter\n",
    "from qcodes.dataset.plotting import plot_by_id\n",
    "from qcodes.utils.validators import Numbers"
   ]
  },
  {
   "cell_type": "code",
   "execution_count": 5,
   "metadata": {
    "collapsed": true
   },
   "outputs": [],
   "source": [
    "import qcodes as qc\n",
    "import broadbean as bb\n",
    "\n",
    "from broadbean.plotting import plotter"
   ]
  },
  {
   "cell_type": "code",
   "execution_count": 6,
   "metadata": {
    "collapsed": true
   },
   "outputs": [],
   "source": [
    "from pytopo.qctools import hard_sweep; reload(hard_sweep)\n",
    "from pytopo.qctools.hard_sweep import HardSweep, HardSweepDetector"
   ]
  },
  {
   "cell_type": "code",
   "execution_count": 7,
   "metadata": {
    "collapsed": true
   },
   "outputs": [],
   "source": [
    "ramp = bb.PulseAtoms.ramp"
   ]
  },
  {
   "cell_type": "code",
   "execution_count": 8,
   "metadata": {},
   "outputs": [],
   "source": [
    "from pytopo.qctools import instruments as instools; reload(instools)\n",
    "from pytopo.qctools.instruments import create_inst, add2station\n",
    "from pytopo.qctools.dataset2 import select_experiment\n",
    "from pytopo.qctools.measurement import MeasurementExt\n",
    "\n",
    "from pytopo.rf import alazar_detector; reload(alazar_detector)\n",
    "from pytopo.rf.alazar_detector import AlazarDetector\n",
    "\n",
    "from plottr import qcodes_dataset; reload(qcodes_dataset)\n",
    "from plottr.qcodes_dataset import QcodesDatasetSubscriber\n",
    "\n",
    "from cqed import broadbean; reload(broadbean)\n",
    "from cqed.broadbean import BroadBeanSequence, BluePrints\n",
    "\n",
    "from cqed import bb_sequences; reload(bb_sequences)\n",
    "from cqed.bb_sequences import TriggeredReadoutSequence\n",
    "\n"
   ]
  },
  {
   "cell_type": "code",
   "execution_count": 9,
   "metadata": {},
   "outputs": [],
   "source": [
    "class AWGGateRamp1D(BroadBeanSequence):\n",
    "    \n",
    "    trigger_delay = 100e-9\n",
    "    alazar_trigger_len = 100e-9\n",
    "    sweep_dims = ['voltages', ]\n",
    "\n",
    "    \n",
    "    def __init__(self, *arg, **kw):\n",
    "        super().__init__(*arg, **kw)\n",
    "        \n",
    "        self.add_parameter('initial_delay', set_cmd=None, \n",
    "                           unit='s', initial_value=10e-6)\n",
    "        self.add_parameter('step_len', set_cmd=None, \n",
    "                           unit='s', initial_value=10e-6)\n",
    "        self.add_parameter('start_voltage', set_cmd=None,\n",
    "                           unit='V', initial_value=0)\n",
    "        self.add_parameter('stop_voltage', set_cmd=None,\n",
    "                           unit='V', initial_value=1)\n",
    "        self.add_parameter('voltage_points', set_cmd=None,\n",
    "                           unit='', initial_value=11)\n",
    "        self.add_parameter('ramp_down_time', set_cmd=None,\n",
    "                           unit='s', initial_value=10e-6)\n",
    "        \n",
    "    def setup(self, **kw):\n",
    "        vpts = np.linspace(self.start_voltage(), self.stop_voltage(), self.voltage_points())\n",
    "        self.voltages(vpts)\n",
    "        super().setup(**kw)\n",
    "        \n",
    "        \n",
    "    def sequence(self):\n",
    "        elem = bb.Element()\n",
    "        bps = BluePrints(self.chan_map, sample_rate=self.sample_rate())\n",
    "        \n",
    "        cut_t = 0\n",
    "        bps['ro_trigger'] = []\n",
    "        bps['awg_voltage'].insertSegment(0, ramp, (self.start_voltage(), self.start_voltage()), \n",
    "                                         dur=self.initial_delay(), name='voltage')        \n",
    "        for i, v in enumerate(self.voltages()):\n",
    "            bps['awg_voltage'].insertSegment(i+1, ramp, (v, v), \n",
    "                                             dur=self.step_len(), name='voltage')\n",
    "            bps['ro_trigger'].append((self.initial_delay() + self.step_len() * i + self.trigger_delay, \n",
    "                                      self.alazar_trigger_len))\n",
    "            \n",
    "        bps['awg_voltage'].insertSegment(-1, ramp, (v, self.start_voltage()), \n",
    "                                         dur=self.ramp_down_time(), name='voltage')        \n",
    "\n",
    "        for n, bp in bps():\n",
    "            elem.addBluePrint(n, bp)\n",
    "            \n",
    "        seq = bb.Sequence()\n",
    "        seq.name = 'v_ramp'\n",
    "        seq.addElement(1, elem)\n",
    "        \n",
    "        return seq\n",
    "        "
   ]
  },
  {
   "cell_type": "code",
   "execution_count": 10,
   "metadata": {
    "collapsed": true
   },
   "outputs": [],
   "source": [
    "BroadBeanSequence.chan_map = {\n",
    "    1 : ['awg_voltage', 'ro_trigger', None],\n",
    "}\n",
    "BroadBeanSequence.chan_settings[1]['Vpp'] = 1.0\n",
    "BroadBeanSequence.chan_settings[1]['marker_hi'] = [1.5, 1.5, 1.5, 1.5]\n",
    "BroadBeanSequence.chan_settings[1]['marker_lo'] = [-0.3, -0.3, -0.3, -0.3]\n",
    "BroadBeanSequence.sweep_wait = None\n",
    "\n",
    "TriggeredReadoutSequence.chan_map = {\n",
    "    1 : ['FILL.1', 'ro_trigger', None],\n",
    "}"
   ]
  },
  {
   "cell_type": "markdown",
   "metadata": {},
   "source": [
    "### Instruments init"
   ]
  },
  {
   "cell_type": "code",
   "execution_count": 11,
   "metadata": {},
   "outputs": [
    {
     "name": "stdout",
     "output_type": "stream",
     "text": [
      "Connected to: None fg (serial:None, firmware:None) in 5.16s\n"
     ]
    }
   ],
   "source": [
    "sys.path.append('D:/Code')\n",
    "from RIGOL.RIGOL_driver import DG1062\n",
    "fg = DG1062(name = 'fg', address = 'USB0::0x1AB1::0x0642::DG1ZA195006391::INSTR')"
   ]
  },
  {
   "cell_type": "code",
   "execution_count": 12,
   "metadata": {},
   "outputs": [
    {
     "name": "stdout",
     "output_type": "stream",
     "text": [
      "Connected to: TEKTRONIX AWG5208 (serial:B020205, firmware:FV:6.0.0242.0) in 0.19s\n",
      "Connected to: Rohde&Schwarz SGS100A (serial:1416.0505k02/110509, firmware:3.1.19.15-3.50.124.67) in 0.03s\n",
      "Connected to: Rohde&Schwarz SGS100A (serial:1416.0505k02/110510, firmware:3.1.19.15-3.50.124.67) in 0.04s\n"
     ]
    }
   ],
   "source": [
    "from qcodes.instrument_drivers.tektronix.AWG5208 import AWG5208\n",
    "awg = create_inst(AWG5208, \"awg\", address='TCPIP0::169.254.254.84::inst0::INSTR')\n",
    "station = qc.Station(awg)\n",
    "\n",
    "# Alazar\n",
    "from qcodes.instrument_drivers.AlazarTech import utils; reload(utils)\n",
    "from qcodes.instrument_drivers.AlazarTech import ATS9360; reload(ATS9360)\n",
    "from qcodes.instrument_drivers.AlazarTech.ATS9360 import AlazarTech_ATS9360\n",
    "alazar = create_inst(AlazarTech_ATS9360, 'alazar', force_new_instance=True)\n",
    "station = add2station(station, alazar)\n",
    "\n",
    "# Alazar aquisition controllers\n",
    "from pytopo.rf import alazar_acquisition; reload(alazar_acquisition)\n",
    "from pytopo.rf.alazar_acquisition import RawAcqCtl, AvgDemodCtl, AvgIQCtl\n",
    "\n",
    "raw_acq = create_inst(RawAcqCtl, 'raw_acq', 'alazar', force_new_instance=True)\n",
    "station = add2station(station, raw_acq)\n",
    "\n",
    "avgdemod_acq = create_inst(AvgDemodCtl, 'avgdemod_acq', 'alazar', force_new_instance=True)\n",
    "station = add2station(station, avgdemod_acq)\n",
    "\n",
    "avgiq_acq = create_inst(AvgIQCtl, 'avgiq_acq', 'alazar', force_new_instance=True)\n",
    "station = add2station(station, avgiq_acq)\n",
    "\n",
    "# RF sources\n",
    "from qcodes.instrument_drivers.rohde_schwarz.SGS100A import RohdeSchwarz_SGS100A\n",
    "LO = create_inst(RohdeSchwarz_SGS100A, 'LO', address=\"TCPIP0::169.254.2.20\", force_new_instance=True)\n",
    "station = add2station(station, LO)\n",
    "\n",
    "RF = create_inst(RohdeSchwarz_SGS100A, 'RF', address=\"TCPIP0::169.254.231.38\", force_new_instance=True)\n",
    "station = add2station(station, RF)\n",
    "\n",
    "#from qcodes.instrument_drivers.agilent.E8267C import E8267\n",
    "#S1 = instools.create_inst(E8267, 'S1', address='GPIB0::19::INSTR', force_new_instance=True)\n",
    "#inst_list.append(S1)\n",
    "\n",
    "from pytopo.rf.sources import HeterodyneSource\n",
    "hetsrc = create_inst(HeterodyneSource, 'hetsrc', RF=RF, LO=LO, force_new_instance=True)\n",
    "station = add2station(station, hetsrc)\n",
    "\n",
    "awg.wfmxFileFolder = \"\\\\Users\\\\MSFTE\\\\Documents\"\n",
    "awg.seqxFileFolder = \"\\\\Users\\\\MSFTE\\\\Documents\""
   ]
  },
  {
   "cell_type": "code",
   "execution_count": 13,
   "metadata": {
    "collapsed": true
   },
   "outputs": [],
   "source": [
    "def awg_trigger_func(do_start):\n",
    "    if do_start:\n",
    "        station.awg.play()\n",
    "    else:\n",
    "        station.awg.stop()\n",
    "        \n",
    "for ctl in [raw_acq, avgdemod_acq, avgiq_acq]:\n",
    "    ctl.trigger_func = awg_trigger_func"
   ]
  },
  {
   "cell_type": "code",
   "execution_count": 14,
   "metadata": {},
   "outputs": [
    {
     "name": "stdout",
     "output_type": "stream",
     "text": [
      "Connected to: AMERICAN MAGNETICS INC. 430 (serial:2.01, firmware:None) in 0.87s\n",
      "Connected to: AMERICAN MAGNETICS INC. 430 (serial:2.01, firmware:None) in 0.89s\n",
      "Connected to: AMERICAN MAGNETICS INC. 430 (serial:2.01, firmware:None) in 0.80s\n"
     ]
    },
    {
     "data": {
      "text/plain": [
       "'AMI430'"
      ]
     },
     "execution_count": 14,
     "metadata": {},
     "output_type": "execute_result"
    }
   ],
   "source": [
    "from qcodes.instrument_drivers.american_magnetics.AMI430 import AMI430,AMI430_3D\n",
    "ami_x = create_inst(AMI430, \"AMI430_x\", \"169.254.158.77\", port = 7180, has_current_rating=True)\n",
    "ami_y = create_inst(AMI430, \"AMI430_y\", \"169.254.208.179\", port = 7180, has_current_rating=True)\n",
    "ami_z = create_inst(AMI430, \"AMI430_z\", \"169.254.88.255\", port = 7180, has_current_rating=True)\n",
    "\n",
    "\n",
    "ami = create_inst(AMI430_3D, \"AMI430\", ami_x, ami_y, ami_z, 2)\n",
    "\n",
    "\n",
    "station.add_component(ami_x)\n",
    "station.add_component(ami_y)\n",
    "station.add_component(ami_z)\n",
    "station.add_component(ami)"
   ]
  },
  {
   "cell_type": "code",
   "execution_count": 60,
   "metadata": {
    "collapsed": true
   },
   "outputs": [],
   "source": [
    "ami.spherical([1, 105, 90])"
   ]
  },
  {
   "cell_type": "code",
   "execution_count": 15,
   "metadata": {},
   "outputs": [
    {
     "name": "stdout",
     "output_type": "stream",
     "text": [
      "Initialized IVVI-rack in 0.03s\n"
     ]
    }
   ],
   "source": [
    "from qcodes.instrument_drivers.QuTech.IVVI import IVVI\n",
    "ivvi = create_inst(IVVI, \"ivvi\", \"ASRL4::INSTR\")"
   ]
  },
  {
   "cell_type": "code",
   "execution_count": 16,
   "metadata": {},
   "outputs": [
    {
     "name": "stderr",
     "output_type": "stream",
     "text": [
      "d:\\code\\qcodes\\qcodes\\instrument\\parameter.py:577: UserWarning: set_step is deprecated use step property as in `inst.step = stepvalue` instead\n",
      "  \"set_step is deprecated use step property as in `inst.step = \"\n",
      "d:\\code\\qcodes\\qcodes\\instrument\\parameter.py:589: UserWarning: set_delay is deprecated use inter_delay or post_delay property as in `inst.inter_delay = delayvalue` instead\n",
      "  \"set_delay is deprecated use inter_delay or post_delay property \"\n"
     ]
    }
   ],
   "source": [
    "station.add_component(ivvi)\n",
    "\n",
    "for i in range(1,16):\n",
    "    ivvi.parameters['dac{}'.format(i)].set_step(0.5)\n",
    "    ivvi.parameters['dac{}'.format(i)].set_delay(0.001)\n",
    "    \n",
    "ivvi.dac1.set_delay(0.001)\n",
    "ivvi.dac1.set_step(20)\n",
    "\n",
    "ivvi.dac2.set_delay(0.001)\n",
    "ivvi.dac2.set_step(20)\n",
    "\n",
    "ivvi.dac3.set_delay(0.001)\n",
    "ivvi.dac3.set_step(2)\n",
    "\n",
    "ivvi.dac4.set_delay(0.001)\n",
    "ivvi.dac4.set_step(20)\n",
    "\n",
    "ivvi.dac5.set_delay(0.001)\n",
    "ivvi.dac5.set_step(60)\n",
    "\n",
    "ivvi.dac6.set_delay(0.001)\n",
    "ivvi.dac6.set_step(2)\n",
    "\n",
    "ivvi.dac6.set_delay(0.001)\n",
    "ivvi.dac6.set_step(20)\n",
    "\n",
    "ivvi.dac7.set_delay(0.001)\n",
    "ivvi.dac7.set_step(60)\n",
    "\n",
    "ivvi.dac8.set_delay(0.001)\n",
    "ivvi.dac8.set_step(20)\n",
    "\n",
    "ivvi.dac9.set_delay(0.001)\n",
    "ivvi.dac9.set_step(60)\n"
   ]
  },
  {
   "cell_type": "code",
   "execution_count": 17,
   "metadata": {},
   "outputs": [],
   "source": [
    "class ConversionParameter(Parameter):\n",
    "    \n",
    "    def __init__(self, name, src_param, get_conv, set_conv=None, **kw):\n",
    "        super().__init__(name, **kw)\n",
    "        self.src_param = src_param\n",
    "        self.get_conv = get_conv\n",
    "        self.set_conv = set_conv\n",
    "    \n",
    "    def get_raw(self):\n",
    "        return self.get_conv(self.src_param())\n",
    "    \n",
    "    def set_raw(self, value):\n",
    "        if self.set_conv is None:\n",
    "            raise NotImplementedError(\"No set conversion implemented.\")\n",
    "        \n",
    "        return self.src_param(self.set_conv(value))\n",
    "    \n",
    "\n",
    "class IVVISetup(Instrument):\n",
    "    \n",
    "    def __init__(self, name, ivvi, **kw):\n",
    "        super().__init__(name, **kw)\n",
    "        \n",
    "        self.ivvi = ivvi\n",
    "        \n",
    "        self.add_parameter('voltage_multiplier', get_cmd=None, set_cmd=None, \n",
    "                           initial_value=1e-3)\n",
    "        self.add_parameter('current_multiplier', get_cmd=None, set_cmd=None, \n",
    "                           initial_value=1e-7)\n",
    "        self.add_parameter('iso_in_multiplier', get_cmd=None, set_cmd=None,\n",
    "                           initial_value=1e-2)\n",
    "        self.add_parameter('gate_multiplier', get_cmd=None, set_cmd=None, \n",
    "                           initial_value=15)\n",
    "        \n",
    "        self.add_parameter('M1b_gain', get_cmd=None, set_cmd=None, initial_value=1e6)\n",
    "        self.add_parameter('M1b_mode', get_cmd=None, set_cmd=None, \n",
    "                           vals=validators.Enum('low_noise', 'low_R_in'), \n",
    "                           initial_value='low_noise')\n",
    "        self.add_parameter('M1b_R_in', get_cmd=self._get_M1b_R_in)\n",
    "        \n",
    "        self.add_parameter('M2m_Vgain', get_cmd=None, set_cmd=None, initial_value=1e3)\n",
    "\n",
    "        for i in range(1, self.ivvi._numdacs + 1):       \n",
    "            self.add_parameter('dac{}'.format(i), unit='V',\n",
    "                               get_cmd=self.ivvi._gen_ch_get_func(self._get_dac, i),\n",
    "                               set_cmd=self.ivvi._gen_ch_set_func(self._set_dac, i))\n",
    "            \n",
    "    def _get_M1b_R_in(self):\n",
    "        if self.M1b_mode() == 'low_noise':\n",
    "            return 2e3 + 1e-3 * self.M1b_gain()\n",
    "        elif self.M1b_mode() == 'low_R_in':\n",
    "            return 2e3 + 1e-4 * self.M1b_gain()\n",
    "            \n",
    "    def _get_dac(self, ch):\n",
    "        if ch == 6:\n",
    "            return self.ivvi.set('dac{}'.format(ch)) * 1e-3 * self.gate_multiplier()\n",
    "        else:\n",
    "            return self.ivvi.get('dac{}'.format(ch)) * 1e-3 * self.voltage_multiplier()\n",
    "    \n",
    "    def _set_dac(self, ch, val):\n",
    "        if ch == 3:\n",
    "            return self.ivvi.set('dac{}'.format(ch), val * 1e3 / self.gate_multiplier())\n",
    "        else:\n",
    "            return self.ivvi.set('dac{}'.format(ch), val * 1e3 / self.voltage_multiplier())\n",
    "    \n"
   ]
  },
  {
   "cell_type": "code",
   "execution_count": 18,
   "metadata": {},
   "outputs": [],
   "source": [
    "ivvi_setup = create_inst(IVVISetup, 'ivvi_setup', ivvi=ivvi, force_new_instance=True)\n",
    "ivvi_setup.voltage_multiplier(10e-3)\n",
    "#ivvi_setup.voltage_multiplier(100e-9)\n",
    "ivvi_setup.gate_multiplier(15)"
   ]
  },
  {
   "cell_type": "code",
   "execution_count": 61,
   "metadata": {
    "collapsed": true
   },
   "outputs": [],
   "source": [
    "ivvi_setup.dac3(-6.5)\n",
    "ivvi.dac6(50)\n",
    "ivvi.dac7(-400)"
   ]
  },
  {
   "cell_type": "code",
   "execution_count": 42,
   "metadata": {},
   "outputs": [],
   "source": []
  },
  {
   "cell_type": "code",
   "execution_count": 39,
   "metadata": {
    "collapsed": true
   },
   "outputs": [],
   "source": [
    "plungers = np.linspace(-400, 200, 101)"
   ]
  },
  {
   "cell_type": "code",
   "execution_count": null,
   "metadata": {
    "collapsed": true
   },
   "outputs": [],
   "source": [
    "SAMPLE = 'Frank'"
   ]
  },
  {
   "cell_type": "code",
   "execution_count": 19,
   "metadata": {},
   "outputs": [
    {
     "name": "stderr",
     "output_type": "stream",
     "text": [
      "d:\\code\\qcodes\\qcodes\\instrument_drivers\\AlazarTech\\ATS.py:564: UserWarning: Using Internal clock but parameter external_sample_rate is set.This will have no effect and is ignored\n",
      "  warnings.warn(\"Using Internal clock but parameter external_sample_rate is set.\"\n"
     ]
    }
   ],
   "source": [
    "with alazar.syncing():\n",
    "    alazar.clock_source('INTERNAL_CLOCK')\n",
    "    alazar.sample_rate(int(0.2e9))\n",
    "    alazar.clock_edge('CLOCK_EDGE_RISING')\n",
    "    alazar.external_sample_rate(int(1e9))\n",
    "    alazar.decimation(1)\n",
    "    alazar.coupling1('DC')\n",
    "    alazar.coupling2('DC')\n",
    "    alazar.channel_range1(0.4)\n",
    "    alazar.channel_range2(0.4)\n",
    "    alazar.impedance1(50)\n",
    "    alazar.impedance2(50)\n",
    "    alazar.trigger_source1('EXTERNAL')\n",
    "    alazar.trigger_level1(128 + 20)\n",
    "    alazar.external_trigger_coupling('DC')\n",
    "    alazar.external_trigger_range('ETR_2V5')\n",
    "    alazar.trigger_delay(0)\n",
    "    alazar.timeout_ticks(int(1e7))"
   ]
  },
  {
   "cell_type": "markdown",
   "metadata": {},
   "source": [
    "### Software sweep"
   ]
  },
  {
   "cell_type": "code",
   "execution_count": 18,
   "metadata": {
    "collapsed": true
   },
   "outputs": [],
   "source": [
    "ivvi_setup.dac3(-6.5)\n",
    "ivvi.dac6(50)\n",
    "ivvi.dac7(-400)\n",
    "\n",
    "plungers = np.linspace(-400, -50, 101)"
   ]
  },
  {
   "cell_type": "code",
   "execution_count": 63,
   "metadata": {
    "collapsed": true
   },
   "outputs": [],
   "source": [
    "hetsrc.frequency(2.33e8)\n",
    "hetsrc.IF(50e6)\n",
    "hetsrc.RF.on()\n",
    "hetsrc.LO.on()\n",
    "hetsrc.RF.power(-40)\n",
    "hetsrc.LO.power(10)"
   ]
  },
  {
   "cell_type": "code",
   "execution_count": 86,
   "metadata": {
    "collapsed": true
   },
   "outputs": [],
   "source": [
    "hetsrc.IF(1e6)"
   ]
  },
  {
   "cell_type": "code",
   "execution_count": 85,
   "metadata": {
    "collapsed": true
   },
   "outputs": [],
   "source": [
    "hetsrc.RF.power(-40)\n",
    "hetsrc.LO.power(10)"
   ]
  },
  {
   "cell_type": "code",
   "execution_count": 91,
   "metadata": {
    "collapsed": true
   },
   "outputs": [],
   "source": [
    "hetsrc.frequency(2.3e8)"
   ]
  },
  {
   "cell_type": "code",
   "execution_count": 90,
   "metadata": {},
   "outputs": [
    {
     "name": "stderr",
     "output_type": "stream",
     "text": [
      "No ro_gate defined in channel map. No readout gate pulse will be generated.\n",
      "No src_gate defined in channel map. No src gate pulse will be generated.\n"
     ]
    },
    {
     "name": "stdout",
     "output_type": "stream",
     "text": [
      "Instrument sequence already exists.\n",
      "Instrument detector already exists.\n",
      "Waveforms done\n",
      "['wfm_1_1_1']\n",
      "True debug\n",
      "[['wfm_1_1_1']]\n",
      "Starting experimental run with id: 567\n"
     ]
    },
    {
     "ename": "KeyboardInterrupt",
     "evalue": "",
     "output_type": "error",
     "traceback": [
      "\u001b[1;31m---------------------------------------------------------------------------\u001b[0m",
      "\u001b[1;31mKeyboardInterrupt\u001b[0m                         Traceback (most recent call last)",
      "\u001b[1;32m<ipython-input-90-84499d1368cf>\u001b[0m in \u001b[0;36m<module>\u001b[1;34m()\u001b[0m\n\u001b[0;32m     74\u001b[0m             \u001b[0mtime\u001b[0m\u001b[1;33m.\u001b[0m\u001b[0msleep\u001b[0m\u001b[1;33m(\u001b[0m\u001b[1;36m0.01\u001b[0m\u001b[1;33m)\u001b[0m\u001b[1;33m\u001b[0m\u001b[0m\n\u001b[0;32m     75\u001b[0m \u001b[1;33m\u001b[0m\u001b[0m\n\u001b[1;32m---> 76\u001b[1;33m             \u001b[0mdetector\u001b[0m\u001b[1;33m.\u001b[0m\u001b[0macquisition\u001b[0m\u001b[1;33m(\u001b[0m\u001b[1;33m)\u001b[0m \u001b[1;31m# this gets the data from the alazar\u001b[0m\u001b[1;33m\u001b[0m\u001b[0m\n\u001b[0m\u001b[0;32m     77\u001b[0m             \u001b[0mdatasaver\u001b[0m\u001b[1;33m.\u001b[0m\u001b[0madd_result\u001b[0m\u001b[1;33m(\u001b[0m\u001b[1;33m*\u001b[0m\u001b[0mmeas\u001b[0m\u001b[1;33m.\u001b[0m\u001b[0mget_result\u001b[0m\u001b[1;33m(\u001b[0m\u001b[1;33m)\u001b[0m\u001b[1;33m)\u001b[0m \u001b[1;31m# this adds all data to the datasaver.\u001b[0m\u001b[1;33m\u001b[0m\u001b[0m\n",
      "\u001b[1;32md:\\code\\qcodes\\qcodes\\instrument\\parameter.py\u001b[0m in \u001b[0;36m__call__\u001b[1;34m(self, *args, **kwargs)\u001b[0m\n\u001b[0;32m    277\u001b[0m         \u001b[1;32mif\u001b[0m \u001b[0mlen\u001b[0m\u001b[1;33m(\u001b[0m\u001b[0margs\u001b[0m\u001b[1;33m)\u001b[0m \u001b[1;33m==\u001b[0m \u001b[1;36m0\u001b[0m\u001b[1;33m:\u001b[0m\u001b[1;33m\u001b[0m\u001b[0m\n\u001b[0;32m    278\u001b[0m             \u001b[1;32mif\u001b[0m \u001b[0mhasattr\u001b[0m\u001b[1;33m(\u001b[0m\u001b[0mself\u001b[0m\u001b[1;33m,\u001b[0m \u001b[1;34m'get'\u001b[0m\u001b[1;33m)\u001b[0m\u001b[1;33m:\u001b[0m\u001b[1;33m\u001b[0m\u001b[0m\n\u001b[1;32m--> 279\u001b[1;33m                 \u001b[1;32mreturn\u001b[0m \u001b[0mself\u001b[0m\u001b[1;33m.\u001b[0m\u001b[0mget\u001b[0m\u001b[1;33m(\u001b[0m\u001b[1;33m)\u001b[0m\u001b[1;33m\u001b[0m\u001b[0m\n\u001b[0m\u001b[0;32m    280\u001b[0m             \u001b[1;32melse\u001b[0m\u001b[1;33m:\u001b[0m\u001b[1;33m\u001b[0m\u001b[0m\n\u001b[0;32m    281\u001b[0m                 raise NotImplementedError('no get cmd found in' +\n",
      "\u001b[1;32md:\\code\\qcodes\\qcodes\\instrument\\parameter.py\u001b[0m in \u001b[0;36mget_wrapper\u001b[1;34m(*args, **kwargs)\u001b[0m\n\u001b[0;32m    356\u001b[0m             \u001b[1;32mtry\u001b[0m\u001b[1;33m:\u001b[0m\u001b[1;33m\u001b[0m\u001b[0m\n\u001b[0;32m    357\u001b[0m                 \u001b[1;31m# There might be cases where a .get also has args/kwargs\u001b[0m\u001b[1;33m\u001b[0m\u001b[1;33m\u001b[0m\u001b[0m\n\u001b[1;32m--> 358\u001b[1;33m                 \u001b[0mvalue\u001b[0m \u001b[1;33m=\u001b[0m \u001b[0mget_function\u001b[0m\u001b[1;33m(\u001b[0m\u001b[1;33m*\u001b[0m\u001b[0margs\u001b[0m\u001b[1;33m,\u001b[0m \u001b[1;33m**\u001b[0m\u001b[0mkwargs\u001b[0m\u001b[1;33m)\u001b[0m\u001b[1;33m\u001b[0m\u001b[0m\n\u001b[0m\u001b[0;32m    359\u001b[0m                 \u001b[0mself\u001b[0m\u001b[1;33m.\u001b[0m\u001b[0mraw_value\u001b[0m \u001b[1;33m=\u001b[0m \u001b[0mvalue\u001b[0m\u001b[1;33m\u001b[0m\u001b[0m\n\u001b[0;32m    360\u001b[0m \u001b[1;33m\u001b[0m\u001b[0m\n",
      "\u001b[1;32md:\\code\\qcodes\\qcodes\\utils\\command.py\u001b[0m in \u001b[0;36m__call__\u001b[1;34m(self, *args)\u001b[0m\n\u001b[0;32m    175\u001b[0m             raise TypeError(\n\u001b[0;32m    176\u001b[0m                 'command takes exactly {} args'.format(self.arg_count))\n\u001b[1;32m--> 177\u001b[1;33m         \u001b[1;32mreturn\u001b[0m \u001b[0mself\u001b[0m\u001b[1;33m.\u001b[0m\u001b[0mexec_function\u001b[0m\u001b[1;33m(\u001b[0m\u001b[1;33m*\u001b[0m\u001b[0margs\u001b[0m\u001b[1;33m)\u001b[0m\u001b[1;33m\u001b[0m\u001b[0m\n\u001b[0m",
      "\u001b[1;32md:\\code\\pytopo\\pytopo\\rf\\alazar_detector.py\u001b[0m in \u001b[0;36mdo_acquisition\u001b[1;34m(self)\u001b[0m\n\u001b[0;32m     90\u001b[0m \u001b[1;33m\u001b[0m\u001b[0m\n\u001b[0;32m     91\u001b[0m     \u001b[1;32mdef\u001b[0m \u001b[0mdo_acquisition\u001b[0m\u001b[1;33m(\u001b[0m\u001b[0mself\u001b[0m\u001b[1;33m)\u001b[0m\u001b[1;33m:\u001b[0m\u001b[1;33m\u001b[0m\u001b[0m\n\u001b[1;32m---> 92\u001b[1;33m         \u001b[0mdata\u001b[0m \u001b[1;33m=\u001b[0m \u001b[0msuper\u001b[0m\u001b[1;33m(\u001b[0m\u001b[1;33m)\u001b[0m\u001b[1;33m.\u001b[0m\u001b[0mdo_acquisition\u001b[0m\u001b[1;33m(\u001b[0m\u001b[1;33m)\u001b[0m\u001b[1;33m\u001b[0m\u001b[0m\n\u001b[0m\u001b[0;32m     93\u001b[0m \u001b[1;33m\u001b[0m\u001b[0m\n\u001b[0;32m     94\u001b[0m         \u001b[1;32mif\u001b[0m \u001b[0mself\u001b[0m\u001b[1;33m.\u001b[0m\u001b[0mavg_buffers\u001b[0m\u001b[1;33m(\u001b[0m\u001b[1;33m)\u001b[0m \u001b[1;32mand\u001b[0m \u001b[1;34m'buffers'\u001b[0m \u001b[1;32min\u001b[0m \u001b[0mself\u001b[0m\u001b[1;33m.\u001b[0m\u001b[0macqctl\u001b[0m\u001b[1;33m.\u001b[0m\u001b[0mdata_dims\u001b[0m\u001b[1;33m(\u001b[0m\u001b[1;33m)\u001b[0m\u001b[1;33m:\u001b[0m\u001b[1;33m\u001b[0m\u001b[0m\n",
      "\u001b[1;32md:\\code\\pytopo\\pytopo\\rf\\alazar_detector.py\u001b[0m in \u001b[0;36mdo_acquisition\u001b[1;34m(self)\u001b[0m\n\u001b[0;32m     48\u001b[0m \u001b[1;33m\u001b[0m\u001b[0m\n\u001b[0;32m     49\u001b[0m     \u001b[1;32mdef\u001b[0m \u001b[0mdo_acquisition\u001b[0m\u001b[1;33m(\u001b[0m\u001b[0mself\u001b[0m\u001b[1;33m)\u001b[0m\u001b[1;33m:\u001b[0m\u001b[1;33m\u001b[0m\u001b[0m\n\u001b[1;32m---> 50\u001b[1;33m         \u001b[0mdata\u001b[0m \u001b[1;33m=\u001b[0m \u001b[0mself\u001b[0m\u001b[1;33m.\u001b[0m\u001b[0macqctl\u001b[0m\u001b[1;33m.\u001b[0m\u001b[0macquisition\u001b[0m\u001b[1;33m(\u001b[0m\u001b[1;33m)\u001b[0m\u001b[1;33m\u001b[0m\u001b[0m\n\u001b[0m\u001b[0;32m     51\u001b[0m         \u001b[0mself\u001b[0m\u001b[1;33m.\u001b[0m\u001b[0msetup\u001b[0m\u001b[1;33m(\u001b[0m\u001b[1;33m)\u001b[0m\u001b[1;33m\u001b[0m\u001b[0m\n\u001b[0;32m     52\u001b[0m \u001b[1;33m\u001b[0m\u001b[0m\n",
      "\u001b[1;32md:\\code\\qcodes\\qcodes\\instrument\\parameter.py\u001b[0m in \u001b[0;36m__call__\u001b[1;34m(self, *args, **kwargs)\u001b[0m\n\u001b[0;32m    277\u001b[0m         \u001b[1;32mif\u001b[0m \u001b[0mlen\u001b[0m\u001b[1;33m(\u001b[0m\u001b[0margs\u001b[0m\u001b[1;33m)\u001b[0m \u001b[1;33m==\u001b[0m \u001b[1;36m0\u001b[0m\u001b[1;33m:\u001b[0m\u001b[1;33m\u001b[0m\u001b[0m\n\u001b[0;32m    278\u001b[0m             \u001b[1;32mif\u001b[0m \u001b[0mhasattr\u001b[0m\u001b[1;33m(\u001b[0m\u001b[0mself\u001b[0m\u001b[1;33m,\u001b[0m \u001b[1;34m'get'\u001b[0m\u001b[1;33m)\u001b[0m\u001b[1;33m:\u001b[0m\u001b[1;33m\u001b[0m\u001b[0m\n\u001b[1;32m--> 279\u001b[1;33m                 \u001b[1;32mreturn\u001b[0m \u001b[0mself\u001b[0m\u001b[1;33m.\u001b[0m\u001b[0mget\u001b[0m\u001b[1;33m(\u001b[0m\u001b[1;33m)\u001b[0m\u001b[1;33m\u001b[0m\u001b[0m\n\u001b[0m\u001b[0;32m    280\u001b[0m             \u001b[1;32melse\u001b[0m\u001b[1;33m:\u001b[0m\u001b[1;33m\u001b[0m\u001b[0m\n\u001b[0;32m    281\u001b[0m                 raise NotImplementedError('no get cmd found in' +\n",
      "\u001b[1;32md:\\code\\qcodes\\qcodes\\instrument\\parameter.py\u001b[0m in \u001b[0;36mget_wrapper\u001b[1;34m(*args, **kwargs)\u001b[0m\n\u001b[0;32m    356\u001b[0m             \u001b[1;32mtry\u001b[0m\u001b[1;33m:\u001b[0m\u001b[1;33m\u001b[0m\u001b[0m\n\u001b[0;32m    357\u001b[0m                 \u001b[1;31m# There might be cases where a .get also has args/kwargs\u001b[0m\u001b[1;33m\u001b[0m\u001b[1;33m\u001b[0m\u001b[0m\n\u001b[1;32m--> 358\u001b[1;33m                 \u001b[0mvalue\u001b[0m \u001b[1;33m=\u001b[0m \u001b[0mget_function\u001b[0m\u001b[1;33m(\u001b[0m\u001b[1;33m*\u001b[0m\u001b[0margs\u001b[0m\u001b[1;33m,\u001b[0m \u001b[1;33m**\u001b[0m\u001b[0mkwargs\u001b[0m\u001b[1;33m)\u001b[0m\u001b[1;33m\u001b[0m\u001b[0m\n\u001b[0m\u001b[0;32m    359\u001b[0m                 \u001b[0mself\u001b[0m\u001b[1;33m.\u001b[0m\u001b[0mraw_value\u001b[0m \u001b[1;33m=\u001b[0m \u001b[0mvalue\u001b[0m\u001b[1;33m\u001b[0m\u001b[0m\n\u001b[0;32m    360\u001b[0m \u001b[1;33m\u001b[0m\u001b[0m\n",
      "\u001b[1;32md:\\code\\qcodes\\qcodes\\utils\\command.py\u001b[0m in \u001b[0;36m__call__\u001b[1;34m(self, *args)\u001b[0m\n\u001b[0;32m    175\u001b[0m             raise TypeError(\n\u001b[0;32m    176\u001b[0m                 'command takes exactly {} args'.format(self.arg_count))\n\u001b[1;32m--> 177\u001b[1;33m         \u001b[1;32mreturn\u001b[0m \u001b[0mself\u001b[0m\u001b[1;33m.\u001b[0m\u001b[0mexec_function\u001b[0m\u001b[1;33m(\u001b[0m\u001b[1;33m*\u001b[0m\u001b[0margs\u001b[0m\u001b[1;33m)\u001b[0m\u001b[1;33m\u001b[0m\u001b[0m\n\u001b[0m",
      "\u001b[1;32md:\\code\\pytopo\\pytopo\\rf\\alazar_acquisition.py\u001b[0m in \u001b[0;36mdo_acquisition\u001b[1;34m(self)\u001b[0m\n\u001b[0;32m    125\u001b[0m     \u001b[1;32mdef\u001b[0m \u001b[0mdo_acquisition\u001b[0m\u001b[1;33m(\u001b[0m\u001b[0mself\u001b[0m\u001b[1;33m)\u001b[0m\u001b[1;33m:\u001b[0m\u001b[1;33m\u001b[0m\u001b[0m\n\u001b[0;32m    126\u001b[0m         \u001b[1;32mif\u001b[0m \u001b[0mself\u001b[0m\u001b[1;33m.\u001b[0m\u001b[0m_alazar\u001b[0m \u001b[1;32mis\u001b[0m \u001b[1;32mnot\u001b[0m \u001b[1;32mNone\u001b[0m\u001b[1;33m:\u001b[0m\u001b[1;33m\u001b[0m\u001b[0m\n\u001b[1;32m--> 127\u001b[1;33m             \u001b[0mvalue\u001b[0m \u001b[1;33m=\u001b[0m \u001b[0mself\u001b[0m\u001b[1;33m.\u001b[0m\u001b[0m_get_alazar\u001b[0m\u001b[1;33m(\u001b[0m\u001b[1;33m)\u001b[0m\u001b[1;33m.\u001b[0m\u001b[0macquire\u001b[0m\u001b[1;33m(\u001b[0m\u001b[0macquisition_controller\u001b[0m\u001b[1;33m=\u001b[0m\u001b[0mself\u001b[0m\u001b[1;33m,\u001b[0m \u001b[1;33m**\u001b[0m\u001b[0mself\u001b[0m\u001b[1;33m.\u001b[0m\u001b[0macquisitionkwargs\u001b[0m\u001b[1;33m)\u001b[0m\u001b[1;33m\u001b[0m\u001b[0m\n\u001b[0m\u001b[0;32m    128\u001b[0m         \u001b[1;32melse\u001b[0m\u001b[1;33m:\u001b[0m\u001b[1;33m\u001b[0m\u001b[0m\n\u001b[0;32m    129\u001b[0m             \u001b[0mvalue\u001b[0m \u001b[1;33m=\u001b[0m \u001b[1;32mNone\u001b[0m\u001b[1;33m\u001b[0m\u001b[0m\n",
      "\u001b[1;32md:\\code\\qcodes\\qcodes\\instrument_drivers\\AlazarTech\\ATS.py\u001b[0m in \u001b[0;36macquire\u001b[1;34m(self, mode, samples_per_record, records_per_buffer, buffers_per_acquisition, channel_selection, transfer_offset, external_startcapture, enable_record_headers, alloc_buffers, fifo_only_streaming, interleave_samples, get_processed_data, allocated_buffers, buffer_timeout, acquisition_controller)\u001b[0m\n\u001b[0;32m    804\u001b[0m \u001b[1;33m\u001b[0m\u001b[0m\n\u001b[0;32m    805\u001b[0m             \u001b[1;31m# -----start capture here-----\u001b[0m\u001b[1;33m\u001b[0m\u001b[1;33m\u001b[0m\u001b[0m\n\u001b[1;32m--> 806\u001b[1;33m             \u001b[0macquisition_controller\u001b[0m\u001b[1;33m.\u001b[0m\u001b[0mpre_start_capture\u001b[0m\u001b[1;33m(\u001b[0m\u001b[1;33m)\u001b[0m\u001b[1;33m\u001b[0m\u001b[0m\n\u001b[0m\u001b[0;32m    807\u001b[0m             \u001b[0mstart\u001b[0m \u001b[1;33m=\u001b[0m \u001b[0mtime\u001b[0m\u001b[1;33m.\u001b[0m\u001b[0mclock\u001b[0m\u001b[1;33m(\u001b[0m\u001b[1;33m)\u001b[0m  \u001b[1;31m# Keep track of when acquisition started\u001b[0m\u001b[1;33m\u001b[0m\u001b[0m\n\u001b[0;32m    808\u001b[0m             \u001b[1;31m# call the startcapture method\u001b[0m\u001b[1;33m\u001b[0m\u001b[1;33m\u001b[0m\u001b[0m\n",
      "\u001b[1;32md:\\code\\pytopo\\pytopo\\rf\\alazar_acquisition.py\u001b[0m in \u001b[0;36mpre_start_capture\u001b[1;34m(self)\u001b[0m\n\u001b[0;32m    217\u001b[0m \u001b[1;33m\u001b[0m\u001b[0m\n\u001b[0;32m    218\u001b[0m     \u001b[1;32mdef\u001b[0m \u001b[0mpre_start_capture\u001b[0m\u001b[1;33m(\u001b[0m\u001b[0mself\u001b[0m\u001b[1;33m)\u001b[0m\u001b[1;33m:\u001b[0m\u001b[1;33m\u001b[0m\u001b[0m\n\u001b[1;32m--> 219\u001b[1;33m         \u001b[0msuper\u001b[0m\u001b[1;33m(\u001b[0m\u001b[1;33m)\u001b[0m\u001b[1;33m.\u001b[0m\u001b[0mpre_start_capture\u001b[0m\u001b[1;33m(\u001b[0m\u001b[1;33m)\u001b[0m\u001b[1;33m\u001b[0m\u001b[0m\n\u001b[0m\u001b[0;32m    220\u001b[0m         self.data = np.zeros((\n\u001b[0;32m    221\u001b[0m             \u001b[0mself\u001b[0m\u001b[1;33m.\u001b[0m\u001b[0mrecords_per_buffer\u001b[0m\u001b[1;33m(\u001b[0m\u001b[1;33m)\u001b[0m\u001b[1;33m,\u001b[0m\u001b[1;33m\u001b[0m\u001b[0m\n",
      "\u001b[1;32md:\\code\\pytopo\\pytopo\\rf\\alazar_acquisition.py\u001b[0m in \u001b[0;36mpre_start_capture\u001b[1;34m(self)\u001b[0m\n\u001b[0;32m     89\u001b[0m \u001b[1;33m\u001b[0m\u001b[0m\n\u001b[0;32m     90\u001b[0m         \u001b[1;32mif\u001b[0m \u001b[0mself\u001b[0m\u001b[1;33m.\u001b[0m\u001b[0mdo_allocate_data\u001b[0m\u001b[1;33m:\u001b[0m\u001b[1;33m\u001b[0m\u001b[0m\n\u001b[1;32m---> 91\u001b[1;33m             \u001b[0mself\u001b[0m\u001b[1;33m.\u001b[0m\u001b[0mallocate_data\u001b[0m\u001b[1;33m(\u001b[0m\u001b[1;33m)\u001b[0m\u001b[1;33m\u001b[0m\u001b[0m\n\u001b[0m\u001b[0;32m     92\u001b[0m \u001b[1;33m\u001b[0m\u001b[0m\n\u001b[0;32m     93\u001b[0m         \u001b[0mself\u001b[0m\u001b[1;33m.\u001b[0m\u001b[0mhandling_times\u001b[0m \u001b[1;33m=\u001b[0m \u001b[0mnp\u001b[0m\u001b[1;33m.\u001b[0m\u001b[0mzeros\u001b[0m\u001b[1;33m(\u001b[0m\u001b[0mself\u001b[0m\u001b[1;33m.\u001b[0m\u001b[0mbuffers_per_acquisition\u001b[0m\u001b[1;33m(\u001b[0m\u001b[1;33m)\u001b[0m\u001b[1;33m,\u001b[0m \u001b[0mdtype\u001b[0m\u001b[1;33m=\u001b[0m\u001b[0mnp\u001b[0m\u001b[1;33m.\u001b[0m\u001b[0mfloat64\u001b[0m\u001b[1;33m)\u001b[0m\u001b[1;33m\u001b[0m\u001b[0m\n",
      "\u001b[1;32md:\\code\\pytopo\\pytopo\\rf\\alazar_acquisition.py\u001b[0m in \u001b[0;36mallocate_data\u001b[1;34m(self)\u001b[0m\n\u001b[0;32m     73\u001b[0m     \u001b[1;32mdef\u001b[0m \u001b[0mallocate_data\u001b[0m\u001b[1;33m(\u001b[0m\u001b[0mself\u001b[0m\u001b[1;33m)\u001b[0m\u001b[1;33m:\u001b[0m\u001b[1;33m\u001b[0m\u001b[0m\n\u001b[0;32m     74\u001b[0m         \u001b[0malazar\u001b[0m \u001b[1;33m=\u001b[0m \u001b[0mself\u001b[0m\u001b[1;33m.\u001b[0m\u001b[0m_get_alazar\u001b[0m\u001b[1;33m(\u001b[0m\u001b[1;33m)\u001b[0m\u001b[1;33m\u001b[0m\u001b[0m\n\u001b[1;32m---> 75\u001b[1;33m         \u001b[0mself\u001b[0m\u001b[1;33m.\u001b[0m\u001b[0mtvals\u001b[0m \u001b[1;33m=\u001b[0m \u001b[0mnp\u001b[0m\u001b[1;33m.\u001b[0m\u001b[0marange\u001b[0m\u001b[1;33m(\u001b[0m\u001b[0mself\u001b[0m\u001b[1;33m.\u001b[0m\u001b[0msamples_per_record\u001b[0m\u001b[1;33m(\u001b[0m\u001b[1;33m)\u001b[0m\u001b[1;33m,\u001b[0m \u001b[0mdtype\u001b[0m\u001b[1;33m=\u001b[0m\u001b[0mnp\u001b[0m\u001b[1;33m.\u001b[0m\u001b[0mfloat32\u001b[0m\u001b[1;33m)\u001b[0m \u001b[1;33m/\u001b[0m \u001b[0malazar\u001b[0m\u001b[1;33m.\u001b[0m\u001b[0msample_rate\u001b[0m\u001b[1;33m(\u001b[0m\u001b[1;33m)\u001b[0m\u001b[1;33m\u001b[0m\u001b[0m\n\u001b[0m\u001b[0;32m     76\u001b[0m         \u001b[0mself\u001b[0m\u001b[1;33m.\u001b[0m\u001b[0mdata\u001b[0m \u001b[1;33m=\u001b[0m \u001b[0mnp\u001b[0m\u001b[1;33m.\u001b[0m\u001b[0mzeros\u001b[0m\u001b[1;33m(\u001b[0m\u001b[0mself\u001b[0m\u001b[1;33m.\u001b[0m\u001b[0mdata_shape\u001b[0m\u001b[1;33m(\u001b[0m\u001b[1;33m)\u001b[0m\u001b[1;33m,\u001b[0m \u001b[0mdtype\u001b[0m\u001b[1;33m=\u001b[0m\u001b[0mself\u001b[0m\u001b[1;33m.\u001b[0m\u001b[0m_datadtype\u001b[0m\u001b[1;33m)\u001b[0m\u001b[1;33m\u001b[0m\u001b[0m\n\u001b[0;32m     77\u001b[0m \u001b[1;33m\u001b[0m\u001b[0m\n",
      "\u001b[1;31mKeyboardInterrupt\u001b[0m: "
     ]
    }
   ],
   "source": [
    "### User settings\n",
    "\n",
    "rf_frqs = np.linspace(150e6, 250e6, 201)[:] # spec frequencies\n",
    "plungervals = np.linspace(0, 400, 101)\n",
    "# ro_atts = np.arange(26, 42, 2)\n",
    "setup_awg = True\n",
    "int_time = 0.1e-3\n",
    "buffer_len = 100e-6\n",
    "\n",
    "\n",
    "### End User settings\n",
    "\n",
    "\n",
    "### Setting up instruments\n",
    "\n",
    "# set IQ acquisition controller\n",
    "acq = avgiq_acq\n",
    "acq.trigger_func = None\n",
    "\n",
    "# create new instance of sequence and detector\n",
    "sequence = create_inst(TriggeredReadoutSequence, 'sequence', awg=awg, force_new_instance=True)\n",
    "station = add2station(station, sequence)\n",
    "detector = create_inst(AlazarDetector, name='detector', acqctl=acq, force_new_instance=True)\n",
    "station = add2station(station, detector)\n",
    "\n",
    "# configure the sequence parameters\n",
    "sequence.pre_trigger_delay(1e-6) # some delay at the beginning\n",
    "sequence.trigger_len(100e-9) # short trigger for the alazar\n",
    "sequence.seq_len(10e-6) # quick rep-rate is OK here\n",
    "if setup_awg:\n",
    "    sequence.setup(program_awg=True, start_awg=True) # program and start only if something else is running before\n",
    "else:\n",
    "    sequence.setup(program_awg=False, start_awg=False)\n",
    "    \n",
    "# configure the Alazar detector\n",
    "detector.set_sweeper(sequence) # set the sequence (it's just one dummy sweep-point here)\n",
    "detector.demod_frq(hetsrc.IF()) # demod frequency from the sources\n",
    "detector.acq_time(buffer_len) # not too long integration time ber buffer\n",
    "detector.configure_alazar(\n",
    "    records_per_buffer=1,\n",
    "    buffers_per_acquisition=int(int_time/buffer_len), # set averaging by choosing the number of buffers\n",
    ")\n",
    "detector.setup() # this makes sure all params are set correctly\n",
    "\n",
    "### Set up the measurement info\n",
    "exp = select_experiment('resonator_spec', 'dev48') # select experiment (info for the database)\n",
    "\n",
    "# need to make sure the sweep is correctly described in the beginning!\n",
    "meas = MeasurementExt(station, exp=exp, \n",
    "                      hard_sweep_detector=detector,\n",
    "                      soft_sweep_params=[\n",
    "                          hetsrc.frequency,\n",
    "                          ivvi.dac7\n",
    "#                           ro_attenuator.attenuation,\n",
    "                      ],\n",
    "                     )\n",
    "\n",
    "#meas.register_parameter(ivvi.dac7)\n",
    "# and finally, the measurement loop\n",
    "meas.write_period = 2 # how often to write to the DB [s]\n",
    "with meas.run() as datasaver:\n",
    "    \n",
    "    # this is to connect the database to the plottr.\n",
    "    plot_subscriber = QcodesDatasetSubscriber(datasaver.dataset)\n",
    "    datasaver.dataset.subscribe(plot_subscriber, state=[])\n",
    "    \n",
    "    # the loop itself is trivial\n",
    "#     for att in ro_atts:\n",
    "#         ro_attenuator.attenuation(att)\n",
    "    for p in plungervals:\n",
    "        ivvi.dac7(p)\n",
    "        for f in rf_frqs:\n",
    "            hetsrc.frequency(f)\n",
    "            time.sleep(0.01)\n",
    "\n",
    "            detector.acquisition() # this gets the data from the alazar\n",
    "            datasaver.add_result(*meas.get_result()) # this adds all data to the datasaver."
   ]
  },
  {
   "cell_type": "code",
   "execution_count": 28,
   "metadata": {},
   "outputs": [
    {
     "name": "stdout",
     "output_type": "stream",
     "text": [
      "Connected to: YOKOGAWA GS210 (serial:91T926459, firmware:2.02) in 0.06s\n"
     ]
    }
   ],
   "source": [
    "from qcodes.instrument_drivers.yokogawa.GS200 import GS200\n",
    "yoko = create_inst(GS200, \"yoko\", \"GPIB0::1::INSTR\")"
   ]
  },
  {
   "cell_type": "code",
   "execution_count": 31,
   "metadata": {},
   "outputs": [],
   "source": [
    "yoko.voltage_range(0.01)\n",
    "yoko.voltage(0)\n",
    "yoko.current_limit(1e-3)\n",
    "yoko.on()"
   ]
  },
  {
   "cell_type": "code",
   "execution_count": 92,
   "metadata": {},
   "outputs": [
    {
     "name": "stderr",
     "output_type": "stream",
     "text": [
      "No ro_gate defined in channel map. No readout gate pulse will be generated.\n",
      "No src_gate defined in channel map. No src gate pulse will be generated.\n"
     ]
    },
    {
     "name": "stdout",
     "output_type": "stream",
     "text": [
      "Instrument sequence already exists.\n",
      "Instrument detector already exists.\n",
      "Waveforms done\n",
      "['wfm_1_1_1']\n",
      "True debug\n",
      "[['wfm_1_1_1']]\n",
      "Starting experimental run with id: 568\n"
     ]
    }
   ],
   "source": [
    "biasvals = np.linspace(-400e-6, 400e-6, 101)\n",
    "plungervals = np.linspace(-1200, 600, 101)\n",
    "\n",
    "setup_awg = True\n",
    "int_time = 0.1e-3\n",
    "buffer_len = 100e-6\n",
    "\n",
    "hetsrc.frequency(233e6)\n",
    "### End User settings\n",
    "\n",
    "\n",
    "### Setting up instruments\n",
    "\n",
    "# set IQ acquisition controller\n",
    "acq = avgiq_acq\n",
    "acq.trigger_func = None\n",
    "\n",
    "# create new instance of sequence and detector\n",
    "sequence = create_inst(TriggeredReadoutSequence, 'sequence', awg=awg, force_new_instance=True)\n",
    "station = add2station(station, sequence)\n",
    "detector = create_inst(AlazarDetector, name='detector', acqctl=acq, force_new_instance=True)\n",
    "station = add2station(station, detector)\n",
    "\n",
    "# configure the sequence parameters\n",
    "sequence.pre_trigger_delay(1e-6) # some delay at the beginning\n",
    "sequence.trigger_len(100e-9) # short trigger for the alazar\n",
    "sequence.seq_len(10e-6) # quick rep-rate is OK here\n",
    "if setup_awg:\n",
    "    sequence.setup(program_awg=True, start_awg=True) # program and start only if something else is running before\n",
    "else:\n",
    "    sequence.setup(program_awg=False, start_awg=False)\n",
    "    \n",
    "# configure the Alazar detector\n",
    "detector.set_sweeper(sequence) # set the sequence (it's just one dummy sweep-point here)\n",
    "detector.demod_frq(hetsrc.IF()) # demod frequency from the sources\n",
    "detector.acq_time(buffer_len) # not too long integration time ber buffer\n",
    "detector.configure_alazar(\n",
    "    records_per_buffer=1,\n",
    "    buffers_per_acquisition=int(int_time/buffer_len), # set averaging by choosing the number of buffers\n",
    ")\n",
    "detector.setup() # this makes sure all params are set correctly\n",
    "\n",
    "### Set up the measurement info\n",
    "exp = select_experiment('V0_0113A', 'dev48') # select experiment (info for the database)\n",
    "\n",
    "# need to make sure the sweep is correctly described in the beginning!\n",
    "meas = MeasurementExt(station, exp=exp, \n",
    "                      hard_sweep_detector=detector,\n",
    "                      soft_sweep_params=[\n",
    "                          yoko.voltage,\n",
    "                          ivvi.dac7\n",
    "#                           ro_attenuator.attenuation,\n",
    "                      ],\n",
    "                     )\n",
    "\n",
    "#meas.register_parameter(ivvi.dac7)\n",
    "# and finally, the measurement loop\n",
    "meas.write_period = 2 # how often to write to the DB [s]\n",
    "with meas.run() as datasaver:\n",
    "    \n",
    "    # this is to connect the database to the plottr.\n",
    "    plot_subscriber = QcodesDatasetSubscriber(datasaver.dataset)\n",
    "    datasaver.dataset.subscribe(plot_subscriber, state=[])\n",
    "    \n",
    "    # the loop itself is trivial\n",
    "#     for att in ro_atts:\n",
    "#         ro_attenuator.attenuation(att)\n",
    "    for v in biasvals:\n",
    "        yoko.voltage(v)\n",
    "        for p in plungervals:\n",
    "            ivvi.dac7(p)\n",
    "        \n",
    "\n",
    "            detector.acquisition() # this gets the data from the alazar\n",
    "            datasaver.add_result(*meas.get_result()) # this adds all data to the datasaver."
   ]
  },
  {
   "cell_type": "code",
   "execution_count": 59,
   "metadata": {
    "collapsed": true
   },
   "outputs": [],
   "source": [
    "ami.field(0)"
   ]
  },
  {
   "cell_type": "markdown",
   "metadata": {
    "heading_collapsed": true
   },
   "source": [
    "### Hards sweep"
   ]
  },
  {
   "cell_type": "code",
   "execution_count": 20,
   "metadata": {
    "collapsed": true,
    "hidden": true
   },
   "outputs": [],
   "source": []
  },
  {
   "cell_type": "code",
   "execution_count": 23,
   "metadata": {
    "hidden": true
   },
   "outputs": [],
   "source": [
    "fg.ch1.state('OFF')"
   ]
  },
  {
   "cell_type": "code",
   "execution_count": 257,
   "metadata": {
    "hidden": true
   },
   "outputs": [
    {
     "name": "stdout",
     "output_type": "stream",
     "text": [
      "Instrument awg_ramp already exists.\n",
      "Instrument detector already exists.\n",
      "Waveforms done\n",
      "['wfm_1_1_1']\n",
      "True debug\n",
      "[['wfm_1_1_1']]\n"
     ]
    },
    {
     "ename": "ValueError",
     "evalue": "('-1 is invalid: must be between -0.3 and 1.55 inclusive; Parameter: awg_ch1.marker1_low', 'setting awg_ch1_marker1_low to -1')",
     "output_type": "error",
     "traceback": [
      "\u001b[1;31m---------------------------------------------------------------------------\u001b[0m",
      "\u001b[1;31mValueError\u001b[0m                                Traceback (most recent call last)",
      "\u001b[1;32m<ipython-input-257-6d5198193991>\u001b[0m in \u001b[0;36m<module>\u001b[1;34m()\u001b[0m\n\u001b[0;32m     14\u001b[0m \u001b[0msequence\u001b[0m\u001b[1;33m.\u001b[0m\u001b[0mstop_voltage\u001b[0m\u001b[1;33m(\u001b[0m\u001b[1;36m0.04\u001b[0m\u001b[1;33m)\u001b[0m\u001b[1;33m\u001b[0m\u001b[0m\n\u001b[0;32m     15\u001b[0m \u001b[0msequence\u001b[0m\u001b[1;33m.\u001b[0m\u001b[0mvoltage_points\u001b[0m\u001b[1;33m(\u001b[0m\u001b[1;36m401\u001b[0m\u001b[1;33m)\u001b[0m\u001b[1;33m\u001b[0m\u001b[0m\n\u001b[1;32m---> 16\u001b[1;33m \u001b[0msequence\u001b[0m\u001b[1;33m.\u001b[0m\u001b[0msetup\u001b[0m\u001b[1;33m(\u001b[0m\u001b[0mstart_awg\u001b[0m\u001b[1;33m=\u001b[0m\u001b[1;32mTrue\u001b[0m\u001b[1;33m)\u001b[0m\u001b[1;33m\u001b[0m\u001b[0m\n\u001b[0m\u001b[0;32m     17\u001b[0m \u001b[1;33m\u001b[0m\u001b[0m\n\u001b[0;32m     18\u001b[0m \u001b[1;31m# configure the Alazar detector\u001b[0m\u001b[1;33m\u001b[0m\u001b[1;33m\u001b[0m\u001b[0m\n",
      "\u001b[1;32m<ipython-input-222-3865385cc4d8>\u001b[0m in \u001b[0;36msetup\u001b[1;34m(self, **kw)\u001b[0m\n\u001b[0;32m     25\u001b[0m         \u001b[0mvpts\u001b[0m \u001b[1;33m=\u001b[0m \u001b[0mnp\u001b[0m\u001b[1;33m.\u001b[0m\u001b[0mlinspace\u001b[0m\u001b[1;33m(\u001b[0m\u001b[0mself\u001b[0m\u001b[1;33m.\u001b[0m\u001b[0mstart_voltage\u001b[0m\u001b[1;33m(\u001b[0m\u001b[1;33m)\u001b[0m\u001b[1;33m,\u001b[0m \u001b[0mself\u001b[0m\u001b[1;33m.\u001b[0m\u001b[0mstop_voltage\u001b[0m\u001b[1;33m(\u001b[0m\u001b[1;33m)\u001b[0m\u001b[1;33m,\u001b[0m \u001b[0mself\u001b[0m\u001b[1;33m.\u001b[0m\u001b[0mvoltage_points\u001b[0m\u001b[1;33m(\u001b[0m\u001b[1;33m)\u001b[0m\u001b[1;33m)\u001b[0m\u001b[1;33m\u001b[0m\u001b[0m\n\u001b[0;32m     26\u001b[0m         \u001b[0mself\u001b[0m\u001b[1;33m.\u001b[0m\u001b[0mvoltages\u001b[0m\u001b[1;33m(\u001b[0m\u001b[0mvpts\u001b[0m\u001b[1;33m)\u001b[0m\u001b[1;33m\u001b[0m\u001b[0m\n\u001b[1;32m---> 27\u001b[1;33m         \u001b[0msuper\u001b[0m\u001b[1;33m(\u001b[0m\u001b[1;33m)\u001b[0m\u001b[1;33m.\u001b[0m\u001b[0msetup\u001b[0m\u001b[1;33m(\u001b[0m\u001b[1;33m**\u001b[0m\u001b[0mkw\u001b[0m\u001b[1;33m)\u001b[0m\u001b[1;33m\u001b[0m\u001b[0m\n\u001b[0m\u001b[0;32m     28\u001b[0m \u001b[1;33m\u001b[0m\u001b[0m\n\u001b[0;32m     29\u001b[0m \u001b[1;33m\u001b[0m\u001b[0m\n",
      "\u001b[1;32md:\\onedrive\\bf2\\code\\cqed\\cqed\\broadbean.py\u001b[0m in \u001b[0;36msetup\u001b[1;34m(self, program_awg, start_awg, stop_awg)\u001b[0m\n\u001b[0;32m    179\u001b[0m                     \u001b[1;32mfor\u001b[0m \u001b[0mi\u001b[0m \u001b[1;32min\u001b[0m \u001b[0mrange\u001b[0m\u001b[1;33m(\u001b[0m\u001b[1;36m1\u001b[0m\u001b[1;33m,\u001b[0m \u001b[1;36m5\u001b[0m\u001b[1;33m)\u001b[0m\u001b[1;33m:\u001b[0m\u001b[1;33m\u001b[0m\u001b[0m\n\u001b[0;32m    180\u001b[0m                         \u001b[0mself\u001b[0m\u001b[1;33m.\u001b[0m\u001b[0mawg\u001b[0m\u001b[1;33m.\u001b[0m\u001b[0mchannels\u001b[0m\u001b[1;33m[\u001b[0m\u001b[0mch_no\u001b[0m\u001b[1;33m-\u001b[0m\u001b[1;36m1\u001b[0m\u001b[1;33m]\u001b[0m\u001b[1;33m.\u001b[0m\u001b[0mset\u001b[0m\u001b[1;33m(\u001b[0m\u001b[1;34m'marker{}_high'\u001b[0m\u001b[1;33m.\u001b[0m\u001b[0mformat\u001b[0m\u001b[1;33m(\u001b[0m\u001b[0mi\u001b[0m\u001b[1;33m)\u001b[0m\u001b[1;33m,\u001b[0m \u001b[0mch_set\u001b[0m\u001b[1;33m[\u001b[0m\u001b[1;34m'marker_hi'\u001b[0m\u001b[1;33m]\u001b[0m\u001b[1;33m[\u001b[0m\u001b[0mi\u001b[0m\u001b[1;33m-\u001b[0m\u001b[1;36m1\u001b[0m\u001b[1;33m]\u001b[0m\u001b[1;33m)\u001b[0m\u001b[1;33m\u001b[0m\u001b[0m\n\u001b[1;32m--> 181\u001b[1;33m                         \u001b[0mself\u001b[0m\u001b[1;33m.\u001b[0m\u001b[0mawg\u001b[0m\u001b[1;33m.\u001b[0m\u001b[0mchannels\u001b[0m\u001b[1;33m[\u001b[0m\u001b[0mch_no\u001b[0m\u001b[1;33m-\u001b[0m\u001b[1;36m1\u001b[0m\u001b[1;33m]\u001b[0m\u001b[1;33m.\u001b[0m\u001b[0mset\u001b[0m\u001b[1;33m(\u001b[0m\u001b[1;34m'marker{}_low'\u001b[0m\u001b[1;33m.\u001b[0m\u001b[0mformat\u001b[0m\u001b[1;33m(\u001b[0m\u001b[0mi\u001b[0m\u001b[1;33m)\u001b[0m\u001b[1;33m,\u001b[0m \u001b[0mch_set\u001b[0m\u001b[1;33m[\u001b[0m\u001b[1;34m'marker_lo'\u001b[0m\u001b[1;33m]\u001b[0m\u001b[1;33m[\u001b[0m\u001b[0mi\u001b[0m\u001b[1;33m-\u001b[0m\u001b[1;36m1\u001b[0m\u001b[1;33m]\u001b[0m\u001b[1;33m)\u001b[0m\u001b[1;33m\u001b[0m\u001b[0m\n\u001b[0m\u001b[0;32m    182\u001b[0m \u001b[1;33m\u001b[0m\u001b[0m\n\u001b[0;32m    183\u001b[0m \u001b[1;33m\u001b[0m\u001b[0m\n",
      "\u001b[1;32md:\\code\\qcodes\\qcodes\\instrument\\base.py\u001b[0m in \u001b[0;36mset\u001b[1;34m(self, param_name, value)\u001b[0m\n\u001b[0;32m    298\u001b[0m             \u001b[0mvalue\u001b[0m\u001b[1;33m:\u001b[0m \u001b[0mThe\u001b[0m \u001b[0mnew\u001b[0m \u001b[0mvalue\u001b[0m \u001b[0mto\u001b[0m \u001b[0mset\u001b[0m\u001b[1;33m.\u001b[0m\u001b[1;33m\u001b[0m\u001b[0m\n\u001b[0;32m    299\u001b[0m         \"\"\"\n\u001b[1;32m--> 300\u001b[1;33m         \u001b[0mself\u001b[0m\u001b[1;33m.\u001b[0m\u001b[0mparameters\u001b[0m\u001b[1;33m[\u001b[0m\u001b[0mparam_name\u001b[0m\u001b[1;33m]\u001b[0m\u001b[1;33m.\u001b[0m\u001b[0mset\u001b[0m\u001b[1;33m(\u001b[0m\u001b[0mvalue\u001b[0m\u001b[1;33m)\u001b[0m\u001b[1;33m\u001b[0m\u001b[0m\n\u001b[0m\u001b[0;32m    301\u001b[0m \u001b[1;33m\u001b[0m\u001b[0m\n\u001b[0;32m    302\u001b[0m     \u001b[1;32mdef\u001b[0m \u001b[0mget\u001b[0m\u001b[1;33m(\u001b[0m\u001b[0mself\u001b[0m\u001b[1;33m,\u001b[0m \u001b[0mparam_name\u001b[0m\u001b[1;33m:\u001b[0m \u001b[0mstr\u001b[0m\u001b[1;33m)\u001b[0m \u001b[1;33m->\u001b[0m \u001b[0mAny\u001b[0m\u001b[1;33m:\u001b[0m\u001b[1;33m\u001b[0m\u001b[0m\n",
      "\u001b[1;32md:\\code\\qcodes\\qcodes\\instrument\\parameter.py\u001b[0m in \u001b[0;36mset_wrapper\u001b[1;34m(value, **kwargs)\u001b[0m\n\u001b[0;32m    477\u001b[0m             \u001b[1;32mexcept\u001b[0m \u001b[0mException\u001b[0m \u001b[1;32mas\u001b[0m \u001b[0me\u001b[0m\u001b[1;33m:\u001b[0m\u001b[1;33m\u001b[0m\u001b[0m\n\u001b[0;32m    478\u001b[0m                 \u001b[0me\u001b[0m\u001b[1;33m.\u001b[0m\u001b[0margs\u001b[0m \u001b[1;33m=\u001b[0m \u001b[0me\u001b[0m\u001b[1;33m.\u001b[0m\u001b[0margs\u001b[0m \u001b[1;33m+\u001b[0m \u001b[1;33m(\u001b[0m\u001b[1;34m'setting {} to {}'\u001b[0m\u001b[1;33m.\u001b[0m\u001b[0mformat\u001b[0m\u001b[1;33m(\u001b[0m\u001b[0mself\u001b[0m\u001b[1;33m,\u001b[0m \u001b[0mvalue\u001b[0m\u001b[1;33m)\u001b[0m\u001b[1;33m,\u001b[0m\u001b[1;33m)\u001b[0m\u001b[1;33m\u001b[0m\u001b[0m\n\u001b[1;32m--> 479\u001b[1;33m                 \u001b[1;32mraise\u001b[0m \u001b[0me\u001b[0m\u001b[1;33m\u001b[0m\u001b[0m\n\u001b[0m\u001b[0;32m    480\u001b[0m \u001b[1;33m\u001b[0m\u001b[0m\n\u001b[0;32m    481\u001b[0m         \u001b[1;32mreturn\u001b[0m \u001b[0mset_wrapper\u001b[0m\u001b[1;33m\u001b[0m\u001b[0m\n",
      "\u001b[1;32md:\\code\\qcodes\\qcodes\\instrument\\parameter.py\u001b[0m in \u001b[0;36mset_wrapper\u001b[1;34m(value, **kwargs)\u001b[0m\n\u001b[0;32m    408\u001b[0m         \u001b[1;32mdef\u001b[0m \u001b[0mset_wrapper\u001b[0m\u001b[1;33m(\u001b[0m\u001b[0mvalue\u001b[0m\u001b[1;33m,\u001b[0m \u001b[1;33m**\u001b[0m\u001b[0mkwargs\u001b[0m\u001b[1;33m)\u001b[0m\u001b[1;33m:\u001b[0m\u001b[1;33m\u001b[0m\u001b[0m\n\u001b[0;32m    409\u001b[0m             \u001b[1;32mtry\u001b[0m\u001b[1;33m:\u001b[0m\u001b[1;33m\u001b[0m\u001b[0m\n\u001b[1;32m--> 410\u001b[1;33m                 \u001b[0mself\u001b[0m\u001b[1;33m.\u001b[0m\u001b[0mvalidate\u001b[0m\u001b[1;33m(\u001b[0m\u001b[0mvalue\u001b[0m\u001b[1;33m)\u001b[0m\u001b[1;33m\u001b[0m\u001b[0m\n\u001b[0m\u001b[0;32m    411\u001b[0m \u001b[1;33m\u001b[0m\u001b[0m\n\u001b[0;32m    412\u001b[0m                 \u001b[1;31m# In some cases intermediate sweep values must be used.\u001b[0m\u001b[1;33m\u001b[0m\u001b[1;33m\u001b[0m\u001b[0m\n",
      "\u001b[1;32md:\\code\\qcodes\\qcodes\\instrument\\parameter.py\u001b[0m in \u001b[0;36mvalidate\u001b[1;34m(self, value)\u001b[0m\n\u001b[0;32m    533\u001b[0m             \u001b[0mcontext\u001b[0m \u001b[1;33m=\u001b[0m \u001b[0mself\u001b[0m\u001b[1;33m.\u001b[0m\u001b[0mname\u001b[0m\u001b[1;33m\u001b[0m\u001b[0m\n\u001b[0;32m    534\u001b[0m         \u001b[1;32mif\u001b[0m \u001b[0mself\u001b[0m\u001b[1;33m.\u001b[0m\u001b[0mvals\u001b[0m \u001b[1;32mis\u001b[0m \u001b[1;32mnot\u001b[0m \u001b[1;32mNone\u001b[0m\u001b[1;33m:\u001b[0m\u001b[1;33m\u001b[0m\u001b[0m\n\u001b[1;32m--> 535\u001b[1;33m             \u001b[0mself\u001b[0m\u001b[1;33m.\u001b[0m\u001b[0mvals\u001b[0m\u001b[1;33m.\u001b[0m\u001b[0mvalidate\u001b[0m\u001b[1;33m(\u001b[0m\u001b[0mvalue\u001b[0m\u001b[1;33m,\u001b[0m \u001b[1;34m'Parameter: '\u001b[0m \u001b[1;33m+\u001b[0m \u001b[0mcontext\u001b[0m\u001b[1;33m)\u001b[0m\u001b[1;33m\u001b[0m\u001b[0m\n\u001b[0m\u001b[0;32m    536\u001b[0m \u001b[1;33m\u001b[0m\u001b[0m\n\u001b[0;32m    537\u001b[0m     \u001b[1;33m@\u001b[0m\u001b[0mproperty\u001b[0m\u001b[1;33m\u001b[0m\u001b[0m\n",
      "\u001b[1;32md:\\code\\qcodes\\qcodes\\utils\\validators.py\u001b[0m in \u001b[0;36mvalidate\u001b[1;34m(self, value, context)\u001b[0m\n\u001b[0;32m    209\u001b[0m                 \u001b[1;34m'{} is invalid: must be between '\u001b[0m\u001b[1;33m\u001b[0m\u001b[0m\n\u001b[0;32m    210\u001b[0m                 '{} and {} inclusive; {}'.format(\n\u001b[1;32m--> 211\u001b[1;33m                     repr(value), self._min_value, self._max_value, context))\n\u001b[0m\u001b[0;32m    212\u001b[0m \u001b[1;33m\u001b[0m\u001b[0m\n\u001b[0;32m    213\u001b[0m     \u001b[0mis_numeric\u001b[0m \u001b[1;33m=\u001b[0m \u001b[1;32mTrue\u001b[0m\u001b[1;33m\u001b[0m\u001b[0m\n",
      "\u001b[1;31mValueError\u001b[0m: ('-1 is invalid: must be between -0.3 and 1.55 inclusive; Parameter: awg_ch1.marker1_low', 'setting awg_ch1_marker1_low to -1')"
     ]
    }
   ],
   "source": [
    "# set IQ acquisition controller\n",
    "acq = avgiq_acq\n",
    "acq.trigger_func = awg_trigger_func\n",
    "\n",
    "sequence = create_inst(AWGGateRamp1D, 'awg_ramp', awg=awg, force_new_instance=True)\n",
    "station = add2station(station, sequence)\n",
    "detector = create_inst(AlazarDetector, name='detector', acqctl=acq, force_new_instance=True)\n",
    "station = add2station(station, detector)\n",
    "\n",
    "sequence.sample_rate(1e7)\n",
    "# sequence.step_len(55e-6)\n",
    "sequence.step_len(100e-6)\n",
    "sequence.start_voltage(-0.04)\n",
    "sequence.stop_voltage(0.04)\n",
    "sequence.voltage_points(401)\n",
    "sequence.setup(start_awg=True)\n",
    "\n",
    "# configure the Alazar detector\n",
    "detector.set_sweeper(sequence) # set the sequence (it's just one dummy sweep-point here)\n",
    "detector.demod_frq(hetsrc.IF()) # demod frequency from the sources\n",
    "detector.acq_time(sequence.step_len() - 5e-6) # not too long integration time ber buffer\n",
    "detector.configure_alazar(\n",
    "    records_per_buffer=sequence.voltage_points(),\n",
    "    buffers_per_acquisition=2, # set averaging by choosing the number of buffers\n",
    ")\n",
    "detector.setup() # this makes sure all params are set correctly\n",
    "\n",
    "print('frequency ' + str(1/(sequence.step_len()*sequence.voltage_points())) + \" Hz\")"
   ]
  },
  {
   "cell_type": "code",
   "execution_count": null,
   "metadata": {
    "hidden": true,
    "scrolled": true
   },
   "outputs": [],
   "source": [
    "points=401\n",
    "step_len=105e-6\n",
    "print(step_len*points)\n",
    "print(1/(step_len*points))"
   ]
  },
  {
   "cell_type": "code",
   "execution_count": 54,
   "metadata": {
    "collapsed": true,
    "hidden": true
   },
   "outputs": [],
   "source": [
    "hetsrc.frequency(230e6)\n",
    "hetsrc.IF(10e6)\n",
    "hetsrc.RF.on()\n",
    "hetsrc.LO.on()\n",
    "hetsrc.RF.power(-40)\n",
    "hetsrc.LO.power(15)"
   ]
  },
  {
   "cell_type": "code",
   "execution_count": 50,
   "metadata": {
    "collapsed": true,
    "hidden": true
   },
   "outputs": [],
   "source": [
    "SAMPLE = 'device48'"
   ]
  },
  {
   "cell_type": "code",
   "execution_count": 51,
   "metadata": {
    "collapsed": true,
    "hidden": true
   },
   "outputs": [],
   "source": [
    "ivvi.set_dacs_zero()"
   ]
  },
  {
   "cell_type": "code",
   "execution_count": 55,
   "metadata": {
    "hidden": true
   },
   "outputs": [
    {
     "name": "stdout",
     "output_type": "stream",
     "text": [
      "Starting experimental run with id: 530\n"
     ]
    }
   ],
   "source": [
    "ivvi_setup.dac3(-3)\n",
    "exp = select_experiment('V0_0113A', SAMPLE) # select experiment (info for the database)\n",
    "\n",
    "# need to make sure the sweep is correctly described in the beginning!\n",
    "meas = MeasurementExt(station, exp=exp, \n",
    "                      hard_sweep_detector=detector,\n",
    "                      soft_sweep_params=[\n",
    "                          #hetsrc.frequency,\n",
    "                          ivvi.dac3\n",
    "#                           ro_attenuator.attenuation,\n",
    "                      ],\n",
    "                     )\n",
    "\n",
    "#meas.register_parameter(ivvi.dac7)\n",
    "# and finally, the measurement loop\n",
    "meas.write_period = 2 # how often to write to the DB [s]\n",
    "with meas.run() as datasaver:\n",
    "    \n",
    "    # this is to connect the database to the plottr.\n",
    "    plot_subscriber = QcodesDatasetSubscriber(datasaver.dataset)\n",
    "    datasaver.dataset.subscribe(plot_subscriber, state=[])\n",
    "    \n",
    "    # the loop itself is trivial\n",
    "#     for att in ro_atts:\n",
    "#         ro_attenuator.attenuation(att)\n",
    "    for BG in np.linspace(-3,-4,401):\n",
    "        ivvi_setup.dac3(BG)\n",
    "        detector.acquisition() # this gets the data from the alazar\n",
    "        datasaver.add_result(*meas.get_result()) # this adds all data to the datasaver."
   ]
  },
  {
   "cell_type": "markdown",
   "metadata": {},
   "source": [
    "### Frequency generator activated sweep"
   ]
  },
  {
   "cell_type": "code",
   "execution_count": 20,
   "metadata": {},
   "outputs": [],
   "source": [
    "def awg_trigger_func(do_start):\n",
    "    if do_start:\n",
    "        #fg.ch1.state('ON')\n",
    "        #station.awg.play()\n",
    "        fg.ch1.burst.trigger()\n",
    "#     else:\n",
    "        #fg.ch1.state('OFF')\n",
    "        #station.awg.stop()\n",
    "#         fg.ch1.burst.trigger()\n",
    "        \n",
    "for ctl in [raw_acq, avgdemod_acq, avgiq_acq]:\n",
    "    ctl.trigger_func = awg_trigger_func"
   ]
  },
  {
   "cell_type": "code",
   "execution_count": 21,
   "metadata": {},
   "outputs": [],
   "source": [
    "AWGGateRamp1D.sweep_wait = 'first'"
   ]
  },
  {
   "cell_type": "code",
   "execution_count": 45,
   "metadata": {},
   "outputs": [
    {
     "name": "stdout",
     "output_type": "stream",
     "text": [
      "Instrument awg_ramp already exists.\n",
      "Instrument detector already exists.\n",
      "Waveforms done\n",
      "['wfm_1_1_1']\n",
      "True debug\n",
      "[['wfm_1_1_1']]\n"
     ]
    }
   ],
   "source": [
    "hetsrc.frequency(230e6)\n",
    "hetsrc.IF(1e6)\n",
    "hetsrc.RF.on()\n",
    "hetsrc.LO.on()\n",
    "hetsrc.RF.power(-40)\n",
    "hetsrc.LO.power(10)\n",
    "\n",
    "# set IQ acquisition controller\n",
    "acq = avgiq_acq\n",
    "acq.trigger_func = awg_trigger_func\n",
    "\n",
    "sequence = create_inst(AWGGateRamp1D, 'awg_ramp', awg=awg, force_new_instance=True)\n",
    "station = add2station(station, sequence)\n",
    "detector = create_inst(AlazarDetector, name='detector', acqctl=acq, force_new_instance=True)\n",
    "station = add2station(station, detector)\n",
    "\n",
    "sequence.alazar_trigger_len = 1e-6\n",
    "sequence.sample_rate(1e9)\n",
    "sequence.initial_delay(128e-6)\n",
    "sequence.step_len(1024e-6)\n",
    "sequence.start_voltage(-0.025)\n",
    "sequence.stop_voltage(0.025)\n",
    "sequence.voltage_points(10)\n",
    "sequence.ramp_down_time(128e-6)\n",
    "sequence.setup(start_awg=True)\n",
    "\n",
    "# configure the Alazar detector\n",
    "detector.set_sweeper(sequence) # set the sequence (it's just one dummy sweep-point here)\n",
    "detector.demod_frq(hetsrc.IF()) # demod frequency from the sources\n",
    "detector.acq_time(sequence.step_len() - 5e-6) # not too long integration time ber buffer\n",
    "detector.configure_alazar(\n",
    "    records_per_buffer=sequence.voltage_points(),\n",
    "    buffers_per_acquisition=1, # set averaging by choosing the number of buffers\n",
    ")\n",
    "detector.setup() # this makes sure all params are set correctly"
   ]
  },
  {
   "cell_type": "code",
   "execution_count": 239,
   "metadata": {},
   "outputs": [
    {
     "data": {
      "text/plain": [
       "1.536e-05"
      ]
     },
     "execution_count": 239,
     "metadata": {},
     "output_type": "execute_result"
    }
   ],
   "source": [
    "acq.samples_per_record() / 0.2e9"
   ]
  },
  {
   "cell_type": "code",
   "execution_count": 28,
   "metadata": {},
   "outputs": [],
   "source": [
    "yoko.on()"
   ]
  },
  {
   "cell_type": "code",
   "execution_count": 46,
   "metadata": {},
   "outputs": [
    {
     "name": "stdout",
     "output_type": "stream",
     "text": [
      "frequency 97.65625000000001 Hz\n",
      "Starting experimental run with id: 591\n"
     ]
    },
    {
     "ename": "RuntimeError",
     "evalue": "('error 579: ApiWaitTimeout: operation did not finish during timeout interval. Check your trigger. from function AlazarWaitAsyncBufferComplete with args: [2532, c_void_p(2671479554048), 10000]', 'getting avgiq_acq_acquisition', 'getting detector_acquisition')",
     "output_type": "error",
     "traceback": [
      "\u001b[1;31m---------------------------------------------------------------------------\u001b[0m",
      "\u001b[1;31mRuntimeError\u001b[0m                              Traceback (most recent call last)",
      "\u001b[1;32m<ipython-input-46-0f93224c36c5>\u001b[0m in \u001b[0;36m<module>\u001b[1;34m()\u001b[0m\n\u001b[0;32m     41\u001b[0m \u001b[1;31m#         fg.ch1.state('ON')\u001b[0m\u001b[1;33m\u001b[0m\u001b[1;33m\u001b[0m\u001b[0m\n\u001b[0;32m     42\u001b[0m \u001b[1;31m#         time.sleep(0.01)\u001b[0m\u001b[1;33m\u001b[0m\u001b[1;33m\u001b[0m\u001b[0m\n\u001b[1;32m---> 43\u001b[1;33m         \u001b[0mdetector\u001b[0m\u001b[1;33m.\u001b[0m\u001b[0macquisition\u001b[0m\u001b[1;33m(\u001b[0m\u001b[1;33m)\u001b[0m \u001b[1;31m# this gets the data from the alazar\u001b[0m\u001b[1;33m\u001b[0m\u001b[0m\n\u001b[0m\u001b[0;32m     44\u001b[0m \u001b[1;31m#         fg.ch1.state('OFF')\u001b[0m\u001b[1;33m\u001b[0m\u001b[1;33m\u001b[0m\u001b[0m\n\u001b[0;32m     45\u001b[0m         \u001b[0mdatasaver\u001b[0m\u001b[1;33m.\u001b[0m\u001b[0madd_result\u001b[0m\u001b[1;33m(\u001b[0m\u001b[1;33m*\u001b[0m\u001b[0mmeas\u001b[0m\u001b[1;33m.\u001b[0m\u001b[0mget_result\u001b[0m\u001b[1;33m(\u001b[0m\u001b[1;33m)\u001b[0m\u001b[1;33m)\u001b[0m \u001b[1;31m# this adds all data to the datasaver.\u001b[0m\u001b[1;33m\u001b[0m\u001b[0m\n",
      "\u001b[1;32md:\\code\\qcodes\\qcodes\\instrument\\parameter.py\u001b[0m in \u001b[0;36m__call__\u001b[1;34m(self, *args, **kwargs)\u001b[0m\n\u001b[0;32m    277\u001b[0m         \u001b[1;32mif\u001b[0m \u001b[0mlen\u001b[0m\u001b[1;33m(\u001b[0m\u001b[0margs\u001b[0m\u001b[1;33m)\u001b[0m \u001b[1;33m==\u001b[0m \u001b[1;36m0\u001b[0m\u001b[1;33m:\u001b[0m\u001b[1;33m\u001b[0m\u001b[0m\n\u001b[0;32m    278\u001b[0m             \u001b[1;32mif\u001b[0m \u001b[0mhasattr\u001b[0m\u001b[1;33m(\u001b[0m\u001b[0mself\u001b[0m\u001b[1;33m,\u001b[0m \u001b[1;34m'get'\u001b[0m\u001b[1;33m)\u001b[0m\u001b[1;33m:\u001b[0m\u001b[1;33m\u001b[0m\u001b[0m\n\u001b[1;32m--> 279\u001b[1;33m                 \u001b[1;32mreturn\u001b[0m \u001b[0mself\u001b[0m\u001b[1;33m.\u001b[0m\u001b[0mget\u001b[0m\u001b[1;33m(\u001b[0m\u001b[1;33m)\u001b[0m\u001b[1;33m\u001b[0m\u001b[0m\n\u001b[0m\u001b[0;32m    280\u001b[0m             \u001b[1;32melse\u001b[0m\u001b[1;33m:\u001b[0m\u001b[1;33m\u001b[0m\u001b[0m\n\u001b[0;32m    281\u001b[0m                 raise NotImplementedError('no get cmd found in' +\n",
      "\u001b[1;32md:\\code\\qcodes\\qcodes\\instrument\\parameter.py\u001b[0m in \u001b[0;36mget_wrapper\u001b[1;34m(*args, **kwargs)\u001b[0m\n\u001b[0;32m    400\u001b[0m             \u001b[1;32mexcept\u001b[0m \u001b[0mException\u001b[0m \u001b[1;32mas\u001b[0m \u001b[0me\u001b[0m\u001b[1;33m:\u001b[0m\u001b[1;33m\u001b[0m\u001b[0m\n\u001b[0;32m    401\u001b[0m                 \u001b[0me\u001b[0m\u001b[1;33m.\u001b[0m\u001b[0margs\u001b[0m \u001b[1;33m=\u001b[0m \u001b[0me\u001b[0m\u001b[1;33m.\u001b[0m\u001b[0margs\u001b[0m \u001b[1;33m+\u001b[0m \u001b[1;33m(\u001b[0m\u001b[1;34m'getting {}'\u001b[0m\u001b[1;33m.\u001b[0m\u001b[0mformat\u001b[0m\u001b[1;33m(\u001b[0m\u001b[0mself\u001b[0m\u001b[1;33m)\u001b[0m\u001b[1;33m,\u001b[0m\u001b[1;33m)\u001b[0m\u001b[1;33m\u001b[0m\u001b[0m\n\u001b[1;32m--> 402\u001b[1;33m                 \u001b[1;32mraise\u001b[0m \u001b[0me\u001b[0m\u001b[1;33m\u001b[0m\u001b[0m\n\u001b[0m\u001b[0;32m    403\u001b[0m \u001b[1;33m\u001b[0m\u001b[0m\n\u001b[0;32m    404\u001b[0m         \u001b[1;32mreturn\u001b[0m \u001b[0mget_wrapper\u001b[0m\u001b[1;33m\u001b[0m\u001b[0m\n",
      "\u001b[1;32md:\\code\\qcodes\\qcodes\\instrument\\parameter.py\u001b[0m in \u001b[0;36mget_wrapper\u001b[1;34m(*args, **kwargs)\u001b[0m\n\u001b[0;32m    356\u001b[0m             \u001b[1;32mtry\u001b[0m\u001b[1;33m:\u001b[0m\u001b[1;33m\u001b[0m\u001b[0m\n\u001b[0;32m    357\u001b[0m                 \u001b[1;31m# There might be cases where a .get also has args/kwargs\u001b[0m\u001b[1;33m\u001b[0m\u001b[1;33m\u001b[0m\u001b[0m\n\u001b[1;32m--> 358\u001b[1;33m                 \u001b[0mvalue\u001b[0m \u001b[1;33m=\u001b[0m \u001b[0mget_function\u001b[0m\u001b[1;33m(\u001b[0m\u001b[1;33m*\u001b[0m\u001b[0margs\u001b[0m\u001b[1;33m,\u001b[0m \u001b[1;33m**\u001b[0m\u001b[0mkwargs\u001b[0m\u001b[1;33m)\u001b[0m\u001b[1;33m\u001b[0m\u001b[0m\n\u001b[0m\u001b[0;32m    359\u001b[0m                 \u001b[0mself\u001b[0m\u001b[1;33m.\u001b[0m\u001b[0mraw_value\u001b[0m \u001b[1;33m=\u001b[0m \u001b[0mvalue\u001b[0m\u001b[1;33m\u001b[0m\u001b[0m\n\u001b[0;32m    360\u001b[0m \u001b[1;33m\u001b[0m\u001b[0m\n",
      "\u001b[1;32md:\\code\\qcodes\\qcodes\\utils\\command.py\u001b[0m in \u001b[0;36m__call__\u001b[1;34m(self, *args)\u001b[0m\n\u001b[0;32m    175\u001b[0m             raise TypeError(\n\u001b[0;32m    176\u001b[0m                 'command takes exactly {} args'.format(self.arg_count))\n\u001b[1;32m--> 177\u001b[1;33m         \u001b[1;32mreturn\u001b[0m \u001b[0mself\u001b[0m\u001b[1;33m.\u001b[0m\u001b[0mexec_function\u001b[0m\u001b[1;33m(\u001b[0m\u001b[1;33m*\u001b[0m\u001b[0margs\u001b[0m\u001b[1;33m)\u001b[0m\u001b[1;33m\u001b[0m\u001b[0m\n\u001b[0m",
      "\u001b[1;32md:\\code\\pytopo\\pytopo\\rf\\alazar_detector.py\u001b[0m in \u001b[0;36mdo_acquisition\u001b[1;34m(self)\u001b[0m\n\u001b[0;32m     90\u001b[0m \u001b[1;33m\u001b[0m\u001b[0m\n\u001b[0;32m     91\u001b[0m     \u001b[1;32mdef\u001b[0m \u001b[0mdo_acquisition\u001b[0m\u001b[1;33m(\u001b[0m\u001b[0mself\u001b[0m\u001b[1;33m)\u001b[0m\u001b[1;33m:\u001b[0m\u001b[1;33m\u001b[0m\u001b[0m\n\u001b[1;32m---> 92\u001b[1;33m         \u001b[0mdata\u001b[0m \u001b[1;33m=\u001b[0m \u001b[0msuper\u001b[0m\u001b[1;33m(\u001b[0m\u001b[1;33m)\u001b[0m\u001b[1;33m.\u001b[0m\u001b[0mdo_acquisition\u001b[0m\u001b[1;33m(\u001b[0m\u001b[1;33m)\u001b[0m\u001b[1;33m\u001b[0m\u001b[0m\n\u001b[0m\u001b[0;32m     93\u001b[0m \u001b[1;33m\u001b[0m\u001b[0m\n\u001b[0;32m     94\u001b[0m         \u001b[1;32mif\u001b[0m \u001b[0mself\u001b[0m\u001b[1;33m.\u001b[0m\u001b[0mavg_buffers\u001b[0m\u001b[1;33m(\u001b[0m\u001b[1;33m)\u001b[0m \u001b[1;32mand\u001b[0m \u001b[1;34m'buffers'\u001b[0m \u001b[1;32min\u001b[0m \u001b[0mself\u001b[0m\u001b[1;33m.\u001b[0m\u001b[0macqctl\u001b[0m\u001b[1;33m.\u001b[0m\u001b[0mdata_dims\u001b[0m\u001b[1;33m(\u001b[0m\u001b[1;33m)\u001b[0m\u001b[1;33m:\u001b[0m\u001b[1;33m\u001b[0m\u001b[0m\n",
      "\u001b[1;32md:\\code\\pytopo\\pytopo\\rf\\alazar_detector.py\u001b[0m in \u001b[0;36mdo_acquisition\u001b[1;34m(self)\u001b[0m\n\u001b[0;32m     48\u001b[0m \u001b[1;33m\u001b[0m\u001b[0m\n\u001b[0;32m     49\u001b[0m     \u001b[1;32mdef\u001b[0m \u001b[0mdo_acquisition\u001b[0m\u001b[1;33m(\u001b[0m\u001b[0mself\u001b[0m\u001b[1;33m)\u001b[0m\u001b[1;33m:\u001b[0m\u001b[1;33m\u001b[0m\u001b[0m\n\u001b[1;32m---> 50\u001b[1;33m         \u001b[0mdata\u001b[0m \u001b[1;33m=\u001b[0m \u001b[0mself\u001b[0m\u001b[1;33m.\u001b[0m\u001b[0macqctl\u001b[0m\u001b[1;33m.\u001b[0m\u001b[0macquisition\u001b[0m\u001b[1;33m(\u001b[0m\u001b[1;33m)\u001b[0m\u001b[1;33m\u001b[0m\u001b[0m\n\u001b[0m\u001b[0;32m     51\u001b[0m         \u001b[0mself\u001b[0m\u001b[1;33m.\u001b[0m\u001b[0msetup\u001b[0m\u001b[1;33m(\u001b[0m\u001b[1;33m)\u001b[0m\u001b[1;33m\u001b[0m\u001b[0m\n\u001b[0;32m     52\u001b[0m \u001b[1;33m\u001b[0m\u001b[0m\n",
      "\u001b[1;32md:\\code\\qcodes\\qcodes\\instrument\\parameter.py\u001b[0m in \u001b[0;36m__call__\u001b[1;34m(self, *args, **kwargs)\u001b[0m\n\u001b[0;32m    277\u001b[0m         \u001b[1;32mif\u001b[0m \u001b[0mlen\u001b[0m\u001b[1;33m(\u001b[0m\u001b[0margs\u001b[0m\u001b[1;33m)\u001b[0m \u001b[1;33m==\u001b[0m \u001b[1;36m0\u001b[0m\u001b[1;33m:\u001b[0m\u001b[1;33m\u001b[0m\u001b[0m\n\u001b[0;32m    278\u001b[0m             \u001b[1;32mif\u001b[0m \u001b[0mhasattr\u001b[0m\u001b[1;33m(\u001b[0m\u001b[0mself\u001b[0m\u001b[1;33m,\u001b[0m \u001b[1;34m'get'\u001b[0m\u001b[1;33m)\u001b[0m\u001b[1;33m:\u001b[0m\u001b[1;33m\u001b[0m\u001b[0m\n\u001b[1;32m--> 279\u001b[1;33m                 \u001b[1;32mreturn\u001b[0m \u001b[0mself\u001b[0m\u001b[1;33m.\u001b[0m\u001b[0mget\u001b[0m\u001b[1;33m(\u001b[0m\u001b[1;33m)\u001b[0m\u001b[1;33m\u001b[0m\u001b[0m\n\u001b[0m\u001b[0;32m    280\u001b[0m             \u001b[1;32melse\u001b[0m\u001b[1;33m:\u001b[0m\u001b[1;33m\u001b[0m\u001b[0m\n\u001b[0;32m    281\u001b[0m                 raise NotImplementedError('no get cmd found in' +\n",
      "\u001b[1;32md:\\code\\qcodes\\qcodes\\instrument\\parameter.py\u001b[0m in \u001b[0;36mget_wrapper\u001b[1;34m(*args, **kwargs)\u001b[0m\n\u001b[0;32m    400\u001b[0m             \u001b[1;32mexcept\u001b[0m \u001b[0mException\u001b[0m \u001b[1;32mas\u001b[0m \u001b[0me\u001b[0m\u001b[1;33m:\u001b[0m\u001b[1;33m\u001b[0m\u001b[0m\n\u001b[0;32m    401\u001b[0m                 \u001b[0me\u001b[0m\u001b[1;33m.\u001b[0m\u001b[0margs\u001b[0m \u001b[1;33m=\u001b[0m \u001b[0me\u001b[0m\u001b[1;33m.\u001b[0m\u001b[0margs\u001b[0m \u001b[1;33m+\u001b[0m \u001b[1;33m(\u001b[0m\u001b[1;34m'getting {}'\u001b[0m\u001b[1;33m.\u001b[0m\u001b[0mformat\u001b[0m\u001b[1;33m(\u001b[0m\u001b[0mself\u001b[0m\u001b[1;33m)\u001b[0m\u001b[1;33m,\u001b[0m\u001b[1;33m)\u001b[0m\u001b[1;33m\u001b[0m\u001b[0m\n\u001b[1;32m--> 402\u001b[1;33m                 \u001b[1;32mraise\u001b[0m \u001b[0me\u001b[0m\u001b[1;33m\u001b[0m\u001b[0m\n\u001b[0m\u001b[0;32m    403\u001b[0m \u001b[1;33m\u001b[0m\u001b[0m\n\u001b[0;32m    404\u001b[0m         \u001b[1;32mreturn\u001b[0m \u001b[0mget_wrapper\u001b[0m\u001b[1;33m\u001b[0m\u001b[0m\n",
      "\u001b[1;32md:\\code\\qcodes\\qcodes\\instrument\\parameter.py\u001b[0m in \u001b[0;36mget_wrapper\u001b[1;34m(*args, **kwargs)\u001b[0m\n\u001b[0;32m    356\u001b[0m             \u001b[1;32mtry\u001b[0m\u001b[1;33m:\u001b[0m\u001b[1;33m\u001b[0m\u001b[0m\n\u001b[0;32m    357\u001b[0m                 \u001b[1;31m# There might be cases where a .get also has args/kwargs\u001b[0m\u001b[1;33m\u001b[0m\u001b[1;33m\u001b[0m\u001b[0m\n\u001b[1;32m--> 358\u001b[1;33m                 \u001b[0mvalue\u001b[0m \u001b[1;33m=\u001b[0m \u001b[0mget_function\u001b[0m\u001b[1;33m(\u001b[0m\u001b[1;33m*\u001b[0m\u001b[0margs\u001b[0m\u001b[1;33m,\u001b[0m \u001b[1;33m**\u001b[0m\u001b[0mkwargs\u001b[0m\u001b[1;33m)\u001b[0m\u001b[1;33m\u001b[0m\u001b[0m\n\u001b[0m\u001b[0;32m    359\u001b[0m                 \u001b[0mself\u001b[0m\u001b[1;33m.\u001b[0m\u001b[0mraw_value\u001b[0m \u001b[1;33m=\u001b[0m \u001b[0mvalue\u001b[0m\u001b[1;33m\u001b[0m\u001b[0m\n\u001b[0;32m    360\u001b[0m \u001b[1;33m\u001b[0m\u001b[0m\n",
      "\u001b[1;32md:\\code\\qcodes\\qcodes\\utils\\command.py\u001b[0m in \u001b[0;36m__call__\u001b[1;34m(self, *args)\u001b[0m\n\u001b[0;32m    175\u001b[0m             raise TypeError(\n\u001b[0;32m    176\u001b[0m                 'command takes exactly {} args'.format(self.arg_count))\n\u001b[1;32m--> 177\u001b[1;33m         \u001b[1;32mreturn\u001b[0m \u001b[0mself\u001b[0m\u001b[1;33m.\u001b[0m\u001b[0mexec_function\u001b[0m\u001b[1;33m(\u001b[0m\u001b[1;33m*\u001b[0m\u001b[0margs\u001b[0m\u001b[1;33m)\u001b[0m\u001b[1;33m\u001b[0m\u001b[0m\n\u001b[0m",
      "\u001b[1;32md:\\code\\pytopo\\pytopo\\rf\\alazar_acquisition.py\u001b[0m in \u001b[0;36mdo_acquisition\u001b[1;34m(self)\u001b[0m\n\u001b[0;32m    125\u001b[0m     \u001b[1;32mdef\u001b[0m \u001b[0mdo_acquisition\u001b[0m\u001b[1;33m(\u001b[0m\u001b[0mself\u001b[0m\u001b[1;33m)\u001b[0m\u001b[1;33m:\u001b[0m\u001b[1;33m\u001b[0m\u001b[0m\n\u001b[0;32m    126\u001b[0m         \u001b[1;32mif\u001b[0m \u001b[0mself\u001b[0m\u001b[1;33m.\u001b[0m\u001b[0m_alazar\u001b[0m \u001b[1;32mis\u001b[0m \u001b[1;32mnot\u001b[0m \u001b[1;32mNone\u001b[0m\u001b[1;33m:\u001b[0m\u001b[1;33m\u001b[0m\u001b[0m\n\u001b[1;32m--> 127\u001b[1;33m             \u001b[0mvalue\u001b[0m \u001b[1;33m=\u001b[0m \u001b[0mself\u001b[0m\u001b[1;33m.\u001b[0m\u001b[0m_get_alazar\u001b[0m\u001b[1;33m(\u001b[0m\u001b[1;33m)\u001b[0m\u001b[1;33m.\u001b[0m\u001b[0macquire\u001b[0m\u001b[1;33m(\u001b[0m\u001b[0macquisition_controller\u001b[0m\u001b[1;33m=\u001b[0m\u001b[0mself\u001b[0m\u001b[1;33m,\u001b[0m \u001b[1;33m**\u001b[0m\u001b[0mself\u001b[0m\u001b[1;33m.\u001b[0m\u001b[0macquisitionkwargs\u001b[0m\u001b[1;33m)\u001b[0m\u001b[1;33m\u001b[0m\u001b[0m\n\u001b[0m\u001b[0;32m    128\u001b[0m         \u001b[1;32melse\u001b[0m\u001b[1;33m:\u001b[0m\u001b[1;33m\u001b[0m\u001b[0m\n\u001b[0;32m    129\u001b[0m             \u001b[0mvalue\u001b[0m \u001b[1;33m=\u001b[0m \u001b[1;32mNone\u001b[0m\u001b[1;33m\u001b[0m\u001b[0m\n",
      "\u001b[1;32md:\\code\\qcodes\\qcodes\\instrument_drivers\\AlazarTech\\ATS.py\u001b[0m in \u001b[0;36macquire\u001b[1;34m(self, mode, samples_per_record, records_per_buffer, buffers_per_acquisition, channel_selection, transfer_offset, external_startcapture, enable_record_headers, alloc_buffers, fifo_only_streaming, interleave_samples, get_processed_data, allocated_buffers, buffer_timeout, acquisition_controller)\u001b[0m\n\u001b[0;32m    823\u001b[0m                 \u001b[0mbuf\u001b[0m \u001b[1;33m=\u001b[0m \u001b[0mself\u001b[0m\u001b[1;33m.\u001b[0m\u001b[0mbuffer_list\u001b[0m\u001b[1;33m[\u001b[0m\u001b[0mbuffers_completed\u001b[0m \u001b[1;33m%\u001b[0m \u001b[0mallocated_buffers\u001b[0m\u001b[1;33m]\u001b[0m\u001b[1;33m\u001b[0m\u001b[0m\n\u001b[0;32m    824\u001b[0m                 self._call_dll('AlazarWaitAsyncBufferComplete',\n\u001b[1;32m--> 825\u001b[1;33m                                self._handle, ctypes.cast(buf.addr, ctypes.c_void_p), buffer_timeout)\n\u001b[0m\u001b[0;32m    826\u001b[0m \u001b[1;33m\u001b[0m\u001b[0m\n\u001b[0;32m    827\u001b[0m                 \u001b[1;31m# TODO(damazter) (C) last series of buffers must be handled\u001b[0m\u001b[1;33m\u001b[0m\u001b[1;33m\u001b[0m\u001b[0m\n",
      "\u001b[1;32md:\\code\\qcodes\\qcodes\\instrument_drivers\\AlazarTech\\ATS.py\u001b[0m in \u001b[0;36m_call_dll\u001b[1;34m(self, func_name, *args)\u001b[0m\n\u001b[0;32m    963\u001b[0m                 'error {}: {} from function {} with args: {}'.format(\n\u001b[0;32m    964\u001b[0m                     \u001b[0mreturn_code\u001b[0m\u001b[1;33m,\u001b[0m \u001b[0mself\u001b[0m\u001b[1;33m.\u001b[0m\u001b[0m_error_codes\u001b[0m\u001b[1;33m[\u001b[0m\u001b[0mreturn_code\u001b[0m\u001b[1;33m]\u001b[0m\u001b[1;33m,\u001b[0m \u001b[0mfunc_name\u001b[0m\u001b[1;33m,\u001b[0m\u001b[1;33m\u001b[0m\u001b[0m\n\u001b[1;32m--> 965\u001b[1;33m                     argrepr))\n\u001b[0m\u001b[0;32m    966\u001b[0m \u001b[1;33m\u001b[0m\u001b[0m\n\u001b[0;32m    967\u001b[0m         \u001b[1;31m# mark parameters updated (only after we've checked for errors)\u001b[0m\u001b[1;33m\u001b[0m\u001b[1;33m\u001b[0m\u001b[0m\n",
      "\u001b[1;31mRuntimeError\u001b[0m: ('error 579: ApiWaitTimeout: operation did not finish during timeout interval. Check your trigger. from function AlazarWaitAsyncBufferComplete with args: [2532, c_void_p(2671479554048), 10000]', 'getting avgiq_acq_acquisition', 'getting detector_acquisition')"
     ]
    }
   ],
   "source": [
    "print('frequency ' + str(1/(sequence.step_len()*sequence.voltage_points())) + \" Hz\")\n",
    "\n",
    "ivvi_setup.dac3(-6.5)\n",
    "ivvi.dac6(0)\n",
    "ivvi.dac7(-1200)\n",
    "cuttervals = np.linspace(0, 400, 101)\n",
    "plungervals = np.linspace(-500, 600, 401)\n",
    "\n",
    "exp = select_experiment('V0_0113A', 'dev48') # select experiment (info for the database)\n",
    "\n",
    "# need to make sure the sweep is correctly described in the beginning!\n",
    "meas = MeasurementExt(station, exp=exp, \n",
    "                      hard_sweep_detector=detector,\n",
    "                      soft_sweep_params=[\n",
    "                          #hetsrc.frequency,\n",
    "                          #ivvi.dac6,\n",
    "                          ivvi.dac7,\n",
    "                          #ami.field,\n",
    "#                           ro_attenuator.attenuation,\n",
    "                      ],\n",
    "                     )\n",
    "\n",
    "#meas.register_parameter(ivvi.dac7)\n",
    "# and finally, the measurement loop\n",
    "meas.write_period = 2 # how often to write to the DB [s]\n",
    "with meas.run() as datasaver:\n",
    "    \n",
    "    # this is to connect the database to the plottr.\n",
    "    plot_subscriber = QcodesDatasetSubscriber(datasaver.dataset)\n",
    "    datasaver.dataset.subscribe(plot_subscriber, state=[])\n",
    "    \n",
    "    # the loop itself is trivial\n",
    "#     for att in ro_atts:\n",
    "#         ro_attenuator.attenuation(att)\n",
    "    #for f in [1, 1.5]:\n",
    "        #ami.spherical([field,105,90])\n",
    "#     for c in cuttervals:\n",
    "#         ivvi.dac6(c)\n",
    "    for p in plungervals:\n",
    "        ivvi.dac7(p)\n",
    "#         fg.ch1.state('ON')\n",
    "#         time.sleep(0.01)\n",
    "        detector.acquisition() # this gets the data from the alazar\n",
    "#         fg.ch1.state('OFF')\n",
    "        datasaver.add_result(*meas.get_result()) # this adds all data to the datasaver."
   ]
  },
  {
   "cell_type": "code",
   "execution_count": 34,
   "metadata": {},
   "outputs": [
    {
     "name": "stdout",
     "output_type": "stream",
     "text": [
      "Connected to: None awg (serial:None, firmware:None) in 484.15s\n"
     ]
    }
   ],
   "source": []
  },
  {
   "cell_type": "code",
   "execution_count": 36,
   "metadata": {
    "collapsed": true
   },
   "outputs": [],
   "source": [
    "fg.ch1.burst.trigger()"
   ]
  },
  {
   "cell_type": "code",
   "execution_count": 156,
   "metadata": {},
   "outputs": [],
   "source": [
    "fg.ch1.burst.source('MAN')"
   ]
  },
  {
   "cell_type": "code",
   "execution_count": 157,
   "metadata": {},
   "outputs": [],
   "source": [
    "fg.ch1.burst.on('ON')"
   ]
  },
  {
   "cell_type": "code",
   "execution_count": 39,
   "metadata": {},
   "outputs": [],
   "source": [
    "for i in range(50):\n",
    "    fg.ch1.burst.trigger()\n",
    "    time.sleep(1)"
   ]
  },
  {
   "cell_type": "code",
   "execution_count": 127,
   "metadata": {},
   "outputs": [],
   "source": [
    "fg.ch1.freq(500)"
   ]
  },
  {
   "cell_type": "code",
   "execution_count": 362,
   "metadata": {},
   "outputs": [
    {
     "ename": "RuntimeError",
     "evalue": "('error 579: ApiWaitTimeout: operation did not finish during timeout interval. Check your trigger. from function AlazarWaitAsyncBufferComplete with args: [2584, c_void_p(2903496196096), 10000]', 'getting avgiq_acq_acquisition')",
     "output_type": "error",
     "traceback": [
      "\u001b[1;31m---------------------------------------------------------------------------\u001b[0m",
      "\u001b[1;31mRuntimeError\u001b[0m                              Traceback (most recent call last)",
      "\u001b[1;32m<ipython-input-362-7228ced0d812>\u001b[0m in \u001b[0;36m<module>\u001b[1;34m()\u001b[0m\n\u001b[1;32m----> 1\u001b[1;33m \u001b[0mdata\u001b[0m \u001b[1;33m=\u001b[0m \u001b[0macq\u001b[0m\u001b[1;33m.\u001b[0m\u001b[0macquisition\u001b[0m\u001b[1;33m(\u001b[0m\u001b[1;33m)\u001b[0m\u001b[1;33m\u001b[0m\u001b[0m\n\u001b[0m",
      "\u001b[1;32md:\\code\\qcodes\\qcodes\\instrument\\parameter.py\u001b[0m in \u001b[0;36m__call__\u001b[1;34m(self, *args, **kwargs)\u001b[0m\n\u001b[0;32m    277\u001b[0m         \u001b[1;32mif\u001b[0m \u001b[0mlen\u001b[0m\u001b[1;33m(\u001b[0m\u001b[0margs\u001b[0m\u001b[1;33m)\u001b[0m \u001b[1;33m==\u001b[0m \u001b[1;36m0\u001b[0m\u001b[1;33m:\u001b[0m\u001b[1;33m\u001b[0m\u001b[0m\n\u001b[0;32m    278\u001b[0m             \u001b[1;32mif\u001b[0m \u001b[0mhasattr\u001b[0m\u001b[1;33m(\u001b[0m\u001b[0mself\u001b[0m\u001b[1;33m,\u001b[0m \u001b[1;34m'get'\u001b[0m\u001b[1;33m)\u001b[0m\u001b[1;33m:\u001b[0m\u001b[1;33m\u001b[0m\u001b[0m\n\u001b[1;32m--> 279\u001b[1;33m                 \u001b[1;32mreturn\u001b[0m \u001b[0mself\u001b[0m\u001b[1;33m.\u001b[0m\u001b[0mget\u001b[0m\u001b[1;33m(\u001b[0m\u001b[1;33m)\u001b[0m\u001b[1;33m\u001b[0m\u001b[0m\n\u001b[0m\u001b[0;32m    280\u001b[0m             \u001b[1;32melse\u001b[0m\u001b[1;33m:\u001b[0m\u001b[1;33m\u001b[0m\u001b[0m\n\u001b[0;32m    281\u001b[0m                 raise NotImplementedError('no get cmd found in' +\n",
      "\u001b[1;32md:\\code\\qcodes\\qcodes\\instrument\\parameter.py\u001b[0m in \u001b[0;36mget_wrapper\u001b[1;34m(*args, **kwargs)\u001b[0m\n\u001b[0;32m    400\u001b[0m             \u001b[1;32mexcept\u001b[0m \u001b[0mException\u001b[0m \u001b[1;32mas\u001b[0m \u001b[0me\u001b[0m\u001b[1;33m:\u001b[0m\u001b[1;33m\u001b[0m\u001b[0m\n\u001b[0;32m    401\u001b[0m                 \u001b[0me\u001b[0m\u001b[1;33m.\u001b[0m\u001b[0margs\u001b[0m \u001b[1;33m=\u001b[0m \u001b[0me\u001b[0m\u001b[1;33m.\u001b[0m\u001b[0margs\u001b[0m \u001b[1;33m+\u001b[0m \u001b[1;33m(\u001b[0m\u001b[1;34m'getting {}'\u001b[0m\u001b[1;33m.\u001b[0m\u001b[0mformat\u001b[0m\u001b[1;33m(\u001b[0m\u001b[0mself\u001b[0m\u001b[1;33m)\u001b[0m\u001b[1;33m,\u001b[0m\u001b[1;33m)\u001b[0m\u001b[1;33m\u001b[0m\u001b[0m\n\u001b[1;32m--> 402\u001b[1;33m                 \u001b[1;32mraise\u001b[0m \u001b[0me\u001b[0m\u001b[1;33m\u001b[0m\u001b[0m\n\u001b[0m\u001b[0;32m    403\u001b[0m \u001b[1;33m\u001b[0m\u001b[0m\n\u001b[0;32m    404\u001b[0m         \u001b[1;32mreturn\u001b[0m \u001b[0mget_wrapper\u001b[0m\u001b[1;33m\u001b[0m\u001b[0m\n",
      "\u001b[1;32md:\\code\\qcodes\\qcodes\\instrument\\parameter.py\u001b[0m in \u001b[0;36mget_wrapper\u001b[1;34m(*args, **kwargs)\u001b[0m\n\u001b[0;32m    356\u001b[0m             \u001b[1;32mtry\u001b[0m\u001b[1;33m:\u001b[0m\u001b[1;33m\u001b[0m\u001b[0m\n\u001b[0;32m    357\u001b[0m                 \u001b[1;31m# There might be cases where a .get also has args/kwargs\u001b[0m\u001b[1;33m\u001b[0m\u001b[1;33m\u001b[0m\u001b[0m\n\u001b[1;32m--> 358\u001b[1;33m                 \u001b[0mvalue\u001b[0m \u001b[1;33m=\u001b[0m \u001b[0mget_function\u001b[0m\u001b[1;33m(\u001b[0m\u001b[1;33m*\u001b[0m\u001b[0margs\u001b[0m\u001b[1;33m,\u001b[0m \u001b[1;33m**\u001b[0m\u001b[0mkwargs\u001b[0m\u001b[1;33m)\u001b[0m\u001b[1;33m\u001b[0m\u001b[0m\n\u001b[0m\u001b[0;32m    359\u001b[0m                 \u001b[0mself\u001b[0m\u001b[1;33m.\u001b[0m\u001b[0mraw_value\u001b[0m \u001b[1;33m=\u001b[0m \u001b[0mvalue\u001b[0m\u001b[1;33m\u001b[0m\u001b[0m\n\u001b[0;32m    360\u001b[0m \u001b[1;33m\u001b[0m\u001b[0m\n",
      "\u001b[1;32md:\\code\\qcodes\\qcodes\\utils\\command.py\u001b[0m in \u001b[0;36m__call__\u001b[1;34m(self, *args)\u001b[0m\n\u001b[0;32m    175\u001b[0m             raise TypeError(\n\u001b[0;32m    176\u001b[0m                 'command takes exactly {} args'.format(self.arg_count))\n\u001b[1;32m--> 177\u001b[1;33m         \u001b[1;32mreturn\u001b[0m \u001b[0mself\u001b[0m\u001b[1;33m.\u001b[0m\u001b[0mexec_function\u001b[0m\u001b[1;33m(\u001b[0m\u001b[1;33m*\u001b[0m\u001b[0margs\u001b[0m\u001b[1;33m)\u001b[0m\u001b[1;33m\u001b[0m\u001b[0m\n\u001b[0m",
      "\u001b[1;32md:\\code\\pytopo\\pytopo\\rf\\alazar_acquisition.py\u001b[0m in \u001b[0;36mdo_acquisition\u001b[1;34m(self)\u001b[0m\n\u001b[0;32m    125\u001b[0m     \u001b[1;32mdef\u001b[0m \u001b[0mdo_acquisition\u001b[0m\u001b[1;33m(\u001b[0m\u001b[0mself\u001b[0m\u001b[1;33m)\u001b[0m\u001b[1;33m:\u001b[0m\u001b[1;33m\u001b[0m\u001b[0m\n\u001b[0;32m    126\u001b[0m         \u001b[1;32mif\u001b[0m \u001b[0mself\u001b[0m\u001b[1;33m.\u001b[0m\u001b[0m_alazar\u001b[0m \u001b[1;32mis\u001b[0m \u001b[1;32mnot\u001b[0m \u001b[1;32mNone\u001b[0m\u001b[1;33m:\u001b[0m\u001b[1;33m\u001b[0m\u001b[0m\n\u001b[1;32m--> 127\u001b[1;33m             \u001b[0mvalue\u001b[0m \u001b[1;33m=\u001b[0m \u001b[0mself\u001b[0m\u001b[1;33m.\u001b[0m\u001b[0m_get_alazar\u001b[0m\u001b[1;33m(\u001b[0m\u001b[1;33m)\u001b[0m\u001b[1;33m.\u001b[0m\u001b[0macquire\u001b[0m\u001b[1;33m(\u001b[0m\u001b[0macquisition_controller\u001b[0m\u001b[1;33m=\u001b[0m\u001b[0mself\u001b[0m\u001b[1;33m,\u001b[0m \u001b[1;33m**\u001b[0m\u001b[0mself\u001b[0m\u001b[1;33m.\u001b[0m\u001b[0macquisitionkwargs\u001b[0m\u001b[1;33m)\u001b[0m\u001b[1;33m\u001b[0m\u001b[0m\n\u001b[0m\u001b[0;32m    128\u001b[0m         \u001b[1;32melse\u001b[0m\u001b[1;33m:\u001b[0m\u001b[1;33m\u001b[0m\u001b[0m\n\u001b[0;32m    129\u001b[0m             \u001b[0mvalue\u001b[0m \u001b[1;33m=\u001b[0m \u001b[1;32mNone\u001b[0m\u001b[1;33m\u001b[0m\u001b[0m\n",
      "\u001b[1;32md:\\code\\qcodes\\qcodes\\instrument_drivers\\AlazarTech\\ATS.py\u001b[0m in \u001b[0;36macquire\u001b[1;34m(self, mode, samples_per_record, records_per_buffer, buffers_per_acquisition, channel_selection, transfer_offset, external_startcapture, enable_record_headers, alloc_buffers, fifo_only_streaming, interleave_samples, get_processed_data, allocated_buffers, buffer_timeout, acquisition_controller)\u001b[0m\n\u001b[0;32m    823\u001b[0m                 \u001b[0mbuf\u001b[0m \u001b[1;33m=\u001b[0m \u001b[0mself\u001b[0m\u001b[1;33m.\u001b[0m\u001b[0mbuffer_list\u001b[0m\u001b[1;33m[\u001b[0m\u001b[0mbuffers_completed\u001b[0m \u001b[1;33m%\u001b[0m \u001b[0mallocated_buffers\u001b[0m\u001b[1;33m]\u001b[0m\u001b[1;33m\u001b[0m\u001b[0m\n\u001b[0;32m    824\u001b[0m                 self._call_dll('AlazarWaitAsyncBufferComplete',\n\u001b[1;32m--> 825\u001b[1;33m                                self._handle, ctypes.cast(buf.addr, ctypes.c_void_p), buffer_timeout)\n\u001b[0m\u001b[0;32m    826\u001b[0m \u001b[1;33m\u001b[0m\u001b[0m\n\u001b[0;32m    827\u001b[0m                 \u001b[1;31m# TODO(damazter) (C) last series of buffers must be handled\u001b[0m\u001b[1;33m\u001b[0m\u001b[1;33m\u001b[0m\u001b[0m\n",
      "\u001b[1;32md:\\code\\qcodes\\qcodes\\instrument_drivers\\AlazarTech\\ATS.py\u001b[0m in \u001b[0;36m_call_dll\u001b[1;34m(self, func_name, *args)\u001b[0m\n\u001b[0;32m    963\u001b[0m                 'error {}: {} from function {} with args: {}'.format(\n\u001b[0;32m    964\u001b[0m                     \u001b[0mreturn_code\u001b[0m\u001b[1;33m,\u001b[0m \u001b[0mself\u001b[0m\u001b[1;33m.\u001b[0m\u001b[0m_error_codes\u001b[0m\u001b[1;33m[\u001b[0m\u001b[0mreturn_code\u001b[0m\u001b[1;33m]\u001b[0m\u001b[1;33m,\u001b[0m \u001b[0mfunc_name\u001b[0m\u001b[1;33m,\u001b[0m\u001b[1;33m\u001b[0m\u001b[0m\n\u001b[1;32m--> 965\u001b[1;33m                     argrepr))\n\u001b[0m\u001b[0;32m    966\u001b[0m \u001b[1;33m\u001b[0m\u001b[0m\n\u001b[0;32m    967\u001b[0m         \u001b[1;31m# mark parameters updated (only after we've checked for errors)\u001b[0m\u001b[1;33m\u001b[0m\u001b[1;33m\u001b[0m\u001b[0m\n",
      "\u001b[1;31mRuntimeError\u001b[0m: ('error 579: ApiWaitTimeout: operation did not finish during timeout interval. Check your trigger. from function AlazarWaitAsyncBufferComplete with args: [2584, c_void_p(2903496196096), 10000]', 'getting avgiq_acq_acquisition')"
     ]
    }
   ],
   "source": [
    "data = acq.acquisition()"
   ]
  },
  {
   "cell_type": "code",
   "execution_count": 205,
   "metadata": {},
   "outputs": [
    {
     "data": {
      "text/plain": [
       "(401, 2)"
      ]
     },
     "execution_count": 205,
     "metadata": {},
     "output_type": "execute_result"
    }
   ],
   "source": [
    "data.shape"
   ]
  },
  {
   "cell_type": "code",
   "execution_count": 286,
   "metadata": {},
   "outputs": [
    {
     "ename": "RuntimeError",
     "evalue": "('error 579: ApiWaitTimeout: operation did not finish during timeout interval. Check your trigger. from function AlazarWaitAsyncBufferComplete with args: [2584, c_void_p(2903496196096), 10000]', 'getting avgiq_acq_acquisition')",
     "output_type": "error",
     "traceback": [
      "\u001b[1;31m---------------------------------------------------------------------------\u001b[0m",
      "\u001b[1;31mRuntimeError\u001b[0m                              Traceback (most recent call last)",
      "\u001b[1;32m<ipython-input-286-bfb6e252d77d>\u001b[0m in \u001b[0;36m<module>\u001b[1;34m()\u001b[0m\n\u001b[0;32m      1\u001b[0m \u001b[1;32mfor\u001b[0m \u001b[0mi\u001b[0m \u001b[1;32min\u001b[0m \u001b[0mrange\u001b[0m\u001b[1;33m(\u001b[0m\u001b[1;36m10\u001b[0m\u001b[1;33m)\u001b[0m\u001b[1;33m:\u001b[0m\u001b[1;33m\u001b[0m\u001b[0m\n\u001b[1;32m----> 2\u001b[1;33m     \u001b[0mdata\u001b[0m \u001b[1;33m=\u001b[0m \u001b[0macq\u001b[0m\u001b[1;33m.\u001b[0m\u001b[0macquisition\u001b[0m\u001b[1;33m(\u001b[0m\u001b[1;33m)\u001b[0m\u001b[1;33m\u001b[0m\u001b[0m\n\u001b[0m\u001b[0;32m      3\u001b[0m     \u001b[0mtime\u001b[0m\u001b[1;33m.\u001b[0m\u001b[0msleep\u001b[0m\u001b[1;33m(\u001b[0m\u001b[1;36m0.1\u001b[0m\u001b[1;33m)\u001b[0m\u001b[1;33m\u001b[0m\u001b[0m\n",
      "\u001b[1;32md:\\code\\qcodes\\qcodes\\instrument\\parameter.py\u001b[0m in \u001b[0;36m__call__\u001b[1;34m(self, *args, **kwargs)\u001b[0m\n\u001b[0;32m    277\u001b[0m         \u001b[1;32mif\u001b[0m \u001b[0mlen\u001b[0m\u001b[1;33m(\u001b[0m\u001b[0margs\u001b[0m\u001b[1;33m)\u001b[0m \u001b[1;33m==\u001b[0m \u001b[1;36m0\u001b[0m\u001b[1;33m:\u001b[0m\u001b[1;33m\u001b[0m\u001b[0m\n\u001b[0;32m    278\u001b[0m             \u001b[1;32mif\u001b[0m \u001b[0mhasattr\u001b[0m\u001b[1;33m(\u001b[0m\u001b[0mself\u001b[0m\u001b[1;33m,\u001b[0m \u001b[1;34m'get'\u001b[0m\u001b[1;33m)\u001b[0m\u001b[1;33m:\u001b[0m\u001b[1;33m\u001b[0m\u001b[0m\n\u001b[1;32m--> 279\u001b[1;33m                 \u001b[1;32mreturn\u001b[0m \u001b[0mself\u001b[0m\u001b[1;33m.\u001b[0m\u001b[0mget\u001b[0m\u001b[1;33m(\u001b[0m\u001b[1;33m)\u001b[0m\u001b[1;33m\u001b[0m\u001b[0m\n\u001b[0m\u001b[0;32m    280\u001b[0m             \u001b[1;32melse\u001b[0m\u001b[1;33m:\u001b[0m\u001b[1;33m\u001b[0m\u001b[0m\n\u001b[0;32m    281\u001b[0m                 raise NotImplementedError('no get cmd found in' +\n",
      "\u001b[1;32md:\\code\\qcodes\\qcodes\\instrument\\parameter.py\u001b[0m in \u001b[0;36mget_wrapper\u001b[1;34m(*args, **kwargs)\u001b[0m\n\u001b[0;32m    400\u001b[0m             \u001b[1;32mexcept\u001b[0m \u001b[0mException\u001b[0m \u001b[1;32mas\u001b[0m \u001b[0me\u001b[0m\u001b[1;33m:\u001b[0m\u001b[1;33m\u001b[0m\u001b[0m\n\u001b[0;32m    401\u001b[0m                 \u001b[0me\u001b[0m\u001b[1;33m.\u001b[0m\u001b[0margs\u001b[0m \u001b[1;33m=\u001b[0m \u001b[0me\u001b[0m\u001b[1;33m.\u001b[0m\u001b[0margs\u001b[0m \u001b[1;33m+\u001b[0m \u001b[1;33m(\u001b[0m\u001b[1;34m'getting {}'\u001b[0m\u001b[1;33m.\u001b[0m\u001b[0mformat\u001b[0m\u001b[1;33m(\u001b[0m\u001b[0mself\u001b[0m\u001b[1;33m)\u001b[0m\u001b[1;33m,\u001b[0m\u001b[1;33m)\u001b[0m\u001b[1;33m\u001b[0m\u001b[0m\n\u001b[1;32m--> 402\u001b[1;33m                 \u001b[1;32mraise\u001b[0m \u001b[0me\u001b[0m\u001b[1;33m\u001b[0m\u001b[0m\n\u001b[0m\u001b[0;32m    403\u001b[0m \u001b[1;33m\u001b[0m\u001b[0m\n\u001b[0;32m    404\u001b[0m         \u001b[1;32mreturn\u001b[0m \u001b[0mget_wrapper\u001b[0m\u001b[1;33m\u001b[0m\u001b[0m\n",
      "\u001b[1;32md:\\code\\qcodes\\qcodes\\instrument\\parameter.py\u001b[0m in \u001b[0;36mget_wrapper\u001b[1;34m(*args, **kwargs)\u001b[0m\n\u001b[0;32m    356\u001b[0m             \u001b[1;32mtry\u001b[0m\u001b[1;33m:\u001b[0m\u001b[1;33m\u001b[0m\u001b[0m\n\u001b[0;32m    357\u001b[0m                 \u001b[1;31m# There might be cases where a .get also has args/kwargs\u001b[0m\u001b[1;33m\u001b[0m\u001b[1;33m\u001b[0m\u001b[0m\n\u001b[1;32m--> 358\u001b[1;33m                 \u001b[0mvalue\u001b[0m \u001b[1;33m=\u001b[0m \u001b[0mget_function\u001b[0m\u001b[1;33m(\u001b[0m\u001b[1;33m*\u001b[0m\u001b[0margs\u001b[0m\u001b[1;33m,\u001b[0m \u001b[1;33m**\u001b[0m\u001b[0mkwargs\u001b[0m\u001b[1;33m)\u001b[0m\u001b[1;33m\u001b[0m\u001b[0m\n\u001b[0m\u001b[0;32m    359\u001b[0m                 \u001b[0mself\u001b[0m\u001b[1;33m.\u001b[0m\u001b[0mraw_value\u001b[0m \u001b[1;33m=\u001b[0m \u001b[0mvalue\u001b[0m\u001b[1;33m\u001b[0m\u001b[0m\n\u001b[0;32m    360\u001b[0m \u001b[1;33m\u001b[0m\u001b[0m\n",
      "\u001b[1;32md:\\code\\qcodes\\qcodes\\utils\\command.py\u001b[0m in \u001b[0;36m__call__\u001b[1;34m(self, *args)\u001b[0m\n\u001b[0;32m    175\u001b[0m             raise TypeError(\n\u001b[0;32m    176\u001b[0m                 'command takes exactly {} args'.format(self.arg_count))\n\u001b[1;32m--> 177\u001b[1;33m         \u001b[1;32mreturn\u001b[0m \u001b[0mself\u001b[0m\u001b[1;33m.\u001b[0m\u001b[0mexec_function\u001b[0m\u001b[1;33m(\u001b[0m\u001b[1;33m*\u001b[0m\u001b[0margs\u001b[0m\u001b[1;33m)\u001b[0m\u001b[1;33m\u001b[0m\u001b[0m\n\u001b[0m",
      "\u001b[1;32md:\\code\\pytopo\\pytopo\\rf\\alazar_acquisition.py\u001b[0m in \u001b[0;36mdo_acquisition\u001b[1;34m(self)\u001b[0m\n\u001b[0;32m    125\u001b[0m     \u001b[1;32mdef\u001b[0m \u001b[0mdo_acquisition\u001b[0m\u001b[1;33m(\u001b[0m\u001b[0mself\u001b[0m\u001b[1;33m)\u001b[0m\u001b[1;33m:\u001b[0m\u001b[1;33m\u001b[0m\u001b[0m\n\u001b[0;32m    126\u001b[0m         \u001b[1;32mif\u001b[0m \u001b[0mself\u001b[0m\u001b[1;33m.\u001b[0m\u001b[0m_alazar\u001b[0m \u001b[1;32mis\u001b[0m \u001b[1;32mnot\u001b[0m \u001b[1;32mNone\u001b[0m\u001b[1;33m:\u001b[0m\u001b[1;33m\u001b[0m\u001b[0m\n\u001b[1;32m--> 127\u001b[1;33m             \u001b[0mvalue\u001b[0m \u001b[1;33m=\u001b[0m \u001b[0mself\u001b[0m\u001b[1;33m.\u001b[0m\u001b[0m_get_alazar\u001b[0m\u001b[1;33m(\u001b[0m\u001b[1;33m)\u001b[0m\u001b[1;33m.\u001b[0m\u001b[0macquire\u001b[0m\u001b[1;33m(\u001b[0m\u001b[0macquisition_controller\u001b[0m\u001b[1;33m=\u001b[0m\u001b[0mself\u001b[0m\u001b[1;33m,\u001b[0m \u001b[1;33m**\u001b[0m\u001b[0mself\u001b[0m\u001b[1;33m.\u001b[0m\u001b[0macquisitionkwargs\u001b[0m\u001b[1;33m)\u001b[0m\u001b[1;33m\u001b[0m\u001b[0m\n\u001b[0m\u001b[0;32m    128\u001b[0m         \u001b[1;32melse\u001b[0m\u001b[1;33m:\u001b[0m\u001b[1;33m\u001b[0m\u001b[0m\n\u001b[0;32m    129\u001b[0m             \u001b[0mvalue\u001b[0m \u001b[1;33m=\u001b[0m \u001b[1;32mNone\u001b[0m\u001b[1;33m\u001b[0m\u001b[0m\n",
      "\u001b[1;32md:\\code\\qcodes\\qcodes\\instrument_drivers\\AlazarTech\\ATS.py\u001b[0m in \u001b[0;36macquire\u001b[1;34m(self, mode, samples_per_record, records_per_buffer, buffers_per_acquisition, channel_selection, transfer_offset, external_startcapture, enable_record_headers, alloc_buffers, fifo_only_streaming, interleave_samples, get_processed_data, allocated_buffers, buffer_timeout, acquisition_controller)\u001b[0m\n\u001b[0;32m    823\u001b[0m                 \u001b[0mbuf\u001b[0m \u001b[1;33m=\u001b[0m \u001b[0mself\u001b[0m\u001b[1;33m.\u001b[0m\u001b[0mbuffer_list\u001b[0m\u001b[1;33m[\u001b[0m\u001b[0mbuffers_completed\u001b[0m \u001b[1;33m%\u001b[0m \u001b[0mallocated_buffers\u001b[0m\u001b[1;33m]\u001b[0m\u001b[1;33m\u001b[0m\u001b[0m\n\u001b[0;32m    824\u001b[0m                 self._call_dll('AlazarWaitAsyncBufferComplete',\n\u001b[1;32m--> 825\u001b[1;33m                                self._handle, ctypes.cast(buf.addr, ctypes.c_void_p), buffer_timeout)\n\u001b[0m\u001b[0;32m    826\u001b[0m \u001b[1;33m\u001b[0m\u001b[0m\n\u001b[0;32m    827\u001b[0m                 \u001b[1;31m# TODO(damazter) (C) last series of buffers must be handled\u001b[0m\u001b[1;33m\u001b[0m\u001b[1;33m\u001b[0m\u001b[0m\n",
      "\u001b[1;32md:\\code\\qcodes\\qcodes\\instrument_drivers\\AlazarTech\\ATS.py\u001b[0m in \u001b[0;36m_call_dll\u001b[1;34m(self, func_name, *args)\u001b[0m\n\u001b[0;32m    963\u001b[0m                 'error {}: {} from function {} with args: {}'.format(\n\u001b[0;32m    964\u001b[0m                     \u001b[0mreturn_code\u001b[0m\u001b[1;33m,\u001b[0m \u001b[0mself\u001b[0m\u001b[1;33m.\u001b[0m\u001b[0m_error_codes\u001b[0m\u001b[1;33m[\u001b[0m\u001b[0mreturn_code\u001b[0m\u001b[1;33m]\u001b[0m\u001b[1;33m,\u001b[0m \u001b[0mfunc_name\u001b[0m\u001b[1;33m,\u001b[0m\u001b[1;33m\u001b[0m\u001b[0m\n\u001b[1;32m--> 965\u001b[1;33m                     argrepr))\n\u001b[0m\u001b[0;32m    966\u001b[0m \u001b[1;33m\u001b[0m\u001b[0m\n\u001b[0;32m    967\u001b[0m         \u001b[1;31m# mark parameters updated (only after we've checked for errors)\u001b[0m\u001b[1;33m\u001b[0m\u001b[1;33m\u001b[0m\u001b[0m\n",
      "\u001b[1;31mRuntimeError\u001b[0m: ('error 579: ApiWaitTimeout: operation did not finish during timeout interval. Check your trigger. from function AlazarWaitAsyncBufferComplete with args: [2584, c_void_p(2903496196096), 10000]', 'getting avgiq_acq_acquisition')"
     ]
    }
   ],
   "source": [
    "for i in range(10):\n",
    "    data = acq.acquisition()\n",
    "    time.sleep(0.1)"
   ]
  },
  {
   "cell_type": "code",
   "execution_count": null,
   "metadata": {
    "collapsed": true
   },
   "outputs": [],
   "source": []
  }
 ],
 "metadata": {
  "kernelspec": {
   "display_name": "Python 3",
   "language": "python",
   "name": "python3"
  },
  "language_info": {
   "codemirror_mode": {
    "name": "ipython",
    "version": 3
   },
   "file_extension": ".py",
   "mimetype": "text/x-python",
   "name": "python",
   "nbconvert_exporter": "python",
   "pygments_lexer": "ipython3",
   "version": "3.6.3"
  },
  "toc": {
   "base_numbering": 1,
   "nav_menu": {},
   "number_sections": true,
   "sideBar": true,
   "skip_h1_title": false,
   "title_cell": "Table of Contents",
   "title_sidebar": "Contents",
   "toc_cell": false,
   "toc_position": {
    "height": "calc(100% - 180px)",
    "left": "10px",
    "top": "150px",
    "width": "589px"
   },
   "toc_section_display": true,
   "toc_window_display": true
  }
 },
 "nbformat": 4,
 "nbformat_minor": 2
}
