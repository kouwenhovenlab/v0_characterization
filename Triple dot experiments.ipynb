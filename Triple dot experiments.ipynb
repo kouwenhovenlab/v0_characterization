{
 "cells": [
  {
   "cell_type": "markdown",
   "metadata": {},
   "source": [
    "# Set up NB"
   ]
  },
  {
   "cell_type": "code",
   "execution_count": 1,
   "metadata": {
    "ExecuteTime": {
     "end_time": "2018-07-18T19:00:55.483658Z",
     "start_time": "2018-07-18T19:00:53.983718Z"
    },
    "collapsed": true
   },
   "outputs": [],
   "source": [
    "# %gui qt\n",
    "%matplotlib notebook\n",
    "\n",
    "import sys\n",
    "import os\n",
    "import time\n",
    "import logging\n",
    "from importlib import reload\n",
    "\n",
    "import numpy as np\n",
    "from matplotlib import pyplot as plt"
   ]
  },
  {
   "cell_type": "code",
   "execution_count": 78,
   "metadata": {
    "ExecuteTime": {
     "end_time": "2018-07-19T13:24:05.242082Z",
     "start_time": "2018-07-19T13:24:05.202112Z"
    },
    "collapsed": true
   },
   "outputs": [],
   "source": [
    "import qcodes as qc\n",
    "\n",
    "from qcodes.instrument.parameter import Parameter\n",
    "\n",
    "from pytopo.mplplots import init_nb_plotting; reload(init_nb_plotting)\n",
    "from pytopo.mplplots.init_nb_plotting import *\n",
    "from pytopo.mplplots import plots as mplplots\n",
    "\n",
    "from pytopo.qctools import instruments as instools; reload(instools)\n",
    "from pytopo.qctools.instruments import create_inst, add2station\n",
    "from pytopo.qctools.dataset2 import select_experiment\n",
    "from pytopo.qctools.measurement import MeasurementExt\n",
    "\n",
    "from pytopo.rf import alazar_detector; reload(alazar_detector)\n",
    "from pytopo.rf.alazar_detector import AlazarDetector\n",
    "\n",
    "from plottr import qcodes_dataset; reload(qcodes_dataset)\n",
    "from plottr.qcodes_dataset import QcodesDatasetSubscriber"
   ]
  },
  {
   "cell_type": "code",
   "execution_count": null,
   "metadata": {
    "collapsed": true
   },
   "outputs": [],
   "source": []
  },
  {
   "cell_type": "markdown",
   "metadata": {},
   "source": [
    "# Initialize"
   ]
  },
  {
   "cell_type": "markdown",
   "metadata": {},
   "source": [
    "## global settings"
   ]
  },
  {
   "cell_type": "code",
   "execution_count": 3,
   "metadata": {
    "ExecuteTime": {
     "end_time": "2018-07-18T19:01:00.625463Z",
     "start_time": "2018-07-18T19:01:00.605460Z"
    },
    "collapsed": true
   },
   "outputs": [],
   "source": [
    "SAMPLE = 'Cq334'\n",
    "\n",
    "qc.config['core']['db_location'] = r\"d:/OneDrive/BF1/Data/experiments.db\"\n",
    "\n",
    "qc.dataset.database.initialise_database()"
   ]
  },
  {
   "cell_type": "code",
   "execution_count": null,
   "metadata": {
    "collapsed": true
   },
   "outputs": [],
   "source": []
  },
  {
   "cell_type": "markdown",
   "metadata": {},
   "source": [
    "## Create instruments"
   ]
  },
  {
   "cell_type": "markdown",
   "metadata": {},
   "source": [
    "### Physical instruments"
   ]
  },
  {
   "cell_type": "code",
   "execution_count": 62,
   "metadata": {
    "ExecuteTime": {
     "end_time": "2018-07-19T12:02:01.563735Z",
     "start_time": "2018-07-19T12:02:00.313787Z"
    }
   },
   "outputs": [
    {
     "name": "stdout",
     "output_type": "stream",
     "text": [
      "Instrument ivvi already exists.\n",
      "Instrument key1 already exists.\n",
      "Connected to: Keysight Technologies 34465A (serial:MY57503135, firmware:A.02.14-02.40-02.14-00.49-03-01) in 0.13s\n",
      "Instrument key2 already exists.\n",
      "Connected to: Keysight Technologies 34465A (serial:MY57503556, firmware:A.02.14-02.40-02.14-00.49-03-01) in 0.11s\n",
      "Instrument lockin1 already exists.\n"
     ]
    },
    {
     "name": "stderr",
     "output_type": "stream",
     "text": [
      "d:\\onedrive\\bf1\\code\\qcodes\\qcodes\\instrument\\parameter.py:578: UserWarning: set_step is deprecated use step property as in `inst.step = stepvalue` instead\n",
      "  \"set_step is deprecated use step property as in `inst.step = \"\n",
      "d:\\onedrive\\bf1\\code\\qcodes\\qcodes\\instrument\\parameter.py:590: UserWarning: set_delay is deprecated use inter_delay or post_delay property as in `inst.inter_delay = delayvalue` instead\n",
      "  \"set_delay is deprecated use inter_delay or post_delay property \"\n"
     ]
    }
   ],
   "source": [
    "inst_list = []\n",
    "\n",
    "from qcodes.instrument_drivers.QuTech.IVVI import IVVI\n",
    "ivvi = create_inst(IVVI, \"ivvi\", \"ASRL5::INSTR\")\n",
    "inst_list.append(ivvi)\n",
    "\n",
    "from qcodes.instrument_drivers.Keysight.Keysight_34465A import Keysight_34465A\n",
    "key1 = create_inst(Keysight_34465A, \"key1\", \"TCPIP::169.254.4.62::INSTR\", force_new_instance=True)\n",
    "key2 = create_inst(Keysight_34465A, \"key2\", \"TCPIP::169.254.4.61::INSTR\", force_new_instance=True)\n",
    "inst_list.append(key1)\n",
    "inst_list.append(key2)\n",
    "\n",
    "from qcodes.instrument_drivers.stanford_research.SR860 import SR860\n",
    "lockin1 = create_inst(SR860, \"lockin1\", \"GPIB0::3::INSTR\")\n",
    "inst_list.append(lockin1)\n",
    "\n",
    "\n",
    "for i in range(1,16):\n",
    "    ivvi.parameters['dac{}'.format(i)].set_step(2)\n",
    "    ivvi.parameters['dac{}'.format(i)].set_delay(0.001)\n",
    "\n",
    "ivvi.dac4.set_delay(0.001)\n",
    "ivvi.dac4.set_step(20)\n",
    "\n",
    "station = qc.Station(*inst_list)"
   ]
  },
  {
   "cell_type": "markdown",
   "metadata": {},
   "source": [
    "### Virtual instruments"
   ]
  },
  {
   "cell_type": "markdown",
   "metadata": {},
   "source": [
    "#### IVVI Rack"
   ]
  },
  {
   "cell_type": "code",
   "execution_count": 63,
   "metadata": {
    "ExecuteTime": {
     "end_time": "2018-07-19T12:02:11.333158Z",
     "start_time": "2018-07-19T12:02:11.313164Z"
    }
   },
   "outputs": [
    {
     "name": "stdout",
     "output_type": "stream",
     "text": [
      "Instrument ivvi_setup already exists.\n"
     ]
    }
   ],
   "source": [
    "from pytopo import ivvi as ivvi_ext; reload(ivvi_ext)\n",
    "from pytopo.ivvi import IVVISetup\n",
    "\n",
    "SD_current_resistance = 12e3 + 10e3 + 3.4e3\n",
    "SD_dac_multiplier = 1e-2\n",
    "SD_lockin_volt_multiplier = 1e-4\n",
    "SD_current_gain = 1e7\n",
    "\n",
    "ivvi_setup = create_inst(IVVISetup, 'ivvi_setup', ivvi=ivvi, force_new_instance=True)\n",
    "station = add2station(station, ivvi_setup)\n",
    "\n",
    "\n",
    "ivvi_setup.add_dac_voltage_src('SD', \n",
    "                               dac_number=4, \n",
    "                               multiplier=SD_dac_multiplier)\n",
    "\n",
    "ivvi_setup.add_voltage_src('SD_lockin', \n",
    "                           param=lockin1.amplitude, \n",
    "                           multiplier=SD_lockin_volt_multiplier)\n",
    "\n",
    "ivvi_setup.add_current_meas('SD', \n",
    "                            voltage_param=key1.volt, \n",
    "                            gain=SD_current_gain)\n",
    "\n",
    "ivvi_setup.add_dac_voltage_src('T1', \n",
    "                               dac_number=9, \n",
    "                               multiplier=1)\n",
    "ivvi_setup.add_dac_voltage_src('T2', \n",
    "                               dac_number=10, \n",
    "                               multiplier=1)\n",
    "ivvi_setup.add_dac_voltage_src('T3', \n",
    "                               dac_number=8, \n",
    "                               multiplier=1)\n",
    "ivvi_setup.add_dac_voltage_src('T4', \n",
    "                               dac_number=11, \n",
    "                               multiplier=1)\n",
    "ivvi_setup.add_dac_voltage_src('R2', \n",
    "                               dac_number=7, \n",
    "                               multiplier=0.1)\n",
    "ivvi_setup.add_dac_voltage_src('G_fine', \n",
    "                               dac_number=16, \n",
    "                               multiplier=0.01)\n",
    "ivvi_setup.add_dac_voltage_src('G_coarse', \n",
    "                               dac_number=15, \n",
    "                               multiplier=1)\n",
    "\n",
    "ivvi_setup.SD_lockin_voltage(1e-5)\n",
    "\n",
    "def print_IVVI_dac_list():\n",
    "    for i in range(16):\n",
    "        print('IVVI DAC #{} at {} mV'.format(i+1, ivvi.get('dac{}'.format(i+1))))"
   ]
  },
  {
   "cell_type": "markdown",
   "metadata": {
    "heading_collapsed": true
   },
   "source": [
    "#### Test IVVI with sample sim"
   ]
  },
  {
   "cell_type": "code",
   "execution_count": 22,
   "metadata": {
    "ExecuteTime": {
     "end_time": "2018-07-19T09:04:33.423054Z",
     "start_time": "2018-07-19T09:04:05.904609Z"
    },
    "collapsed": true,
    "hidden": true
   },
   "outputs": [],
   "source": [
    "voltage = np.linspace(-10e-3, 10e-3, 11)\n",
    "current = np.zeros_like(voltage)\n",
    "lockin_mag = np.zeros_like(voltage)\n",
    "lockin_phase = np.zeros_like(voltage)\n",
    "\n",
    "for i, v in enumerate(voltage):\n",
    "    ivvi_setup.SD_voltage(v)\n",
    "    current[i] = ivvi_setup.SD_current()\n",
    "    z = lockin1.X() + 1j * lockin1.Y()\n",
    "    lockin_mag[i] = np.abs(z)\n",
    "    lockin_phase[i] = np.angle(z, deg=True)"
   ]
  },
  {
   "cell_type": "code",
   "execution_count": 38,
   "metadata": {
    "ExecuteTime": {
     "end_time": "2018-07-19T09:16:48.979091Z",
     "start_time": "2018-07-19T09:16:48.959093Z"
    },
    "collapsed": true,
    "hidden": true
   },
   "outputs": [],
   "source": [
    "corr_bias = ivvi_setup.corrected_bias(\n",
    "    current, \n",
    "    voltage, \n",
    "    SD_current_resistance\n",
    ")\n",
    "\n",
    "dIdV = ivvi_setup.corrected_dIdV(\n",
    "    lockin_mag, \n",
    "    lockin_dV=1e-4, \n",
    "    current_gain=1e7,\n",
    ")"
   ]
  },
  {
   "cell_type": "code",
   "execution_count": 40,
   "metadata": {
    "ExecuteTime": {
     "end_time": "2018-07-19T09:18:46.245090Z",
     "start_time": "2018-07-19T09:18:46.165102Z"
    },
    "hidden": true
   },
   "outputs": [
    {
     "data": {
      "application/javascript": [
       "/* Put everything inside the global mpl namespace */\n",
       "window.mpl = {};\n",
       "\n",
       "\n",
       "mpl.get_websocket_type = function() {\n",
       "    if (typeof(WebSocket) !== 'undefined') {\n",
       "        return WebSocket;\n",
       "    } else if (typeof(MozWebSocket) !== 'undefined') {\n",
       "        return MozWebSocket;\n",
       "    } else {\n",
       "        alert('Your browser does not have WebSocket support.' +\n",
       "              'Please try Chrome, Safari or Firefox ≥ 6. ' +\n",
       "              'Firefox 4 and 5 are also supported but you ' +\n",
       "              'have to enable WebSockets in about:config.');\n",
       "    };\n",
       "}\n",
       "\n",
       "mpl.figure = function(figure_id, websocket, ondownload, parent_element) {\n",
       "    this.id = figure_id;\n",
       "\n",
       "    this.ws = websocket;\n",
       "\n",
       "    this.supports_binary = (this.ws.binaryType != undefined);\n",
       "\n",
       "    if (!this.supports_binary) {\n",
       "        var warnings = document.getElementById(\"mpl-warnings\");\n",
       "        if (warnings) {\n",
       "            warnings.style.display = 'block';\n",
       "            warnings.textContent = (\n",
       "                \"This browser does not support binary websocket messages. \" +\n",
       "                    \"Performance may be slow.\");\n",
       "        }\n",
       "    }\n",
       "\n",
       "    this.imageObj = new Image();\n",
       "\n",
       "    this.context = undefined;\n",
       "    this.message = undefined;\n",
       "    this.canvas = undefined;\n",
       "    this.rubberband_canvas = undefined;\n",
       "    this.rubberband_context = undefined;\n",
       "    this.format_dropdown = undefined;\n",
       "\n",
       "    this.image_mode = 'full';\n",
       "\n",
       "    this.root = $('<div/>');\n",
       "    this._root_extra_style(this.root)\n",
       "    this.root.attr('style', 'display: inline-block');\n",
       "\n",
       "    $(parent_element).append(this.root);\n",
       "\n",
       "    this._init_header(this);\n",
       "    this._init_canvas(this);\n",
       "    this._init_toolbar(this);\n",
       "\n",
       "    var fig = this;\n",
       "\n",
       "    this.waiting = false;\n",
       "\n",
       "    this.ws.onopen =  function () {\n",
       "            fig.send_message(\"supports_binary\", {value: fig.supports_binary});\n",
       "            fig.send_message(\"send_image_mode\", {});\n",
       "            if (mpl.ratio != 1) {\n",
       "                fig.send_message(\"set_dpi_ratio\", {'dpi_ratio': mpl.ratio});\n",
       "            }\n",
       "            fig.send_message(\"refresh\", {});\n",
       "        }\n",
       "\n",
       "    this.imageObj.onload = function() {\n",
       "            if (fig.image_mode == 'full') {\n",
       "                // Full images could contain transparency (where diff images\n",
       "                // almost always do), so we need to clear the canvas so that\n",
       "                // there is no ghosting.\n",
       "                fig.context.clearRect(0, 0, fig.canvas.width, fig.canvas.height);\n",
       "            }\n",
       "            fig.context.drawImage(fig.imageObj, 0, 0);\n",
       "        };\n",
       "\n",
       "    this.imageObj.onunload = function() {\n",
       "        this.ws.close();\n",
       "    }\n",
       "\n",
       "    this.ws.onmessage = this._make_on_message_function(this);\n",
       "\n",
       "    this.ondownload = ondownload;\n",
       "}\n",
       "\n",
       "mpl.figure.prototype._init_header = function() {\n",
       "    var titlebar = $(\n",
       "        '<div class=\"ui-dialog-titlebar ui-widget-header ui-corner-all ' +\n",
       "        'ui-helper-clearfix\"/>');\n",
       "    var titletext = $(\n",
       "        '<div class=\"ui-dialog-title\" style=\"width: 100%; ' +\n",
       "        'text-align: center; padding: 3px;\"/>');\n",
       "    titlebar.append(titletext)\n",
       "    this.root.append(titlebar);\n",
       "    this.header = titletext[0];\n",
       "}\n",
       "\n",
       "\n",
       "\n",
       "mpl.figure.prototype._canvas_extra_style = function(canvas_div) {\n",
       "\n",
       "}\n",
       "\n",
       "\n",
       "mpl.figure.prototype._root_extra_style = function(canvas_div) {\n",
       "\n",
       "}\n",
       "\n",
       "mpl.figure.prototype._init_canvas = function() {\n",
       "    var fig = this;\n",
       "\n",
       "    var canvas_div = $('<div/>');\n",
       "\n",
       "    canvas_div.attr('style', 'position: relative; clear: both; outline: 0');\n",
       "\n",
       "    function canvas_keyboard_event(event) {\n",
       "        return fig.key_event(event, event['data']);\n",
       "    }\n",
       "\n",
       "    canvas_div.keydown('key_press', canvas_keyboard_event);\n",
       "    canvas_div.keyup('key_release', canvas_keyboard_event);\n",
       "    this.canvas_div = canvas_div\n",
       "    this._canvas_extra_style(canvas_div)\n",
       "    this.root.append(canvas_div);\n",
       "\n",
       "    var canvas = $('<canvas/>');\n",
       "    canvas.addClass('mpl-canvas');\n",
       "    canvas.attr('style', \"left: 0; top: 0; z-index: 0; outline: 0\")\n",
       "\n",
       "    this.canvas = canvas[0];\n",
       "    this.context = canvas[0].getContext(\"2d\");\n",
       "\n",
       "    var backingStore = this.context.backingStorePixelRatio ||\n",
       "\tthis.context.webkitBackingStorePixelRatio ||\n",
       "\tthis.context.mozBackingStorePixelRatio ||\n",
       "\tthis.context.msBackingStorePixelRatio ||\n",
       "\tthis.context.oBackingStorePixelRatio ||\n",
       "\tthis.context.backingStorePixelRatio || 1;\n",
       "\n",
       "    mpl.ratio = (window.devicePixelRatio || 1) / backingStore;\n",
       "\n",
       "    var rubberband = $('<canvas/>');\n",
       "    rubberband.attr('style', \"position: absolute; left: 0; top: 0; z-index: 1;\")\n",
       "\n",
       "    var pass_mouse_events = true;\n",
       "\n",
       "    canvas_div.resizable({\n",
       "        start: function(event, ui) {\n",
       "            pass_mouse_events = false;\n",
       "        },\n",
       "        resize: function(event, ui) {\n",
       "            fig.request_resize(ui.size.width, ui.size.height);\n",
       "        },\n",
       "        stop: function(event, ui) {\n",
       "            pass_mouse_events = true;\n",
       "            fig.request_resize(ui.size.width, ui.size.height);\n",
       "        },\n",
       "    });\n",
       "\n",
       "    function mouse_event_fn(event) {\n",
       "        if (pass_mouse_events)\n",
       "            return fig.mouse_event(event, event['data']);\n",
       "    }\n",
       "\n",
       "    rubberband.mousedown('button_press', mouse_event_fn);\n",
       "    rubberband.mouseup('button_release', mouse_event_fn);\n",
       "    // Throttle sequential mouse events to 1 every 20ms.\n",
       "    rubberband.mousemove('motion_notify', mouse_event_fn);\n",
       "\n",
       "    rubberband.mouseenter('figure_enter', mouse_event_fn);\n",
       "    rubberband.mouseleave('figure_leave', mouse_event_fn);\n",
       "\n",
       "    canvas_div.on(\"wheel\", function (event) {\n",
       "        event = event.originalEvent;\n",
       "        event['data'] = 'scroll'\n",
       "        if (event.deltaY < 0) {\n",
       "            event.step = 1;\n",
       "        } else {\n",
       "            event.step = -1;\n",
       "        }\n",
       "        mouse_event_fn(event);\n",
       "    });\n",
       "\n",
       "    canvas_div.append(canvas);\n",
       "    canvas_div.append(rubberband);\n",
       "\n",
       "    this.rubberband = rubberband;\n",
       "    this.rubberband_canvas = rubberband[0];\n",
       "    this.rubberband_context = rubberband[0].getContext(\"2d\");\n",
       "    this.rubberband_context.strokeStyle = \"#000000\";\n",
       "\n",
       "    this._resize_canvas = function(width, height) {\n",
       "        // Keep the size of the canvas, canvas container, and rubber band\n",
       "        // canvas in synch.\n",
       "        canvas_div.css('width', width)\n",
       "        canvas_div.css('height', height)\n",
       "\n",
       "        canvas.attr('width', width * mpl.ratio);\n",
       "        canvas.attr('height', height * mpl.ratio);\n",
       "        canvas.attr('style', 'width: ' + width + 'px; height: ' + height + 'px;');\n",
       "\n",
       "        rubberband.attr('width', width);\n",
       "        rubberband.attr('height', height);\n",
       "    }\n",
       "\n",
       "    // Set the figure to an initial 600x600px, this will subsequently be updated\n",
       "    // upon first draw.\n",
       "    this._resize_canvas(600, 600);\n",
       "\n",
       "    // Disable right mouse context menu.\n",
       "    $(this.rubberband_canvas).bind(\"contextmenu\",function(e){\n",
       "        return false;\n",
       "    });\n",
       "\n",
       "    function set_focus () {\n",
       "        canvas.focus();\n",
       "        canvas_div.focus();\n",
       "    }\n",
       "\n",
       "    window.setTimeout(set_focus, 100);\n",
       "}\n",
       "\n",
       "mpl.figure.prototype._init_toolbar = function() {\n",
       "    var fig = this;\n",
       "\n",
       "    var nav_element = $('<div/>')\n",
       "    nav_element.attr('style', 'width: 100%');\n",
       "    this.root.append(nav_element);\n",
       "\n",
       "    // Define a callback function for later on.\n",
       "    function toolbar_event(event) {\n",
       "        return fig.toolbar_button_onclick(event['data']);\n",
       "    }\n",
       "    function toolbar_mouse_event(event) {\n",
       "        return fig.toolbar_button_onmouseover(event['data']);\n",
       "    }\n",
       "\n",
       "    for(var toolbar_ind in mpl.toolbar_items) {\n",
       "        var name = mpl.toolbar_items[toolbar_ind][0];\n",
       "        var tooltip = mpl.toolbar_items[toolbar_ind][1];\n",
       "        var image = mpl.toolbar_items[toolbar_ind][2];\n",
       "        var method_name = mpl.toolbar_items[toolbar_ind][3];\n",
       "\n",
       "        if (!name) {\n",
       "            // put a spacer in here.\n",
       "            continue;\n",
       "        }\n",
       "        var button = $('<button/>');\n",
       "        button.addClass('ui-button ui-widget ui-state-default ui-corner-all ' +\n",
       "                        'ui-button-icon-only');\n",
       "        button.attr('role', 'button');\n",
       "        button.attr('aria-disabled', 'false');\n",
       "        button.click(method_name, toolbar_event);\n",
       "        button.mouseover(tooltip, toolbar_mouse_event);\n",
       "\n",
       "        var icon_img = $('<span/>');\n",
       "        icon_img.addClass('ui-button-icon-primary ui-icon');\n",
       "        icon_img.addClass(image);\n",
       "        icon_img.addClass('ui-corner-all');\n",
       "\n",
       "        var tooltip_span = $('<span/>');\n",
       "        tooltip_span.addClass('ui-button-text');\n",
       "        tooltip_span.html(tooltip);\n",
       "\n",
       "        button.append(icon_img);\n",
       "        button.append(tooltip_span);\n",
       "\n",
       "        nav_element.append(button);\n",
       "    }\n",
       "\n",
       "    var fmt_picker_span = $('<span/>');\n",
       "\n",
       "    var fmt_picker = $('<select/>');\n",
       "    fmt_picker.addClass('mpl-toolbar-option ui-widget ui-widget-content');\n",
       "    fmt_picker_span.append(fmt_picker);\n",
       "    nav_element.append(fmt_picker_span);\n",
       "    this.format_dropdown = fmt_picker[0];\n",
       "\n",
       "    for (var ind in mpl.extensions) {\n",
       "        var fmt = mpl.extensions[ind];\n",
       "        var option = $(\n",
       "            '<option/>', {selected: fmt === mpl.default_extension}).html(fmt);\n",
       "        fmt_picker.append(option)\n",
       "    }\n",
       "\n",
       "    // Add hover states to the ui-buttons\n",
       "    $( \".ui-button\" ).hover(\n",
       "        function() { $(this).addClass(\"ui-state-hover\");},\n",
       "        function() { $(this).removeClass(\"ui-state-hover\");}\n",
       "    );\n",
       "\n",
       "    var status_bar = $('<span class=\"mpl-message\"/>');\n",
       "    nav_element.append(status_bar);\n",
       "    this.message = status_bar[0];\n",
       "}\n",
       "\n",
       "mpl.figure.prototype.request_resize = function(x_pixels, y_pixels) {\n",
       "    // Request matplotlib to resize the figure. Matplotlib will then trigger a resize in the client,\n",
       "    // which will in turn request a refresh of the image.\n",
       "    this.send_message('resize', {'width': x_pixels, 'height': y_pixels});\n",
       "}\n",
       "\n",
       "mpl.figure.prototype.send_message = function(type, properties) {\n",
       "    properties['type'] = type;\n",
       "    properties['figure_id'] = this.id;\n",
       "    this.ws.send(JSON.stringify(properties));\n",
       "}\n",
       "\n",
       "mpl.figure.prototype.send_draw_message = function() {\n",
       "    if (!this.waiting) {\n",
       "        this.waiting = true;\n",
       "        this.ws.send(JSON.stringify({type: \"draw\", figure_id: this.id}));\n",
       "    }\n",
       "}\n",
       "\n",
       "\n",
       "mpl.figure.prototype.handle_save = function(fig, msg) {\n",
       "    var format_dropdown = fig.format_dropdown;\n",
       "    var format = format_dropdown.options[format_dropdown.selectedIndex].value;\n",
       "    fig.ondownload(fig, format);\n",
       "}\n",
       "\n",
       "\n",
       "mpl.figure.prototype.handle_resize = function(fig, msg) {\n",
       "    var size = msg['size'];\n",
       "    if (size[0] != fig.canvas.width || size[1] != fig.canvas.height) {\n",
       "        fig._resize_canvas(size[0], size[1]);\n",
       "        fig.send_message(\"refresh\", {});\n",
       "    };\n",
       "}\n",
       "\n",
       "mpl.figure.prototype.handle_rubberband = function(fig, msg) {\n",
       "    var x0 = msg['x0'] / mpl.ratio;\n",
       "    var y0 = (fig.canvas.height - msg['y0']) / mpl.ratio;\n",
       "    var x1 = msg['x1'] / mpl.ratio;\n",
       "    var y1 = (fig.canvas.height - msg['y1']) / mpl.ratio;\n",
       "    x0 = Math.floor(x0) + 0.5;\n",
       "    y0 = Math.floor(y0) + 0.5;\n",
       "    x1 = Math.floor(x1) + 0.5;\n",
       "    y1 = Math.floor(y1) + 0.5;\n",
       "    var min_x = Math.min(x0, x1);\n",
       "    var min_y = Math.min(y0, y1);\n",
       "    var width = Math.abs(x1 - x0);\n",
       "    var height = Math.abs(y1 - y0);\n",
       "\n",
       "    fig.rubberband_context.clearRect(\n",
       "        0, 0, fig.canvas.width, fig.canvas.height);\n",
       "\n",
       "    fig.rubberband_context.strokeRect(min_x, min_y, width, height);\n",
       "}\n",
       "\n",
       "mpl.figure.prototype.handle_figure_label = function(fig, msg) {\n",
       "    // Updates the figure title.\n",
       "    fig.header.textContent = msg['label'];\n",
       "}\n",
       "\n",
       "mpl.figure.prototype.handle_cursor = function(fig, msg) {\n",
       "    var cursor = msg['cursor'];\n",
       "    switch(cursor)\n",
       "    {\n",
       "    case 0:\n",
       "        cursor = 'pointer';\n",
       "        break;\n",
       "    case 1:\n",
       "        cursor = 'default';\n",
       "        break;\n",
       "    case 2:\n",
       "        cursor = 'crosshair';\n",
       "        break;\n",
       "    case 3:\n",
       "        cursor = 'move';\n",
       "        break;\n",
       "    }\n",
       "    fig.rubberband_canvas.style.cursor = cursor;\n",
       "}\n",
       "\n",
       "mpl.figure.prototype.handle_message = function(fig, msg) {\n",
       "    fig.message.textContent = msg['message'];\n",
       "}\n",
       "\n",
       "mpl.figure.prototype.handle_draw = function(fig, msg) {\n",
       "    // Request the server to send over a new figure.\n",
       "    fig.send_draw_message();\n",
       "}\n",
       "\n",
       "mpl.figure.prototype.handle_image_mode = function(fig, msg) {\n",
       "    fig.image_mode = msg['mode'];\n",
       "}\n",
       "\n",
       "mpl.figure.prototype.updated_canvas_event = function() {\n",
       "    // Called whenever the canvas gets updated.\n",
       "    this.send_message(\"ack\", {});\n",
       "}\n",
       "\n",
       "// A function to construct a web socket function for onmessage handling.\n",
       "// Called in the figure constructor.\n",
       "mpl.figure.prototype._make_on_message_function = function(fig) {\n",
       "    return function socket_on_message(evt) {\n",
       "        if (evt.data instanceof Blob) {\n",
       "            /* FIXME: We get \"Resource interpreted as Image but\n",
       "             * transferred with MIME type text/plain:\" errors on\n",
       "             * Chrome.  But how to set the MIME type?  It doesn't seem\n",
       "             * to be part of the websocket stream */\n",
       "            evt.data.type = \"image/png\";\n",
       "\n",
       "            /* Free the memory for the previous frames */\n",
       "            if (fig.imageObj.src) {\n",
       "                (window.URL || window.webkitURL).revokeObjectURL(\n",
       "                    fig.imageObj.src);\n",
       "            }\n",
       "\n",
       "            fig.imageObj.src = (window.URL || window.webkitURL).createObjectURL(\n",
       "                evt.data);\n",
       "            fig.updated_canvas_event();\n",
       "            fig.waiting = false;\n",
       "            return;\n",
       "        }\n",
       "        else if (typeof evt.data === 'string' && evt.data.slice(0, 21) == \"data:image/png;base64\") {\n",
       "            fig.imageObj.src = evt.data;\n",
       "            fig.updated_canvas_event();\n",
       "            fig.waiting = false;\n",
       "            return;\n",
       "        }\n",
       "\n",
       "        var msg = JSON.parse(evt.data);\n",
       "        var msg_type = msg['type'];\n",
       "\n",
       "        // Call the  \"handle_{type}\" callback, which takes\n",
       "        // the figure and JSON message as its only arguments.\n",
       "        try {\n",
       "            var callback = fig[\"handle_\" + msg_type];\n",
       "        } catch (e) {\n",
       "            console.log(\"No handler for the '\" + msg_type + \"' message type: \", msg);\n",
       "            return;\n",
       "        }\n",
       "\n",
       "        if (callback) {\n",
       "            try {\n",
       "                // console.log(\"Handling '\" + msg_type + \"' message: \", msg);\n",
       "                callback(fig, msg);\n",
       "            } catch (e) {\n",
       "                console.log(\"Exception inside the 'handler_\" + msg_type + \"' callback:\", e, e.stack, msg);\n",
       "            }\n",
       "        }\n",
       "    };\n",
       "}\n",
       "\n",
       "// from http://stackoverflow.com/questions/1114465/getting-mouse-location-in-canvas\n",
       "mpl.findpos = function(e) {\n",
       "    //this section is from http://www.quirksmode.org/js/events_properties.html\n",
       "    var targ;\n",
       "    if (!e)\n",
       "        e = window.event;\n",
       "    if (e.target)\n",
       "        targ = e.target;\n",
       "    else if (e.srcElement)\n",
       "        targ = e.srcElement;\n",
       "    if (targ.nodeType == 3) // defeat Safari bug\n",
       "        targ = targ.parentNode;\n",
       "\n",
       "    // jQuery normalizes the pageX and pageY\n",
       "    // pageX,Y are the mouse positions relative to the document\n",
       "    // offset() returns the position of the element relative to the document\n",
       "    var x = e.pageX - $(targ).offset().left;\n",
       "    var y = e.pageY - $(targ).offset().top;\n",
       "\n",
       "    return {\"x\": x, \"y\": y};\n",
       "};\n",
       "\n",
       "/*\n",
       " * return a copy of an object with only non-object keys\n",
       " * we need this to avoid circular references\n",
       " * http://stackoverflow.com/a/24161582/3208463\n",
       " */\n",
       "function simpleKeys (original) {\n",
       "  return Object.keys(original).reduce(function (obj, key) {\n",
       "    if (typeof original[key] !== 'object')\n",
       "        obj[key] = original[key]\n",
       "    return obj;\n",
       "  }, {});\n",
       "}\n",
       "\n",
       "mpl.figure.prototype.mouse_event = function(event, name) {\n",
       "    var canvas_pos = mpl.findpos(event)\n",
       "\n",
       "    if (name === 'button_press')\n",
       "    {\n",
       "        this.canvas.focus();\n",
       "        this.canvas_div.focus();\n",
       "    }\n",
       "\n",
       "    var x = canvas_pos.x * mpl.ratio;\n",
       "    var y = canvas_pos.y * mpl.ratio;\n",
       "\n",
       "    this.send_message(name, {x: x, y: y, button: event.button,\n",
       "                             step: event.step,\n",
       "                             guiEvent: simpleKeys(event)});\n",
       "\n",
       "    /* This prevents the web browser from automatically changing to\n",
       "     * the text insertion cursor when the button is pressed.  We want\n",
       "     * to control all of the cursor setting manually through the\n",
       "     * 'cursor' event from matplotlib */\n",
       "    event.preventDefault();\n",
       "    return false;\n",
       "}\n",
       "\n",
       "mpl.figure.prototype._key_event_extra = function(event, name) {\n",
       "    // Handle any extra behaviour associated with a key event\n",
       "}\n",
       "\n",
       "mpl.figure.prototype.key_event = function(event, name) {\n",
       "\n",
       "    // Prevent repeat events\n",
       "    if (name == 'key_press')\n",
       "    {\n",
       "        if (event.which === this._key)\n",
       "            return;\n",
       "        else\n",
       "            this._key = event.which;\n",
       "    }\n",
       "    if (name == 'key_release')\n",
       "        this._key = null;\n",
       "\n",
       "    var value = '';\n",
       "    if (event.ctrlKey && event.which != 17)\n",
       "        value += \"ctrl+\";\n",
       "    if (event.altKey && event.which != 18)\n",
       "        value += \"alt+\";\n",
       "    if (event.shiftKey && event.which != 16)\n",
       "        value += \"shift+\";\n",
       "\n",
       "    value += 'k';\n",
       "    value += event.which.toString();\n",
       "\n",
       "    this._key_event_extra(event, name);\n",
       "\n",
       "    this.send_message(name, {key: value,\n",
       "                             guiEvent: simpleKeys(event)});\n",
       "    return false;\n",
       "}\n",
       "\n",
       "mpl.figure.prototype.toolbar_button_onclick = function(name) {\n",
       "    if (name == 'download') {\n",
       "        this.handle_save(this, null);\n",
       "    } else {\n",
       "        this.send_message(\"toolbar_button\", {name: name});\n",
       "    }\n",
       "};\n",
       "\n",
       "mpl.figure.prototype.toolbar_button_onmouseover = function(tooltip) {\n",
       "    this.message.textContent = tooltip;\n",
       "};\n",
       "mpl.toolbar_items = [[\"Home\", \"Reset original view\", \"fa fa-home icon-home\", \"home\"], [\"Back\", \"Back to  previous view\", \"fa fa-arrow-left icon-arrow-left\", \"back\"], [\"Forward\", \"Forward to next view\", \"fa fa-arrow-right icon-arrow-right\", \"forward\"], [\"\", \"\", \"\", \"\"], [\"Pan\", \"Pan axes with left mouse, zoom with right\", \"fa fa-arrows icon-move\", \"pan\"], [\"Zoom\", \"Zoom to rectangle\", \"fa fa-square-o icon-check-empty\", \"zoom\"], [\"\", \"\", \"\", \"\"], [\"Download\", \"Download plot\", \"fa fa-floppy-o icon-save\", \"download\"]];\n",
       "\n",
       "mpl.extensions = [\"eps\", \"pdf\", \"png\", \"ps\", \"raw\", \"svg\"];\n",
       "\n",
       "mpl.default_extension = \"png\";var comm_websocket_adapter = function(comm) {\n",
       "    // Create a \"websocket\"-like object which calls the given IPython comm\n",
       "    // object with the appropriate methods. Currently this is a non binary\n",
       "    // socket, so there is still some room for performance tuning.\n",
       "    var ws = {};\n",
       "\n",
       "    ws.close = function() {\n",
       "        comm.close()\n",
       "    };\n",
       "    ws.send = function(m) {\n",
       "        //console.log('sending', m);\n",
       "        comm.send(m);\n",
       "    };\n",
       "    // Register the callback with on_msg.\n",
       "    comm.on_msg(function(msg) {\n",
       "        //console.log('receiving', msg['content']['data'], msg);\n",
       "        // Pass the mpl event to the overriden (by mpl) onmessage function.\n",
       "        ws.onmessage(msg['content']['data'])\n",
       "    });\n",
       "    return ws;\n",
       "}\n",
       "\n",
       "mpl.mpl_figure_comm = function(comm, msg) {\n",
       "    // This is the function which gets called when the mpl process\n",
       "    // starts-up an IPython Comm through the \"matplotlib\" channel.\n",
       "\n",
       "    var id = msg.content.data.id;\n",
       "    // Get hold of the div created by the display call when the Comm\n",
       "    // socket was opened in Python.\n",
       "    var element = $(\"#\" + id);\n",
       "    var ws_proxy = comm_websocket_adapter(comm)\n",
       "\n",
       "    function ondownload(figure, format) {\n",
       "        window.open(figure.imageObj.src);\n",
       "    }\n",
       "\n",
       "    var fig = new mpl.figure(id, ws_proxy,\n",
       "                           ondownload,\n",
       "                           element.get(0));\n",
       "\n",
       "    // Call onopen now - mpl needs it, as it is assuming we've passed it a real\n",
       "    // web socket which is closed, not our websocket->open comm proxy.\n",
       "    ws_proxy.onopen();\n",
       "\n",
       "    fig.parent_element = element.get(0);\n",
       "    fig.cell_info = mpl.find_output_cell(\"<div id='\" + id + \"'></div>\");\n",
       "    if (!fig.cell_info) {\n",
       "        console.error(\"Failed to find cell for figure\", id, fig);\n",
       "        return;\n",
       "    }\n",
       "\n",
       "    var output_index = fig.cell_info[2]\n",
       "    var cell = fig.cell_info[0];\n",
       "\n",
       "};\n",
       "\n",
       "mpl.figure.prototype.handle_close = function(fig, msg) {\n",
       "    var width = fig.canvas.width/mpl.ratio\n",
       "    fig.root.unbind('remove')\n",
       "\n",
       "    // Update the output cell to use the data from the current canvas.\n",
       "    fig.push_to_output();\n",
       "    var dataURL = fig.canvas.toDataURL();\n",
       "    // Re-enable the keyboard manager in IPython - without this line, in FF,\n",
       "    // the notebook keyboard shortcuts fail.\n",
       "    IPython.keyboard_manager.enable()\n",
       "    $(fig.parent_element).html('<img src=\"' + dataURL + '\" width=\"' + width + '\">');\n",
       "    fig.close_ws(fig, msg);\n",
       "}\n",
       "\n",
       "mpl.figure.prototype.close_ws = function(fig, msg){\n",
       "    fig.send_message('closing', msg);\n",
       "    // fig.ws.close()\n",
       "}\n",
       "\n",
       "mpl.figure.prototype.push_to_output = function(remove_interactive) {\n",
       "    // Turn the data on the canvas into data in the output cell.\n",
       "    var width = this.canvas.width/mpl.ratio\n",
       "    var dataURL = this.canvas.toDataURL();\n",
       "    this.cell_info[1]['text/html'] = '<img src=\"' + dataURL + '\" width=\"' + width + '\">';\n",
       "}\n",
       "\n",
       "mpl.figure.prototype.updated_canvas_event = function() {\n",
       "    // Tell IPython that the notebook contents must change.\n",
       "    IPython.notebook.set_dirty(true);\n",
       "    this.send_message(\"ack\", {});\n",
       "    var fig = this;\n",
       "    // Wait a second, then push the new image to the DOM so\n",
       "    // that it is saved nicely (might be nice to debounce this).\n",
       "    setTimeout(function () { fig.push_to_output() }, 1000);\n",
       "}\n",
       "\n",
       "mpl.figure.prototype._init_toolbar = function() {\n",
       "    var fig = this;\n",
       "\n",
       "    var nav_element = $('<div/>')\n",
       "    nav_element.attr('style', 'width: 100%');\n",
       "    this.root.append(nav_element);\n",
       "\n",
       "    // Define a callback function for later on.\n",
       "    function toolbar_event(event) {\n",
       "        return fig.toolbar_button_onclick(event['data']);\n",
       "    }\n",
       "    function toolbar_mouse_event(event) {\n",
       "        return fig.toolbar_button_onmouseover(event['data']);\n",
       "    }\n",
       "\n",
       "    for(var toolbar_ind in mpl.toolbar_items){\n",
       "        var name = mpl.toolbar_items[toolbar_ind][0];\n",
       "        var tooltip = mpl.toolbar_items[toolbar_ind][1];\n",
       "        var image = mpl.toolbar_items[toolbar_ind][2];\n",
       "        var method_name = mpl.toolbar_items[toolbar_ind][3];\n",
       "\n",
       "        if (!name) { continue; };\n",
       "\n",
       "        var button = $('<button class=\"btn btn-default\" href=\"#\" title=\"' + name + '\"><i class=\"fa ' + image + ' fa-lg\"></i></button>');\n",
       "        button.click(method_name, toolbar_event);\n",
       "        button.mouseover(tooltip, toolbar_mouse_event);\n",
       "        nav_element.append(button);\n",
       "    }\n",
       "\n",
       "    // Add the status bar.\n",
       "    var status_bar = $('<span class=\"mpl-message\" style=\"text-align:right; float: right;\"/>');\n",
       "    nav_element.append(status_bar);\n",
       "    this.message = status_bar[0];\n",
       "\n",
       "    // Add the close button to the window.\n",
       "    var buttongrp = $('<div class=\"btn-group inline pull-right\"></div>');\n",
       "    var button = $('<button class=\"btn btn-mini btn-primary\" href=\"#\" title=\"Stop Interaction\"><i class=\"fa fa-power-off icon-remove icon-large\"></i></button>');\n",
       "    button.click(function (evt) { fig.handle_close(fig, {}); } );\n",
       "    button.mouseover('Stop Interaction', toolbar_mouse_event);\n",
       "    buttongrp.append(button);\n",
       "    var titlebar = this.root.find($('.ui-dialog-titlebar'));\n",
       "    titlebar.prepend(buttongrp);\n",
       "}\n",
       "\n",
       "mpl.figure.prototype._root_extra_style = function(el){\n",
       "    var fig = this\n",
       "    el.on(\"remove\", function(){\n",
       "\tfig.close_ws(fig, {});\n",
       "    });\n",
       "}\n",
       "\n",
       "mpl.figure.prototype._canvas_extra_style = function(el){\n",
       "    // this is important to make the div 'focusable\n",
       "    el.attr('tabindex', 0)\n",
       "    // reach out to IPython and tell the keyboard manager to turn it's self\n",
       "    // off when our div gets focus\n",
       "\n",
       "    // location in version 3\n",
       "    if (IPython.notebook.keyboard_manager) {\n",
       "        IPython.notebook.keyboard_manager.register_events(el);\n",
       "    }\n",
       "    else {\n",
       "        // location in version 2\n",
       "        IPython.keyboard_manager.register_events(el);\n",
       "    }\n",
       "\n",
       "}\n",
       "\n",
       "mpl.figure.prototype._key_event_extra = function(event, name) {\n",
       "    var manager = IPython.notebook.keyboard_manager;\n",
       "    if (!manager)\n",
       "        manager = IPython.keyboard_manager;\n",
       "\n",
       "    // Check for shift+enter\n",
       "    if (event.shiftKey && event.which == 13) {\n",
       "        this.canvas_div.blur();\n",
       "        // select the cell after this one\n",
       "        var index = IPython.notebook.find_cell_index(this.cell_info[0]);\n",
       "        IPython.notebook.select(index + 1);\n",
       "    }\n",
       "}\n",
       "\n",
       "mpl.figure.prototype.handle_save = function(fig, msg) {\n",
       "    fig.ondownload(fig, null);\n",
       "}\n",
       "\n",
       "\n",
       "mpl.find_output_cell = function(html_output) {\n",
       "    // Return the cell and output element which can be found *uniquely* in the notebook.\n",
       "    // Note - this is a bit hacky, but it is done because the \"notebook_saving.Notebook\"\n",
       "    // IPython event is triggered only after the cells have been serialised, which for\n",
       "    // our purposes (turning an active figure into a static one), is too late.\n",
       "    var cells = IPython.notebook.get_cells();\n",
       "    var ncells = cells.length;\n",
       "    for (var i=0; i<ncells; i++) {\n",
       "        var cell = cells[i];\n",
       "        if (cell.cell_type === 'code'){\n",
       "            for (var j=0; j<cell.output_area.outputs.length; j++) {\n",
       "                var data = cell.output_area.outputs[j];\n",
       "                if (data.data) {\n",
       "                    // IPython >= 3 moved mimebundle to data attribute of output\n",
       "                    data = data.data;\n",
       "                }\n",
       "                if (data['text/html'] == html_output) {\n",
       "                    return [cell, data, j];\n",
       "                }\n",
       "            }\n",
       "        }\n",
       "    }\n",
       "}\n",
       "\n",
       "// Register the function which deals with the matplotlib target/channel.\n",
       "// The kernel may be null if the page has been refreshed.\n",
       "if (IPython.notebook.kernel != null) {\n",
       "    IPython.notebook.kernel.comm_manager.register_target('matplotlib', mpl.mpl_figure_comm);\n",
       "}\n"
      ],
      "text/plain": [
       "<IPython.core.display.Javascript object>"
      ]
     },
     "metadata": {},
     "output_type": "display_data"
    },
    {
     "data": {
      "text/html": [
       "<img src=\"data:image/png;base64,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\" width=\"674.4666666666667\">"
      ],
      "text/plain": [
       "<IPython.core.display.HTML object>"
      ]
     },
     "metadata": {},
     "output_type": "display_data"
    }
   ],
   "source": [
    "fig, ax = plt.subplots(1, 1)\n",
    "ax.plot(voltage, current, 'o')\n",
    "ax.plot(corr_bias, current, 'o')\n",
    "ax.plot(voltage, voltage/100e3)\n",
    "ax.set_xlabel('Bias (V)')\n",
    "ax.set_ylabel('Current (nA)')\n",
    "ax.grid()"
   ]
  },
  {
   "cell_type": "markdown",
   "metadata": {},
   "source": [
    "## Set save Defaults"
   ]
  },
  {
   "cell_type": "code",
   "execution_count": 83,
   "metadata": {
    "ExecuteTime": {
     "end_time": "2018-07-19T13:27:46.173819Z",
     "start_time": "2018-07-19T13:27:38.664247Z"
    },
    "collapsed": true
   },
   "outputs": [],
   "source": [
    "ivvi.set_dacs_zero()\n",
    "ivvi_setup.SD_lockin_voltage(1e-5)"
   ]
  },
  {
   "cell_type": "markdown",
   "metadata": {},
   "source": [
    "# Double Dot Experiment"
   ]
  },
  {
   "cell_type": "code",
   "execution_count": 87,
   "metadata": {
    "ExecuteTime": {
     "end_time": "2018-07-19T13:31:34.902374Z",
     "start_time": "2018-07-19T13:31:11.590839Z"
    },
    "collapsed": true
   },
   "outputs": [],
   "source": [
    "ivvi_setup.T1_voltage(0)\n",
    "ivvi_setup.T2_voltage(0)\n",
    "ivvi_setup.T3_voltage(0)\n",
    "ivvi_setup.T4_voltage(0)"
   ]
  },
  {
   "cell_type": "code",
   "execution_count": 93,
   "metadata": {
    "ExecuteTime": {
     "end_time": "2018-07-19T14:04:51.106295Z",
     "start_time": "2018-07-19T14:04:51.066295Z"
    }
   },
   "outputs": [
    {
     "name": "stdout",
     "output_type": "stream",
     "text": [
      "IVVI DAC #1 at 0.03051804379333589 mV\n",
      "IVVI DAC #2 at 0.03051804379333589 mV\n",
      "IVVI DAC #3 at 0.03051804379333589 mV\n",
      "IVVI DAC #4 at 0.03051804379333589 mV\n",
      "IVVI DAC #5 at 0.03051804379333589 mV\n",
      "IVVI DAC #6 at 0.03051804379333589 mV\n",
      "IVVI DAC #7 at 0.03051804379333589 mV\n",
      "IVVI DAC #8 at 0.03051804379333589 mV\n",
      "IVVI DAC #9 at 0.03051804379333589 mV\n",
      "IVVI DAC #10 at 0.03051804379333589 mV\n",
      "IVVI DAC #11 at 0.03051804379333589 mV\n",
      "IVVI DAC #12 at 0.03051804379333589 mV\n",
      "IVVI DAC #13 at 0.03051804379333589 mV\n",
      "IVVI DAC #14 at 0.03051804379333589 mV\n",
      "IVVI DAC #15 at 0.03051804379333589 mV\n",
      "IVVI DAC #16 at 0.03051804379333589 mV\n"
     ]
    }
   ],
   "source": [
    "print_IVVI_dac_list()"
   ]
  },
  {
   "cell_type": "markdown",
   "metadata": {},
   "source": [
    "## Pinch-off curves"
   ]
  },
  {
   "cell_type": "code",
   "execution_count": 127,
   "metadata": {
    "ExecuteTime": {
     "end_time": "2018-07-23T07:37:20.997677Z",
     "start_time": "2018-07-23T07:32:17.069472Z"
    }
   },
   "outputs": [
    {
     "name": "stdout",
     "output_type": "stream",
     "text": [
      "Starting experimental run with id: 1142\n"
     ]
    },
    {
     "ename": "ValueError",
     "evalue": "('-2010.0 is invalid: must be between -2000.0 and 2000.0 inclusive; Parameter: ivvi.dac7', 'setting ivvi_dac7 to -2010.0', 'setting ivvi_setup_R2_voltage to -0.201')",
     "output_type": "error",
     "traceback": [
      "\u001b[1;31m---------------------------------------------------------------------------\u001b[0m",
      "\u001b[1;31mValueError\u001b[0m                                Traceback (most recent call last)",
      "\u001b[1;32m<ipython-input-127-d9e8c16bc6cb>\u001b[0m in \u001b[0;36m<module>\u001b[1;34m()\u001b[0m\n\u001b[0;32m     47\u001b[0m \u001b[1;33m\u001b[0m\u001b[0m\n\u001b[0;32m     48\u001b[0m             \u001b[1;32mfor\u001b[0m \u001b[0mg\u001b[0m \u001b[1;32min\u001b[0m \u001b[0mvolt\u001b[0m\u001b[1;33m:\u001b[0m\u001b[1;33m\u001b[0m\u001b[0m\n\u001b[1;32m---> 49\u001b[1;33m                 \u001b[0mgate\u001b[0m\u001b[1;33m(\u001b[0m\u001b[0mg\u001b[0m\u001b[1;33m)\u001b[0m\u001b[1;33m\u001b[0m\u001b[0m\n\u001b[0m\u001b[0;32m     50\u001b[0m                 \u001b[0mdatasaver\u001b[0m\u001b[1;33m.\u001b[0m\u001b[0madd_result\u001b[0m\u001b[1;33m(\u001b[0m\u001b[1;33m*\u001b[0m\u001b[0mmeas\u001b[0m\u001b[1;33m.\u001b[0m\u001b[0mget_result\u001b[0m\u001b[1;33m(\u001b[0m\u001b[1;33m)\u001b[0m\u001b[1;33m)\u001b[0m\u001b[1;33m\u001b[0m\u001b[0m\n",
      "\u001b[1;32md:\\onedrive\\bf1\\code\\qcodes\\qcodes\\instrument\\parameter.py\u001b[0m in \u001b[0;36m__call__\u001b[1;34m(self, *args, **kwargs)\u001b[0m\n\u001b[0;32m    284\u001b[0m         \u001b[1;32melse\u001b[0m\u001b[1;33m:\u001b[0m\u001b[1;33m\u001b[0m\u001b[0m\n\u001b[0;32m    285\u001b[0m             \u001b[1;32mif\u001b[0m \u001b[0mhasattr\u001b[0m\u001b[1;33m(\u001b[0m\u001b[0mself\u001b[0m\u001b[1;33m,\u001b[0m \u001b[1;34m'set'\u001b[0m\u001b[1;33m)\u001b[0m\u001b[1;33m:\u001b[0m\u001b[1;33m\u001b[0m\u001b[0m\n\u001b[1;32m--> 286\u001b[1;33m                 \u001b[0mself\u001b[0m\u001b[1;33m.\u001b[0m\u001b[0mset\u001b[0m\u001b[1;33m(\u001b[0m\u001b[1;33m*\u001b[0m\u001b[0margs\u001b[0m\u001b[1;33m,\u001b[0m \u001b[1;33m**\u001b[0m\u001b[0mkwargs\u001b[0m\u001b[1;33m)\u001b[0m\u001b[1;33m\u001b[0m\u001b[0m\n\u001b[0m\u001b[0;32m    287\u001b[0m             \u001b[1;32melse\u001b[0m\u001b[1;33m:\u001b[0m\u001b[1;33m\u001b[0m\u001b[0m\n\u001b[0;32m    288\u001b[0m                 raise NotImplementedError('no set cmd found in' +\n",
      "\u001b[1;32md:\\onedrive\\bf1\\code\\qcodes\\qcodes\\instrument\\parameter.py\u001b[0m in \u001b[0;36mset_wrapper\u001b[1;34m(value, **kwargs)\u001b[0m\n\u001b[0;32m    478\u001b[0m             \u001b[1;32mexcept\u001b[0m \u001b[0mException\u001b[0m \u001b[1;32mas\u001b[0m \u001b[0me\u001b[0m\u001b[1;33m:\u001b[0m\u001b[1;33m\u001b[0m\u001b[0m\n\u001b[0;32m    479\u001b[0m                 \u001b[0me\u001b[0m\u001b[1;33m.\u001b[0m\u001b[0margs\u001b[0m \u001b[1;33m=\u001b[0m \u001b[0me\u001b[0m\u001b[1;33m.\u001b[0m\u001b[0margs\u001b[0m \u001b[1;33m+\u001b[0m \u001b[1;33m(\u001b[0m\u001b[1;34m'setting {} to {}'\u001b[0m\u001b[1;33m.\u001b[0m\u001b[0mformat\u001b[0m\u001b[1;33m(\u001b[0m\u001b[0mself\u001b[0m\u001b[1;33m,\u001b[0m \u001b[0mvalue\u001b[0m\u001b[1;33m)\u001b[0m\u001b[1;33m,\u001b[0m\u001b[1;33m)\u001b[0m\u001b[1;33m\u001b[0m\u001b[0m\n\u001b[1;32m--> 480\u001b[1;33m                 \u001b[1;32mraise\u001b[0m \u001b[0me\u001b[0m\u001b[1;33m\u001b[0m\u001b[0m\n\u001b[0m\u001b[0;32m    481\u001b[0m \u001b[1;33m\u001b[0m\u001b[0m\n\u001b[0;32m    482\u001b[0m         \u001b[1;32mreturn\u001b[0m \u001b[0mset_wrapper\u001b[0m\u001b[1;33m\u001b[0m\u001b[0m\n",
      "\u001b[1;32md:\\onedrive\\bf1\\code\\qcodes\\qcodes\\instrument\\parameter.py\u001b[0m in \u001b[0;36mset_wrapper\u001b[1;34m(value, **kwargs)\u001b[0m\n\u001b[0;32m    462\u001b[0m                     \u001b[0mt0\u001b[0m \u001b[1;33m=\u001b[0m \u001b[0mtime\u001b[0m\u001b[1;33m.\u001b[0m\u001b[0mperf_counter\u001b[0m\u001b[1;33m(\u001b[0m\u001b[1;33m)\u001b[0m\u001b[1;33m\u001b[0m\u001b[0m\n\u001b[0;32m    463\u001b[0m \u001b[1;33m\u001b[0m\u001b[0m\n\u001b[1;32m--> 464\u001b[1;33m                     \u001b[0mset_function\u001b[0m\u001b[1;33m(\u001b[0m\u001b[0mraw_value\u001b[0m\u001b[1;33m,\u001b[0m \u001b[1;33m**\u001b[0m\u001b[0mkwargs\u001b[0m\u001b[1;33m)\u001b[0m\u001b[1;33m\u001b[0m\u001b[0m\n\u001b[0m\u001b[0;32m    465\u001b[0m                     \u001b[0mself\u001b[0m\u001b[1;33m.\u001b[0m\u001b[0mraw_value\u001b[0m \u001b[1;33m=\u001b[0m \u001b[0mraw_value\u001b[0m\u001b[1;33m\u001b[0m\u001b[0m\n\u001b[0;32m    466\u001b[0m                     self._save_val(val_step,\n",
      "\u001b[1;32md:\\onedrive\\bf1\\code\\pytopo\\pytopo\\parameters.py\u001b[0m in \u001b[0;36mset_raw\u001b[1;34m(self, value)\u001b[0m\n\u001b[0;32m     16\u001b[0m             \u001b[1;32mraise\u001b[0m \u001b[0mNotImplementedError\u001b[0m\u001b[1;33m(\u001b[0m\u001b[1;34m\"No set conversion implemented.\"\u001b[0m\u001b[1;33m)\u001b[0m\u001b[1;33m\u001b[0m\u001b[0m\n\u001b[0;32m     17\u001b[0m \u001b[1;33m\u001b[0m\u001b[0m\n\u001b[1;32m---> 18\u001b[1;33m         \u001b[1;32mreturn\u001b[0m \u001b[0mself\u001b[0m\u001b[1;33m.\u001b[0m\u001b[0msrc_param\u001b[0m\u001b[1;33m(\u001b[0m\u001b[0mself\u001b[0m\u001b[1;33m.\u001b[0m\u001b[0mset_conv\u001b[0m\u001b[1;33m(\u001b[0m\u001b[0mvalue\u001b[0m\u001b[1;33m)\u001b[0m\u001b[1;33m)\u001b[0m\u001b[1;33m\u001b[0m\u001b[0m\n\u001b[0m",
      "\u001b[1;32md:\\onedrive\\bf1\\code\\qcodes\\qcodes\\instrument\\parameter.py\u001b[0m in \u001b[0;36m__call__\u001b[1;34m(self, *args, **kwargs)\u001b[0m\n\u001b[0;32m    284\u001b[0m         \u001b[1;32melse\u001b[0m\u001b[1;33m:\u001b[0m\u001b[1;33m\u001b[0m\u001b[0m\n\u001b[0;32m    285\u001b[0m             \u001b[1;32mif\u001b[0m \u001b[0mhasattr\u001b[0m\u001b[1;33m(\u001b[0m\u001b[0mself\u001b[0m\u001b[1;33m,\u001b[0m \u001b[1;34m'set'\u001b[0m\u001b[1;33m)\u001b[0m\u001b[1;33m:\u001b[0m\u001b[1;33m\u001b[0m\u001b[0m\n\u001b[1;32m--> 286\u001b[1;33m                 \u001b[0mself\u001b[0m\u001b[1;33m.\u001b[0m\u001b[0mset\u001b[0m\u001b[1;33m(\u001b[0m\u001b[1;33m*\u001b[0m\u001b[0margs\u001b[0m\u001b[1;33m,\u001b[0m \u001b[1;33m**\u001b[0m\u001b[0mkwargs\u001b[0m\u001b[1;33m)\u001b[0m\u001b[1;33m\u001b[0m\u001b[0m\n\u001b[0m\u001b[0;32m    287\u001b[0m             \u001b[1;32melse\u001b[0m\u001b[1;33m:\u001b[0m\u001b[1;33m\u001b[0m\u001b[0m\n\u001b[0;32m    288\u001b[0m                 raise NotImplementedError('no set cmd found in' +\n",
      "\u001b[1;32md:\\onedrive\\bf1\\code\\qcodes\\qcodes\\instrument\\parameter.py\u001b[0m in \u001b[0;36mset_wrapper\u001b[1;34m(value, **kwargs)\u001b[0m\n\u001b[0;32m    478\u001b[0m             \u001b[1;32mexcept\u001b[0m \u001b[0mException\u001b[0m \u001b[1;32mas\u001b[0m \u001b[0me\u001b[0m\u001b[1;33m:\u001b[0m\u001b[1;33m\u001b[0m\u001b[0m\n\u001b[0;32m    479\u001b[0m                 \u001b[0me\u001b[0m\u001b[1;33m.\u001b[0m\u001b[0margs\u001b[0m \u001b[1;33m=\u001b[0m \u001b[0me\u001b[0m\u001b[1;33m.\u001b[0m\u001b[0margs\u001b[0m \u001b[1;33m+\u001b[0m \u001b[1;33m(\u001b[0m\u001b[1;34m'setting {} to {}'\u001b[0m\u001b[1;33m.\u001b[0m\u001b[0mformat\u001b[0m\u001b[1;33m(\u001b[0m\u001b[0mself\u001b[0m\u001b[1;33m,\u001b[0m \u001b[0mvalue\u001b[0m\u001b[1;33m)\u001b[0m\u001b[1;33m,\u001b[0m\u001b[1;33m)\u001b[0m\u001b[1;33m\u001b[0m\u001b[0m\n\u001b[1;32m--> 480\u001b[1;33m                 \u001b[1;32mraise\u001b[0m \u001b[0me\u001b[0m\u001b[1;33m\u001b[0m\u001b[0m\n\u001b[0m\u001b[0;32m    481\u001b[0m \u001b[1;33m\u001b[0m\u001b[0m\n\u001b[0;32m    482\u001b[0m         \u001b[1;32mreturn\u001b[0m \u001b[0mset_wrapper\u001b[0m\u001b[1;33m\u001b[0m\u001b[0m\n",
      "\u001b[1;32md:\\onedrive\\bf1\\code\\qcodes\\qcodes\\instrument\\parameter.py\u001b[0m in \u001b[0;36mset_wrapper\u001b[1;34m(value, **kwargs)\u001b[0m\n\u001b[0;32m    409\u001b[0m         \u001b[1;32mdef\u001b[0m \u001b[0mset_wrapper\u001b[0m\u001b[1;33m(\u001b[0m\u001b[0mvalue\u001b[0m\u001b[1;33m,\u001b[0m \u001b[1;33m**\u001b[0m\u001b[0mkwargs\u001b[0m\u001b[1;33m)\u001b[0m\u001b[1;33m:\u001b[0m\u001b[1;33m\u001b[0m\u001b[0m\n\u001b[0;32m    410\u001b[0m             \u001b[1;32mtry\u001b[0m\u001b[1;33m:\u001b[0m\u001b[1;33m\u001b[0m\u001b[0m\n\u001b[1;32m--> 411\u001b[1;33m                 \u001b[0mself\u001b[0m\u001b[1;33m.\u001b[0m\u001b[0mvalidate\u001b[0m\u001b[1;33m(\u001b[0m\u001b[0mvalue\u001b[0m\u001b[1;33m)\u001b[0m\u001b[1;33m\u001b[0m\u001b[0m\n\u001b[0m\u001b[0;32m    412\u001b[0m \u001b[1;33m\u001b[0m\u001b[0m\n\u001b[0;32m    413\u001b[0m                 \u001b[1;31m# In some cases intermediate sweep values must be used.\u001b[0m\u001b[1;33m\u001b[0m\u001b[1;33m\u001b[0m\u001b[0m\n",
      "\u001b[1;32md:\\onedrive\\bf1\\code\\qcodes\\qcodes\\instrument\\parameter.py\u001b[0m in \u001b[0;36mvalidate\u001b[1;34m(self, value)\u001b[0m\n\u001b[0;32m    534\u001b[0m             \u001b[0mcontext\u001b[0m \u001b[1;33m=\u001b[0m \u001b[0mself\u001b[0m\u001b[1;33m.\u001b[0m\u001b[0mname\u001b[0m\u001b[1;33m\u001b[0m\u001b[0m\n\u001b[0;32m    535\u001b[0m         \u001b[1;32mif\u001b[0m \u001b[0mself\u001b[0m\u001b[1;33m.\u001b[0m\u001b[0mvals\u001b[0m \u001b[1;32mis\u001b[0m \u001b[1;32mnot\u001b[0m \u001b[1;32mNone\u001b[0m\u001b[1;33m:\u001b[0m\u001b[1;33m\u001b[0m\u001b[0m\n\u001b[1;32m--> 536\u001b[1;33m             \u001b[0mself\u001b[0m\u001b[1;33m.\u001b[0m\u001b[0mvals\u001b[0m\u001b[1;33m.\u001b[0m\u001b[0mvalidate\u001b[0m\u001b[1;33m(\u001b[0m\u001b[0mvalue\u001b[0m\u001b[1;33m,\u001b[0m \u001b[1;34m'Parameter: '\u001b[0m \u001b[1;33m+\u001b[0m \u001b[0mcontext\u001b[0m\u001b[1;33m)\u001b[0m\u001b[1;33m\u001b[0m\u001b[0m\n\u001b[0m\u001b[0;32m    537\u001b[0m \u001b[1;33m\u001b[0m\u001b[0m\n\u001b[0;32m    538\u001b[0m     \u001b[1;33m@\u001b[0m\u001b[0mproperty\u001b[0m\u001b[1;33m\u001b[0m\u001b[0m\n",
      "\u001b[1;32md:\\onedrive\\bf1\\code\\qcodes\\qcodes\\utils\\validators.py\u001b[0m in \u001b[0;36mvalidate\u001b[1;34m(self, value, context)\u001b[0m\n\u001b[0;32m    209\u001b[0m                 \u001b[1;34m'{} is invalid: must be between '\u001b[0m\u001b[1;33m\u001b[0m\u001b[0m\n\u001b[0;32m    210\u001b[0m                 '{} and {} inclusive; {}'.format(\n\u001b[1;32m--> 211\u001b[1;33m                     repr(value), self._min_value, self._max_value, context))\n\u001b[0m\u001b[0;32m    212\u001b[0m \u001b[1;33m\u001b[0m\u001b[0m\n\u001b[0;32m    213\u001b[0m     \u001b[0mis_numeric\u001b[0m \u001b[1;33m=\u001b[0m \u001b[1;32mTrue\u001b[0m\u001b[1;33m\u001b[0m\u001b[0m\n",
      "\u001b[1;31mValueError\u001b[0m: ('-2010.0 is invalid: must be between -2000.0 and 2000.0 inclusive; Parameter: ivvi.dac7', 'setting ivvi_dac7 to -2010.0', 'setting ivvi_setup_R2_voltage to -0.201')"
     ]
    }
   ],
   "source": [
    "voltages = np.linspace(0, -0.5, 501)\n",
    "ivvi_setup.SD_lockin_voltage(10e-6)\n",
    "lockin1.frequency(21.2)\n",
    "ivvi_setup.SD_voltage(1e-3)\n",
    "sweep_direction = Parameter('sweep_direction', get_cmd=None, set_cmd=None)\n",
    "exp = select_experiment('DC_CSD', SAMPLE)\n",
    "\n",
    "gates = [ivvi_setup.R2_voltage] # [ivvi_setup.T2_voltage, ivvi_setup.T3_voltage, ivvi_setup.T4_voltage]\n",
    "for gate in gates:\n",
    "    \n",
    "    # set all gates to zero.\n",
    "    for g in [\n",
    "        ivvi_setup.T2_voltage, \n",
    "        ivvi_setup.T3_voltage, \n",
    "        ivvi_setup.T4_voltage,\n",
    "        ivvi_setup.R2_voltage,\n",
    "    ]:\n",
    "        g(0)\n",
    "    \n",
    "    # now meaure pinch-off (up and down) for each gate in gates\n",
    "    meas = MeasurementExt(station, exp=exp,\n",
    "                          soft_sweep_params=[\n",
    "                              gate,\n",
    "                              sweep_direction,\n",
    "                          ],\n",
    "                          soft_data_params=[\n",
    "                              lockin1.X,\n",
    "                              lockin1.Y,\n",
    "                              ivvi_setup.SD_current,\n",
    "                          ])\n",
    "\n",
    "    meas.write_period = 1\n",
    "\n",
    "    with meas.run() as datasaver:\n",
    "\n",
    "        datasaver.dataset.subscribe(\n",
    "            QcodesDatasetSubscriber(datasaver.dataset), \n",
    "            state=[], min_wait=0, min_count=1,\n",
    "        )\n",
    "\n",
    "        for direction in [0,1]:\n",
    "            sweep_direction(direction)\n",
    "\n",
    "            volt = voltages\n",
    "            if direction:\n",
    "                volt = voltages[::-1]\n",
    "\n",
    "            for g in volt:\n",
    "                gate(g)\n",
    "                datasaver.add_result(*meas.get_result())"
   ]
  },
  {
   "cell_type": "code",
   "execution_count": null,
   "metadata": {
    "collapsed": true
   },
   "outputs": [],
   "source": []
  },
  {
   "cell_type": "markdown",
   "metadata": {},
   "source": [
    "## Coulomb blockade"
   ]
  },
  {
   "cell_type": "code",
   "execution_count": 136,
   "metadata": {
    "ExecuteTime": {
     "end_time": "2018-07-23T13:48:51.643399Z",
     "start_time": "2018-07-23T11:52:38.887214Z"
    }
   },
   "outputs": [
    {
     "name": "stdout",
     "output_type": "stream",
     "text": [
      "Starting experimental run with id: 1146\n"
     ]
    }
   ],
   "source": [
    "T2_vals = np.linspace(-0.2, -0.4, 6)\n",
    "T3_vals = np.linspace(-0.3, -0.5, 6)\n",
    "PG_vals = np.linspace(0, 1e-1, 101)\n",
    "PG = ivvi_setup.R2_voltage # _fine_voltage\n",
    "\n",
    "ivvi_setup.R2_voltage(0)\n",
    "ivvi_setup.G_fine_voltage(0)\n",
    "ivvi_setup.T4_voltage(0)\n",
    "ivvi_setup.SD_voltage(0e-6)\n",
    "ivvi_setup.SD_lockin_voltage(10e-6)\n",
    "lockin1.frequency(21.2)\n",
    "\n",
    "exp = select_experiment('Coulomb_blockade_scan', SAMPLE)\n",
    "\n",
    "meas = MeasurementExt(station, exp=exp,\n",
    "                      soft_sweep_params=[\n",
    "                          ivvi_setup.T2_voltage,\n",
    "                          ivvi_setup.T3_voltage,\n",
    "                          PG,\n",
    "                      ],\n",
    "                      soft_data_params=[\n",
    "                          lockin1.X,\n",
    "                          lockin1.Y,\n",
    "                          ivvi_setup.SD_current,\n",
    "                      ])\n",
    "\n",
    "meas.write_period = 1\n",
    "\n",
    "with meas.run() as datasaver:\n",
    "    \n",
    "    datasaver.dataset.subscribe(\n",
    "        QcodesDatasetSubscriber(datasaver.dataset), \n",
    "        state=[], min_wait=0, min_count=1,\n",
    "    )\n",
    "    \n",
    "    for t2 in T2_vals:\n",
    "        ivvi_setup.T2_voltage(t2)\n",
    "        \n",
    "        for t3 in T3_vals:\n",
    "            ivvi_setup.T3_voltage(t3)\n",
    "            \n",
    "            for pg in PG_vals:\n",
    "                PG(pg)\n",
    "                \n",
    "                datasaver.add_result(*meas.get_result())"
   ]
  },
  {
   "cell_type": "code",
   "execution_count": 133,
   "metadata": {
    "ExecuteTime": {
     "end_time": "2018-07-23T08:21:56.650411Z",
     "start_time": "2018-07-23T08:21:54.180555Z"
    }
   },
   "outputs": [
    {
     "ename": "KeyboardInterrupt",
     "evalue": "",
     "output_type": "error",
     "traceback": [
      "\u001b[1;31m---------------------------------------------------------------------------\u001b[0m",
      "\u001b[1;31mKeyboardInterrupt\u001b[0m                         Traceback (most recent call last)",
      "\u001b[1;32m<ipython-input-133-2578e18e0412>\u001b[0m in \u001b[0;36m<module>\u001b[1;34m()\u001b[0m\n\u001b[1;32m----> 1\u001b[1;33m \u001b[0mivvi_setup\u001b[0m\u001b[1;33m.\u001b[0m\u001b[0mR2_voltage\u001b[0m\u001b[1;33m(\u001b[0m\u001b[1;36m0\u001b[0m\u001b[1;33m)\u001b[0m\u001b[1;33m\u001b[0m\u001b[0m\n\u001b[0m",
      "\u001b[1;32md:\\onedrive\\bf1\\code\\qcodes\\qcodes\\instrument\\parameter.py\u001b[0m in \u001b[0;36m__call__\u001b[1;34m(self, *args, **kwargs)\u001b[0m\n\u001b[0;32m    284\u001b[0m         \u001b[1;32melse\u001b[0m\u001b[1;33m:\u001b[0m\u001b[1;33m\u001b[0m\u001b[0m\n\u001b[0;32m    285\u001b[0m             \u001b[1;32mif\u001b[0m \u001b[0mhasattr\u001b[0m\u001b[1;33m(\u001b[0m\u001b[0mself\u001b[0m\u001b[1;33m,\u001b[0m \u001b[1;34m'set'\u001b[0m\u001b[1;33m)\u001b[0m\u001b[1;33m:\u001b[0m\u001b[1;33m\u001b[0m\u001b[0m\n\u001b[1;32m--> 286\u001b[1;33m                 \u001b[0mself\u001b[0m\u001b[1;33m.\u001b[0m\u001b[0mset\u001b[0m\u001b[1;33m(\u001b[0m\u001b[1;33m*\u001b[0m\u001b[0margs\u001b[0m\u001b[1;33m,\u001b[0m \u001b[1;33m**\u001b[0m\u001b[0mkwargs\u001b[0m\u001b[1;33m)\u001b[0m\u001b[1;33m\u001b[0m\u001b[0m\n\u001b[0m\u001b[0;32m    287\u001b[0m             \u001b[1;32melse\u001b[0m\u001b[1;33m:\u001b[0m\u001b[1;33m\u001b[0m\u001b[0m\n\u001b[0;32m    288\u001b[0m                 raise NotImplementedError('no set cmd found in' +\n",
      "\u001b[1;32md:\\onedrive\\bf1\\code\\qcodes\\qcodes\\instrument\\parameter.py\u001b[0m in \u001b[0;36mset_wrapper\u001b[1;34m(value, **kwargs)\u001b[0m\n\u001b[0;32m    462\u001b[0m                     \u001b[0mt0\u001b[0m \u001b[1;33m=\u001b[0m \u001b[0mtime\u001b[0m\u001b[1;33m.\u001b[0m\u001b[0mperf_counter\u001b[0m\u001b[1;33m(\u001b[0m\u001b[1;33m)\u001b[0m\u001b[1;33m\u001b[0m\u001b[0m\n\u001b[0;32m    463\u001b[0m \u001b[1;33m\u001b[0m\u001b[0m\n\u001b[1;32m--> 464\u001b[1;33m                     \u001b[0mset_function\u001b[0m\u001b[1;33m(\u001b[0m\u001b[0mraw_value\u001b[0m\u001b[1;33m,\u001b[0m \u001b[1;33m**\u001b[0m\u001b[0mkwargs\u001b[0m\u001b[1;33m)\u001b[0m\u001b[1;33m\u001b[0m\u001b[0m\n\u001b[0m\u001b[0;32m    465\u001b[0m                     \u001b[0mself\u001b[0m\u001b[1;33m.\u001b[0m\u001b[0mraw_value\u001b[0m \u001b[1;33m=\u001b[0m \u001b[0mraw_value\u001b[0m\u001b[1;33m\u001b[0m\u001b[0m\n\u001b[0;32m    466\u001b[0m                     self._save_val(val_step,\n",
      "\u001b[1;32md:\\onedrive\\bf1\\code\\pytopo\\pytopo\\parameters.py\u001b[0m in \u001b[0;36mset_raw\u001b[1;34m(self, value)\u001b[0m\n\u001b[0;32m     16\u001b[0m             \u001b[1;32mraise\u001b[0m \u001b[0mNotImplementedError\u001b[0m\u001b[1;33m(\u001b[0m\u001b[1;34m\"No set conversion implemented.\"\u001b[0m\u001b[1;33m)\u001b[0m\u001b[1;33m\u001b[0m\u001b[0m\n\u001b[0;32m     17\u001b[0m \u001b[1;33m\u001b[0m\u001b[0m\n\u001b[1;32m---> 18\u001b[1;33m         \u001b[1;32mreturn\u001b[0m \u001b[0mself\u001b[0m\u001b[1;33m.\u001b[0m\u001b[0msrc_param\u001b[0m\u001b[1;33m(\u001b[0m\u001b[0mself\u001b[0m\u001b[1;33m.\u001b[0m\u001b[0mset_conv\u001b[0m\u001b[1;33m(\u001b[0m\u001b[0mvalue\u001b[0m\u001b[1;33m)\u001b[0m\u001b[1;33m)\u001b[0m\u001b[1;33m\u001b[0m\u001b[0m\n\u001b[0m",
      "\u001b[1;32md:\\onedrive\\bf1\\code\\qcodes\\qcodes\\instrument\\parameter.py\u001b[0m in \u001b[0;36m__call__\u001b[1;34m(self, *args, **kwargs)\u001b[0m\n\u001b[0;32m    284\u001b[0m         \u001b[1;32melse\u001b[0m\u001b[1;33m:\u001b[0m\u001b[1;33m\u001b[0m\u001b[0m\n\u001b[0;32m    285\u001b[0m             \u001b[1;32mif\u001b[0m \u001b[0mhasattr\u001b[0m\u001b[1;33m(\u001b[0m\u001b[0mself\u001b[0m\u001b[1;33m,\u001b[0m \u001b[1;34m'set'\u001b[0m\u001b[1;33m)\u001b[0m\u001b[1;33m:\u001b[0m\u001b[1;33m\u001b[0m\u001b[0m\n\u001b[1;32m--> 286\u001b[1;33m                 \u001b[0mself\u001b[0m\u001b[1;33m.\u001b[0m\u001b[0mset\u001b[0m\u001b[1;33m(\u001b[0m\u001b[1;33m*\u001b[0m\u001b[0margs\u001b[0m\u001b[1;33m,\u001b[0m \u001b[1;33m**\u001b[0m\u001b[0mkwargs\u001b[0m\u001b[1;33m)\u001b[0m\u001b[1;33m\u001b[0m\u001b[0m\n\u001b[0m\u001b[0;32m    287\u001b[0m             \u001b[1;32melse\u001b[0m\u001b[1;33m:\u001b[0m\u001b[1;33m\u001b[0m\u001b[0m\n\u001b[0;32m    288\u001b[0m                 raise NotImplementedError('no set cmd found in' +\n",
      "\u001b[1;32md:\\onedrive\\bf1\\code\\qcodes\\qcodes\\instrument\\parameter.py\u001b[0m in \u001b[0;36mset_wrapper\u001b[1;34m(value, **kwargs)\u001b[0m\n\u001b[0;32m    457\u001b[0m                         \u001b[1;31m# Sleep until time since last set is larger than\u001b[0m\u001b[1;33m\u001b[0m\u001b[1;33m\u001b[0m\u001b[0m\n\u001b[0;32m    458\u001b[0m                         \u001b[1;31m# self.post_delay\u001b[0m\u001b[1;33m\u001b[0m\u001b[1;33m\u001b[0m\u001b[0m\n\u001b[1;32m--> 459\u001b[1;33m                         \u001b[0mtime\u001b[0m\u001b[1;33m.\u001b[0m\u001b[0msleep\u001b[0m\u001b[1;33m(\u001b[0m\u001b[0mself\u001b[0m\u001b[1;33m.\u001b[0m\u001b[0minter_delay\u001b[0m \u001b[1;33m-\u001b[0m \u001b[0mt_elapsed\u001b[0m\u001b[1;33m)\u001b[0m\u001b[1;33m\u001b[0m\u001b[0m\n\u001b[0m\u001b[0;32m    460\u001b[0m \u001b[1;33m\u001b[0m\u001b[0m\n\u001b[0;32m    461\u001b[0m                     \u001b[1;31m# Start timer to measure execution time of set_function\u001b[0m\u001b[1;33m\u001b[0m\u001b[1;33m\u001b[0m\u001b[0m\n",
      "\u001b[1;31mKeyboardInterrupt\u001b[0m: "
     ]
    }
   ],
   "source": [
    "ivvi_setup.R2_voltage(0)"
   ]
  },
  {
   "cell_type": "code",
   "execution_count": 132,
   "metadata": {
    "ExecuteTime": {
     "end_time": "2018-07-23T08:21:52.220670Z",
     "start_time": "2018-07-23T08:20:53.221172Z"
    }
   },
   "outputs": [
    {
     "ename": "KeyboardInterrupt",
     "evalue": "",
     "output_type": "error",
     "traceback": [
      "\u001b[1;31m---------------------------------------------------------------------------\u001b[0m",
      "\u001b[1;31mKeyboardInterrupt\u001b[0m                         Traceback (most recent call last)",
      "\u001b[1;32m<ipython-input-132-c0a15ea612ba>\u001b[0m in \u001b[0;36m<module>\u001b[1;34m()\u001b[0m\n\u001b[1;32m----> 1\u001b[1;33m \u001b[0mivvi_setup\u001b[0m\u001b[1;33m.\u001b[0m\u001b[0mR2_voltage\u001b[0m\u001b[1;33m(\u001b[0m\u001b[1;36m0.1\u001b[0m\u001b[1;33m)\u001b[0m\u001b[1;33m\u001b[0m\u001b[0m\n\u001b[0m",
      "\u001b[1;32md:\\onedrive\\bf1\\code\\qcodes\\qcodes\\instrument\\parameter.py\u001b[0m in \u001b[0;36m__call__\u001b[1;34m(self, *args, **kwargs)\u001b[0m\n\u001b[0;32m    284\u001b[0m         \u001b[1;32melse\u001b[0m\u001b[1;33m:\u001b[0m\u001b[1;33m\u001b[0m\u001b[0m\n\u001b[0;32m    285\u001b[0m             \u001b[1;32mif\u001b[0m \u001b[0mhasattr\u001b[0m\u001b[1;33m(\u001b[0m\u001b[0mself\u001b[0m\u001b[1;33m,\u001b[0m \u001b[1;34m'set'\u001b[0m\u001b[1;33m)\u001b[0m\u001b[1;33m:\u001b[0m\u001b[1;33m\u001b[0m\u001b[0m\n\u001b[1;32m--> 286\u001b[1;33m                 \u001b[0mself\u001b[0m\u001b[1;33m.\u001b[0m\u001b[0mset\u001b[0m\u001b[1;33m(\u001b[0m\u001b[1;33m*\u001b[0m\u001b[0margs\u001b[0m\u001b[1;33m,\u001b[0m \u001b[1;33m**\u001b[0m\u001b[0mkwargs\u001b[0m\u001b[1;33m)\u001b[0m\u001b[1;33m\u001b[0m\u001b[0m\n\u001b[0m\u001b[0;32m    287\u001b[0m             \u001b[1;32melse\u001b[0m\u001b[1;33m:\u001b[0m\u001b[1;33m\u001b[0m\u001b[0m\n\u001b[0;32m    288\u001b[0m                 raise NotImplementedError('no set cmd found in' +\n",
      "\u001b[1;32md:\\onedrive\\bf1\\code\\qcodes\\qcodes\\instrument\\parameter.py\u001b[0m in \u001b[0;36mset_wrapper\u001b[1;34m(value, **kwargs)\u001b[0m\n\u001b[0;32m    462\u001b[0m                     \u001b[0mt0\u001b[0m \u001b[1;33m=\u001b[0m \u001b[0mtime\u001b[0m\u001b[1;33m.\u001b[0m\u001b[0mperf_counter\u001b[0m\u001b[1;33m(\u001b[0m\u001b[1;33m)\u001b[0m\u001b[1;33m\u001b[0m\u001b[0m\n\u001b[0;32m    463\u001b[0m \u001b[1;33m\u001b[0m\u001b[0m\n\u001b[1;32m--> 464\u001b[1;33m                     \u001b[0mset_function\u001b[0m\u001b[1;33m(\u001b[0m\u001b[0mraw_value\u001b[0m\u001b[1;33m,\u001b[0m \u001b[1;33m**\u001b[0m\u001b[0mkwargs\u001b[0m\u001b[1;33m)\u001b[0m\u001b[1;33m\u001b[0m\u001b[0m\n\u001b[0m\u001b[0;32m    465\u001b[0m                     \u001b[0mself\u001b[0m\u001b[1;33m.\u001b[0m\u001b[0mraw_value\u001b[0m \u001b[1;33m=\u001b[0m \u001b[0mraw_value\u001b[0m\u001b[1;33m\u001b[0m\u001b[0m\n\u001b[0;32m    466\u001b[0m                     self._save_val(val_step,\n",
      "\u001b[1;32md:\\onedrive\\bf1\\code\\pytopo\\pytopo\\parameters.py\u001b[0m in \u001b[0;36mset_raw\u001b[1;34m(self, value)\u001b[0m\n\u001b[0;32m     16\u001b[0m             \u001b[1;32mraise\u001b[0m \u001b[0mNotImplementedError\u001b[0m\u001b[1;33m(\u001b[0m\u001b[1;34m\"No set conversion implemented.\"\u001b[0m\u001b[1;33m)\u001b[0m\u001b[1;33m\u001b[0m\u001b[0m\n\u001b[0;32m     17\u001b[0m \u001b[1;33m\u001b[0m\u001b[0m\n\u001b[1;32m---> 18\u001b[1;33m         \u001b[1;32mreturn\u001b[0m \u001b[0mself\u001b[0m\u001b[1;33m.\u001b[0m\u001b[0msrc_param\u001b[0m\u001b[1;33m(\u001b[0m\u001b[0mself\u001b[0m\u001b[1;33m.\u001b[0m\u001b[0mset_conv\u001b[0m\u001b[1;33m(\u001b[0m\u001b[0mvalue\u001b[0m\u001b[1;33m)\u001b[0m\u001b[1;33m)\u001b[0m\u001b[1;33m\u001b[0m\u001b[0m\n\u001b[0m",
      "\u001b[1;32md:\\onedrive\\bf1\\code\\qcodes\\qcodes\\instrument\\parameter.py\u001b[0m in \u001b[0;36m__call__\u001b[1;34m(self, *args, **kwargs)\u001b[0m\n\u001b[0;32m    284\u001b[0m         \u001b[1;32melse\u001b[0m\u001b[1;33m:\u001b[0m\u001b[1;33m\u001b[0m\u001b[0m\n\u001b[0;32m    285\u001b[0m             \u001b[1;32mif\u001b[0m \u001b[0mhasattr\u001b[0m\u001b[1;33m(\u001b[0m\u001b[0mself\u001b[0m\u001b[1;33m,\u001b[0m \u001b[1;34m'set'\u001b[0m\u001b[1;33m)\u001b[0m\u001b[1;33m:\u001b[0m\u001b[1;33m\u001b[0m\u001b[0m\n\u001b[1;32m--> 286\u001b[1;33m                 \u001b[0mself\u001b[0m\u001b[1;33m.\u001b[0m\u001b[0mset\u001b[0m\u001b[1;33m(\u001b[0m\u001b[1;33m*\u001b[0m\u001b[0margs\u001b[0m\u001b[1;33m,\u001b[0m \u001b[1;33m**\u001b[0m\u001b[0mkwargs\u001b[0m\u001b[1;33m)\u001b[0m\u001b[1;33m\u001b[0m\u001b[0m\n\u001b[0m\u001b[0;32m    287\u001b[0m             \u001b[1;32melse\u001b[0m\u001b[1;33m:\u001b[0m\u001b[1;33m\u001b[0m\u001b[0m\n\u001b[0;32m    288\u001b[0m                 raise NotImplementedError('no set cmd found in' +\n",
      "\u001b[1;32md:\\onedrive\\bf1\\code\\qcodes\\qcodes\\instrument\\parameter.py\u001b[0m in \u001b[0;36mset_wrapper\u001b[1;34m(value, **kwargs)\u001b[0m\n\u001b[0;32m    457\u001b[0m                         \u001b[1;31m# Sleep until time since last set is larger than\u001b[0m\u001b[1;33m\u001b[0m\u001b[1;33m\u001b[0m\u001b[0m\n\u001b[0;32m    458\u001b[0m                         \u001b[1;31m# self.post_delay\u001b[0m\u001b[1;33m\u001b[0m\u001b[1;33m\u001b[0m\u001b[0m\n\u001b[1;32m--> 459\u001b[1;33m                         \u001b[0mtime\u001b[0m\u001b[1;33m.\u001b[0m\u001b[0msleep\u001b[0m\u001b[1;33m(\u001b[0m\u001b[0mself\u001b[0m\u001b[1;33m.\u001b[0m\u001b[0minter_delay\u001b[0m \u001b[1;33m-\u001b[0m \u001b[0mt_elapsed\u001b[0m\u001b[1;33m)\u001b[0m\u001b[1;33m\u001b[0m\u001b[0m\n\u001b[0m\u001b[0;32m    460\u001b[0m \u001b[1;33m\u001b[0m\u001b[0m\n\u001b[0;32m    461\u001b[0m                     \u001b[1;31m# Start timer to measure execution time of set_function\u001b[0m\u001b[1;33m\u001b[0m\u001b[1;33m\u001b[0m\u001b[0m\n",
      "\u001b[1;31mKeyboardInterrupt\u001b[0m: "
     ]
    }
   ],
   "source": [
    "ivvi_setup.R2_voltage(0.1)"
   ]
  },
  {
   "cell_type": "code",
   "execution_count": 131,
   "metadata": {
    "ExecuteTime": {
     "end_time": "2018-07-23T08:16:56.263706Z",
     "start_time": "2018-07-23T08:16:56.223680Z"
    }
   },
   "outputs": [
    {
     "data": {
      "text/plain": [
       "0.091554131380235049"
      ]
     },
     "execution_count": 131,
     "metadata": {},
     "output_type": "execute_result"
    }
   ],
   "source": []
  },
  {
   "cell_type": "markdown",
   "metadata": {},
   "source": [
    "## Diamond scan"
   ]
  },
  {
   "cell_type": "code",
   "execution_count": null,
   "metadata": {
    "ExecuteTime": {
     "start_time": "2018-07-23T16:23:37.195Z"
    }
   },
   "outputs": [
    {
     "name": "stdout",
     "output_type": "stream",
     "text": [
      "Starting experimental run with id: 1147\n"
     ]
    }
   ],
   "source": [
    "PG_vals = np.linspace(0, 1e-3, 101)\n",
    "PG = ivvi_setup.R2_voltage\n",
    "bias_vals = np.linspace(-0.4e-3, 0.4e-3, 161)\n",
    "\n",
    "ivvi_setup.T2_voltage(-0.3)\n",
    "ivvi_setup.T3_voltage(0)\n",
    "ivvi_setup.T4_voltage(-0.3)\n",
    "\n",
    "ivvi_setup.R2_voltage(0)\n",
    "ivvi_setup.G_fine_voltage(0)\n",
    "ivvi_setup.SD_voltage(0)\n",
    "ivvi_setup.SD_lockin_voltage(10e-6)\n",
    "lockin1.frequency(21.2)\n",
    "\n",
    "exp = select_experiment('Diamond_scan', SAMPLE)\n",
    "\n",
    "meas = MeasurementExt(station, exp=exp,\n",
    "                      soft_sweep_params=[\n",
    "                          ivvi_setup.SD_voltage,\n",
    "                          PG,\n",
    "                      ],\n",
    "                      soft_data_params=[\n",
    "                          lockin1.X,\n",
    "                          lockin1.Y,\n",
    "                          ivvi_setup.SD_current,\n",
    "                      ])\n",
    "\n",
    "meas.write_period = 1\n",
    "\n",
    "with meas.run() as datasaver:\n",
    "    \n",
    "    datasaver.dataset.subscribe(\n",
    "        QcodesDatasetSubscriber(datasaver.dataset), \n",
    "        state=[], min_wait=0, min_count=1,\n",
    "    )\n",
    "    \n",
    "    for pg in PG_vals:\n",
    "        PG(pg)\n",
    "            \n",
    "        for bias in bias_vals:\n",
    "            ivvi_setup.SD_voltage(bias)\n",
    "\n",
    "            datasaver.add_result(*meas.get_result())"
   ]
  },
  {
   "cell_type": "code",
   "execution_count": null,
   "metadata": {
    "collapsed": true
   },
   "outputs": [],
   "source": []
  },
  {
   "cell_type": "markdown",
   "metadata": {},
   "source": [
    "## DC CSD "
   ]
  },
  {
   "cell_type": "code",
   "execution_count": 123,
   "metadata": {
    "ExecuteTime": {
     "end_time": "2018-07-20T15:15:26.468066Z",
     "start_time": "2018-07-20T14:09:41.287309Z"
    },
    "scrolled": true
   },
   "outputs": [
    {
     "name": "stdout",
     "output_type": "stream",
     "text": [
      "Starting experimental run with id: 1138\n",
      "2018-07-20 16:09:49 setting ivvi_setup_T4_voltage to -0.25 V\n",
      "2018-07-20 16:33:33 setting ivvi_setup_T4_voltage to -0.3 V\n",
      "2018-07-20 16:57:17 setting ivvi_setup_T4_voltage to -0.35 V\n"
     ]
    },
    {
     "ename": "KeyboardInterrupt",
     "evalue": "",
     "output_type": "error",
     "traceback": [
      "\u001b[1;31m---------------------------------------------------------------------------\u001b[0m",
      "\u001b[1;31mKeyboardInterrupt\u001b[0m                         Traceback (most recent call last)",
      "\u001b[1;32m<ipython-input-123-1e203b4f633a>\u001b[0m in \u001b[0;36m<module>\u001b[1;34m()\u001b[0m\n\u001b[0;32m     43\u001b[0m                 \u001b[0mivvi_setup\u001b[0m\u001b[1;33m.\u001b[0m\u001b[0mG_fine_voltage\u001b[0m\u001b[1;33m(\u001b[0m\u001b[0mpg\u001b[0m\u001b[1;33m)\u001b[0m\u001b[1;33m\u001b[0m\u001b[0m\n\u001b[0;32m     44\u001b[0m \u001b[1;33m\u001b[0m\u001b[0m\n\u001b[1;32m---> 45\u001b[1;33m                 \u001b[0mdatasaver\u001b[0m\u001b[1;33m.\u001b[0m\u001b[0madd_result\u001b[0m\u001b[1;33m(\u001b[0m\u001b[1;33m*\u001b[0m\u001b[0mmeas\u001b[0m\u001b[1;33m.\u001b[0m\u001b[0mget_result\u001b[0m\u001b[1;33m(\u001b[0m\u001b[1;33m)\u001b[0m\u001b[1;33m)\u001b[0m\u001b[1;33m\u001b[0m\u001b[0m\n\u001b[0m",
      "\u001b[1;32md:\\onedrive\\bf1\\code\\pytopo\\pytopo\\qctools\\measurement.py\u001b[0m in \u001b[0;36mget_result\u001b[1;34m(self, **kw)\u001b[0m\n\u001b[0;32m     36\u001b[0m                 \u001b[0mvalue\u001b[0m \u001b[1;33m=\u001b[0m \u001b[0mkw\u001b[0m\u001b[1;33m[\u001b[0m\u001b[0mp\u001b[0m\u001b[1;33m]\u001b[0m\u001b[1;33m\u001b[0m\u001b[0m\n\u001b[0;32m     37\u001b[0m             \u001b[1;32melse\u001b[0m\u001b[1;33m:\u001b[0m\u001b[1;33m\u001b[0m\u001b[0m\n\u001b[1;32m---> 38\u001b[1;33m                 \u001b[0mvalue\u001b[0m \u001b[1;33m=\u001b[0m \u001b[0mp\u001b[0m\u001b[1;33m(\u001b[0m\u001b[1;33m)\u001b[0m\u001b[1;33m\u001b[0m\u001b[0m\n\u001b[0m\u001b[0;32m     39\u001b[0m             \u001b[1;32mif\u001b[0m \u001b[0misinstance\u001b[0m\u001b[1;33m(\u001b[0m\u001b[0mvalue\u001b[0m\u001b[1;33m,\u001b[0m \u001b[0mnp\u001b[0m\u001b[1;33m.\u001b[0m\u001b[0mndarray\u001b[0m\u001b[1;33m)\u001b[0m\u001b[1;33m:\u001b[0m\u001b[1;33m\u001b[0m\u001b[0m\n\u001b[0;32m     40\u001b[0m                 \u001b[0mvalue\u001b[0m \u001b[1;33m=\u001b[0m \u001b[0mvalue\u001b[0m\u001b[1;33m.\u001b[0m\u001b[0mreshape\u001b[0m\u001b[1;33m(\u001b[0m\u001b[1;33m-\u001b[0m\u001b[1;36m1\u001b[0m\u001b[1;33m)\u001b[0m\u001b[1;33m\u001b[0m\u001b[0m\n",
      "\u001b[1;32md:\\onedrive\\bf1\\code\\qcodes\\qcodes\\instrument\\parameter.py\u001b[0m in \u001b[0;36m__call__\u001b[1;34m(self, *args, **kwargs)\u001b[0m\n\u001b[0;32m    278\u001b[0m         \u001b[1;32mif\u001b[0m \u001b[0mlen\u001b[0m\u001b[1;33m(\u001b[0m\u001b[0margs\u001b[0m\u001b[1;33m)\u001b[0m \u001b[1;33m==\u001b[0m \u001b[1;36m0\u001b[0m\u001b[1;33m:\u001b[0m\u001b[1;33m\u001b[0m\u001b[0m\n\u001b[0;32m    279\u001b[0m             \u001b[1;32mif\u001b[0m \u001b[0mhasattr\u001b[0m\u001b[1;33m(\u001b[0m\u001b[0mself\u001b[0m\u001b[1;33m,\u001b[0m \u001b[1;34m'get'\u001b[0m\u001b[1;33m)\u001b[0m\u001b[1;33m:\u001b[0m\u001b[1;33m\u001b[0m\u001b[0m\n\u001b[1;32m--> 280\u001b[1;33m                 \u001b[1;32mreturn\u001b[0m \u001b[0mself\u001b[0m\u001b[1;33m.\u001b[0m\u001b[0mget\u001b[0m\u001b[1;33m(\u001b[0m\u001b[1;33m)\u001b[0m\u001b[1;33m\u001b[0m\u001b[0m\n\u001b[0m\u001b[0;32m    281\u001b[0m             \u001b[1;32melse\u001b[0m\u001b[1;33m:\u001b[0m\u001b[1;33m\u001b[0m\u001b[0m\n\u001b[0;32m    282\u001b[0m                 raise NotImplementedError('no get cmd found in' +\n",
      "\u001b[1;32md:\\onedrive\\bf1\\code\\qcodes\\qcodes\\instrument\\parameter.py\u001b[0m in \u001b[0;36mget_wrapper\u001b[1;34m(*args, **kwargs)\u001b[0m\n\u001b[0;32m    357\u001b[0m             \u001b[1;32mtry\u001b[0m\u001b[1;33m:\u001b[0m\u001b[1;33m\u001b[0m\u001b[0m\n\u001b[0;32m    358\u001b[0m                 \u001b[1;31m# There might be cases where a .get also has args/kwargs\u001b[0m\u001b[1;33m\u001b[0m\u001b[1;33m\u001b[0m\u001b[0m\n\u001b[1;32m--> 359\u001b[1;33m                 \u001b[0mvalue\u001b[0m \u001b[1;33m=\u001b[0m \u001b[0mget_function\u001b[0m\u001b[1;33m(\u001b[0m\u001b[1;33m*\u001b[0m\u001b[0margs\u001b[0m\u001b[1;33m,\u001b[0m \u001b[1;33m**\u001b[0m\u001b[0mkwargs\u001b[0m\u001b[1;33m)\u001b[0m\u001b[1;33m\u001b[0m\u001b[0m\n\u001b[0m\u001b[0;32m    360\u001b[0m                 \u001b[0mself\u001b[0m\u001b[1;33m.\u001b[0m\u001b[0mraw_value\u001b[0m \u001b[1;33m=\u001b[0m \u001b[0mvalue\u001b[0m\u001b[1;33m\u001b[0m\u001b[0m\n\u001b[0;32m    361\u001b[0m \u001b[1;33m\u001b[0m\u001b[0m\n",
      "\u001b[1;32md:\\onedrive\\bf1\\code\\pytopo\\pytopo\\parameters.py\u001b[0m in \u001b[0;36mget_raw\u001b[1;34m(self)\u001b[0m\n\u001b[0;32m     10\u001b[0m \u001b[1;33m\u001b[0m\u001b[0m\n\u001b[0;32m     11\u001b[0m     \u001b[1;32mdef\u001b[0m \u001b[0mget_raw\u001b[0m\u001b[1;33m(\u001b[0m\u001b[0mself\u001b[0m\u001b[1;33m)\u001b[0m\u001b[1;33m:\u001b[0m\u001b[1;33m\u001b[0m\u001b[0m\n\u001b[1;32m---> 12\u001b[1;33m         \u001b[1;32mreturn\u001b[0m \u001b[0mself\u001b[0m\u001b[1;33m.\u001b[0m\u001b[0mget_conv\u001b[0m\u001b[1;33m(\u001b[0m\u001b[0mself\u001b[0m\u001b[1;33m.\u001b[0m\u001b[0msrc_param\u001b[0m\u001b[1;33m(\u001b[0m\u001b[1;33m)\u001b[0m\u001b[1;33m)\u001b[0m\u001b[1;33m\u001b[0m\u001b[0m\n\u001b[0m\u001b[0;32m     13\u001b[0m \u001b[1;33m\u001b[0m\u001b[0m\n\u001b[0;32m     14\u001b[0m     \u001b[1;32mdef\u001b[0m \u001b[0mset_raw\u001b[0m\u001b[1;33m(\u001b[0m\u001b[0mself\u001b[0m\u001b[1;33m,\u001b[0m \u001b[0mvalue\u001b[0m\u001b[1;33m)\u001b[0m\u001b[1;33m:\u001b[0m\u001b[1;33m\u001b[0m\u001b[0m\n",
      "\u001b[1;32md:\\onedrive\\bf1\\code\\qcodes\\qcodes\\instrument\\parameter.py\u001b[0m in \u001b[0;36m__call__\u001b[1;34m(self, *args, **kwargs)\u001b[0m\n\u001b[0;32m    278\u001b[0m         \u001b[1;32mif\u001b[0m \u001b[0mlen\u001b[0m\u001b[1;33m(\u001b[0m\u001b[0margs\u001b[0m\u001b[1;33m)\u001b[0m \u001b[1;33m==\u001b[0m \u001b[1;36m0\u001b[0m\u001b[1;33m:\u001b[0m\u001b[1;33m\u001b[0m\u001b[0m\n\u001b[0;32m    279\u001b[0m             \u001b[1;32mif\u001b[0m \u001b[0mhasattr\u001b[0m\u001b[1;33m(\u001b[0m\u001b[0mself\u001b[0m\u001b[1;33m,\u001b[0m \u001b[1;34m'get'\u001b[0m\u001b[1;33m)\u001b[0m\u001b[1;33m:\u001b[0m\u001b[1;33m\u001b[0m\u001b[0m\n\u001b[1;32m--> 280\u001b[1;33m                 \u001b[1;32mreturn\u001b[0m \u001b[0mself\u001b[0m\u001b[1;33m.\u001b[0m\u001b[0mget\u001b[0m\u001b[1;33m(\u001b[0m\u001b[1;33m)\u001b[0m\u001b[1;33m\u001b[0m\u001b[0m\n\u001b[0m\u001b[0;32m    281\u001b[0m             \u001b[1;32melse\u001b[0m\u001b[1;33m:\u001b[0m\u001b[1;33m\u001b[0m\u001b[0m\n\u001b[0;32m    282\u001b[0m                 raise NotImplementedError('no get cmd found in' +\n",
      "\u001b[1;32md:\\onedrive\\bf1\\code\\qcodes\\qcodes\\instrument\\parameter.py\u001b[0m in \u001b[0;36mget_wrapper\u001b[1;34m(*args, **kwargs)\u001b[0m\n\u001b[0;32m    357\u001b[0m             \u001b[1;32mtry\u001b[0m\u001b[1;33m:\u001b[0m\u001b[1;33m\u001b[0m\u001b[0m\n\u001b[0;32m    358\u001b[0m                 \u001b[1;31m# There might be cases where a .get also has args/kwargs\u001b[0m\u001b[1;33m\u001b[0m\u001b[1;33m\u001b[0m\u001b[0m\n\u001b[1;32m--> 359\u001b[1;33m                 \u001b[0mvalue\u001b[0m \u001b[1;33m=\u001b[0m \u001b[0mget_function\u001b[0m\u001b[1;33m(\u001b[0m\u001b[1;33m*\u001b[0m\u001b[0margs\u001b[0m\u001b[1;33m,\u001b[0m \u001b[1;33m**\u001b[0m\u001b[0mkwargs\u001b[0m\u001b[1;33m)\u001b[0m\u001b[1;33m\u001b[0m\u001b[0m\n\u001b[0m\u001b[0;32m    360\u001b[0m                 \u001b[0mself\u001b[0m\u001b[1;33m.\u001b[0m\u001b[0mraw_value\u001b[0m \u001b[1;33m=\u001b[0m \u001b[0mvalue\u001b[0m\u001b[1;33m\u001b[0m\u001b[0m\n\u001b[0;32m    361\u001b[0m \u001b[1;33m\u001b[0m\u001b[0m\n",
      "\u001b[1;32md:\\onedrive\\bf1\\code\\qcodes\\qcodes\\utils\\command.py\u001b[0m in \u001b[0;36m__call__\u001b[1;34m(self, *args)\u001b[0m\n\u001b[0;32m    175\u001b[0m             raise TypeError(\n\u001b[0;32m    176\u001b[0m                 'command takes exactly {} args'.format(self.arg_count))\n\u001b[1;32m--> 177\u001b[1;33m         \u001b[1;32mreturn\u001b[0m \u001b[0mself\u001b[0m\u001b[1;33m.\u001b[0m\u001b[0mexec_function\u001b[0m\u001b[1;33m(\u001b[0m\u001b[1;33m*\u001b[0m\u001b[0margs\u001b[0m\u001b[1;33m)\u001b[0m\u001b[1;33m\u001b[0m\u001b[0m\n\u001b[0m",
      "\u001b[1;32md:\\onedrive\\bf1\\code\\qcodes\\qcodes\\instrument_drivers\\Keysight\\Keysight_34465A.py\u001b[0m in \u001b[0;36m_get_voltage\u001b[1;34m(self)\u001b[0m\n\u001b[0;32m    370\u001b[0m         \u001b[1;31m# should be aware of the configuration.\u001b[0m\u001b[1;33m\u001b[0m\u001b[1;33m\u001b[0m\u001b[0m\n\u001b[0;32m    371\u001b[0m \u001b[1;33m\u001b[0m\u001b[0m\n\u001b[1;32m--> 372\u001b[1;33m         \u001b[0mresponse\u001b[0m \u001b[1;33m=\u001b[0m \u001b[0mself\u001b[0m\u001b[1;33m.\u001b[0m\u001b[0mask\u001b[0m\u001b[1;33m(\u001b[0m\u001b[1;34m'READ?'\u001b[0m\u001b[1;33m)\u001b[0m\u001b[1;33m\u001b[0m\u001b[0m\n\u001b[0m\u001b[0;32m    373\u001b[0m \u001b[1;33m\u001b[0m\u001b[0m\n\u001b[0;32m    374\u001b[0m         \u001b[1;32mreturn\u001b[0m \u001b[0mfloat\u001b[0m\u001b[1;33m(\u001b[0m\u001b[0mresponse\u001b[0m\u001b[1;33m)\u001b[0m\u001b[1;33m\u001b[0m\u001b[0m\n",
      "\u001b[1;32md:\\onedrive\\bf1\\code\\qcodes\\qcodes\\instrument\\base.py\u001b[0m in \u001b[0;36mask\u001b[1;34m(self, cmd)\u001b[0m\n\u001b[0;32m    674\u001b[0m         \"\"\"\n\u001b[0;32m    675\u001b[0m         \u001b[1;32mtry\u001b[0m\u001b[1;33m:\u001b[0m\u001b[1;33m\u001b[0m\u001b[0m\n\u001b[1;32m--> 676\u001b[1;33m             \u001b[0manswer\u001b[0m \u001b[1;33m=\u001b[0m \u001b[0mself\u001b[0m\u001b[1;33m.\u001b[0m\u001b[0mask_raw\u001b[0m\u001b[1;33m(\u001b[0m\u001b[0mcmd\u001b[0m\u001b[1;33m)\u001b[0m\u001b[1;33m\u001b[0m\u001b[0m\n\u001b[0m\u001b[0;32m    677\u001b[0m \u001b[1;33m\u001b[0m\u001b[0m\n\u001b[0;32m    678\u001b[0m             \u001b[1;32mreturn\u001b[0m \u001b[0manswer\u001b[0m\u001b[1;33m\u001b[0m\u001b[0m\n",
      "\u001b[1;32md:\\onedrive\\bf1\\code\\qcodes\\qcodes\\instrument\\visa.py\u001b[0m in \u001b[0;36mask_raw\u001b[1;34m(self, cmd)\u001b[0m\n\u001b[0;32m    217\u001b[0m         \"\"\"\n\u001b[0;32m    218\u001b[0m         \u001b[0mlog\u001b[0m\u001b[1;33m.\u001b[0m\u001b[0mdebug\u001b[0m\u001b[1;33m(\u001b[0m\u001b[1;34m\"Querying instrument {}: {}\"\u001b[0m\u001b[1;33m.\u001b[0m\u001b[0mformat\u001b[0m\u001b[1;33m(\u001b[0m\u001b[0mself\u001b[0m\u001b[1;33m.\u001b[0m\u001b[0mname\u001b[0m\u001b[1;33m,\u001b[0m \u001b[0mcmd\u001b[0m\u001b[1;33m)\u001b[0m\u001b[1;33m)\u001b[0m\u001b[1;33m\u001b[0m\u001b[0m\n\u001b[1;32m--> 219\u001b[1;33m         \u001b[0mresponse\u001b[0m \u001b[1;33m=\u001b[0m \u001b[0mself\u001b[0m\u001b[1;33m.\u001b[0m\u001b[0mvisa_handle\u001b[0m\u001b[1;33m.\u001b[0m\u001b[0mquery\u001b[0m\u001b[1;33m(\u001b[0m\u001b[0mcmd\u001b[0m\u001b[1;33m)\u001b[0m\u001b[1;33m\u001b[0m\u001b[0m\n\u001b[0m\u001b[0;32m    220\u001b[0m         \u001b[0mlog\u001b[0m\u001b[1;33m.\u001b[0m\u001b[0mdebug\u001b[0m\u001b[1;33m(\u001b[0m\u001b[1;34mf\"Got instrument response: {response}\"\u001b[0m\u001b[1;33m)\u001b[0m\u001b[1;33m\u001b[0m\u001b[0m\n\u001b[0;32m    221\u001b[0m         \u001b[1;32mreturn\u001b[0m \u001b[0mresponse\u001b[0m\u001b[1;33m\u001b[0m\u001b[0m\n",
      "\u001b[1;32m~\\Anaconda3\\envs\\qcodes\\lib\\site-packages\\pyvisa\\resources\\messagebased.py\u001b[0m in \u001b[0;36mquery\u001b[1;34m(self, message, delay)\u001b[0m\n\u001b[0;32m    405\u001b[0m         \u001b[1;32mif\u001b[0m \u001b[0mdelay\u001b[0m \u001b[1;33m>\u001b[0m \u001b[1;36m0.0\u001b[0m\u001b[1;33m:\u001b[0m\u001b[1;33m\u001b[0m\u001b[0m\n\u001b[0;32m    406\u001b[0m             \u001b[0mtime\u001b[0m\u001b[1;33m.\u001b[0m\u001b[0msleep\u001b[0m\u001b[1;33m(\u001b[0m\u001b[0mdelay\u001b[0m\u001b[1;33m)\u001b[0m\u001b[1;33m\u001b[0m\u001b[0m\n\u001b[1;32m--> 407\u001b[1;33m         \u001b[1;32mreturn\u001b[0m \u001b[0mself\u001b[0m\u001b[1;33m.\u001b[0m\u001b[0mread\u001b[0m\u001b[1;33m(\u001b[0m\u001b[1;33m)\u001b[0m\u001b[1;33m\u001b[0m\u001b[0m\n\u001b[0m\u001b[0;32m    408\u001b[0m \u001b[1;33m\u001b[0m\u001b[0m\n\u001b[0;32m    409\u001b[0m     \u001b[1;31m# Kept for backwards compatibility.\u001b[0m\u001b[1;33m\u001b[0m\u001b[1;33m\u001b[0m\u001b[0m\n",
      "\u001b[1;32m~\\Anaconda3\\envs\\qcodes\\lib\\site-packages\\pyvisa\\resources\\messagebased.py\u001b[0m in \u001b[0;36mread\u001b[1;34m(self, termination, encoding)\u001b[0m\n\u001b[0;32m    330\u001b[0m         \u001b[1;32mif\u001b[0m \u001b[0mtermination\u001b[0m \u001b[1;32mis\u001b[0m \u001b[1;32mNone\u001b[0m\u001b[1;33m:\u001b[0m\u001b[1;33m\u001b[0m\u001b[0m\n\u001b[0;32m    331\u001b[0m             \u001b[0mtermination\u001b[0m \u001b[1;33m=\u001b[0m \u001b[0mself\u001b[0m\u001b[1;33m.\u001b[0m\u001b[0m_read_termination\u001b[0m\u001b[1;33m\u001b[0m\u001b[0m\n\u001b[1;32m--> 332\u001b[1;33m             \u001b[0mmessage\u001b[0m \u001b[1;33m=\u001b[0m \u001b[0mself\u001b[0m\u001b[1;33m.\u001b[0m\u001b[0mread_raw\u001b[0m\u001b[1;33m(\u001b[0m\u001b[1;33m)\u001b[0m\u001b[1;33m.\u001b[0m\u001b[0mdecode\u001b[0m\u001b[1;33m(\u001b[0m\u001b[0menco\u001b[0m\u001b[1;33m)\u001b[0m\u001b[1;33m\u001b[0m\u001b[0m\n\u001b[0m\u001b[0;32m    333\u001b[0m         \u001b[1;32melse\u001b[0m\u001b[1;33m:\u001b[0m\u001b[1;33m\u001b[0m\u001b[0m\n\u001b[0;32m    334\u001b[0m             \u001b[1;32mwith\u001b[0m \u001b[0mself\u001b[0m\u001b[1;33m.\u001b[0m\u001b[0mread_termination_context\u001b[0m\u001b[1;33m(\u001b[0m\u001b[0mtermination\u001b[0m\u001b[1;33m)\u001b[0m\u001b[1;33m:\u001b[0m\u001b[1;33m\u001b[0m\u001b[0m\n",
      "\u001b[1;32m~\\Anaconda3\\envs\\qcodes\\lib\\site-packages\\pyvisa\\resources\\messagebased.py\u001b[0m in \u001b[0;36mread_raw\u001b[1;34m(self, size)\u001b[0m\n\u001b[0;32m    304\u001b[0m                     logger.debug('%s - reading %d bytes (last status %r)',\n\u001b[0;32m    305\u001b[0m                                  self._resource_name, size, status)\n\u001b[1;32m--> 306\u001b[1;33m                     \u001b[0mchunk\u001b[0m\u001b[1;33m,\u001b[0m \u001b[0mstatus\u001b[0m \u001b[1;33m=\u001b[0m \u001b[0mself\u001b[0m\u001b[1;33m.\u001b[0m\u001b[0mvisalib\u001b[0m\u001b[1;33m.\u001b[0m\u001b[0mread\u001b[0m\u001b[1;33m(\u001b[0m\u001b[0mself\u001b[0m\u001b[1;33m.\u001b[0m\u001b[0msession\u001b[0m\u001b[1;33m,\u001b[0m \u001b[0msize\u001b[0m\u001b[1;33m)\u001b[0m\u001b[1;33m\u001b[0m\u001b[0m\n\u001b[0m\u001b[0;32m    307\u001b[0m                     \u001b[0mret\u001b[0m \u001b[1;33m+=\u001b[0m \u001b[0mchunk\u001b[0m\u001b[1;33m\u001b[0m\u001b[0m\n\u001b[0;32m    308\u001b[0m             \u001b[1;32mexcept\u001b[0m \u001b[0merrors\u001b[0m\u001b[1;33m.\u001b[0m\u001b[0mVisaIOError\u001b[0m \u001b[1;32mas\u001b[0m \u001b[0me\u001b[0m\u001b[1;33m:\u001b[0m\u001b[1;33m\u001b[0m\u001b[0m\n",
      "\u001b[1;32m~\\Anaconda3\\envs\\qcodes\\lib\\site-packages\\pyvisa\\ctwrapper\\functions.py\u001b[0m in \u001b[0;36mread\u001b[1;34m(library, session, count)\u001b[0m\n\u001b[0;32m   1580\u001b[0m     \u001b[0mbuffer\u001b[0m \u001b[1;33m=\u001b[0m \u001b[0mcreate_string_buffer\u001b[0m\u001b[1;33m(\u001b[0m\u001b[0mcount\u001b[0m\u001b[1;33m)\u001b[0m\u001b[1;33m\u001b[0m\u001b[0m\n\u001b[0;32m   1581\u001b[0m     \u001b[0mreturn_count\u001b[0m \u001b[1;33m=\u001b[0m \u001b[0mViUInt32\u001b[0m\u001b[1;33m(\u001b[0m\u001b[1;33m)\u001b[0m\u001b[1;33m\u001b[0m\u001b[0m\n\u001b[1;32m-> 1582\u001b[1;33m     \u001b[0mret\u001b[0m \u001b[1;33m=\u001b[0m \u001b[0mlibrary\u001b[0m\u001b[1;33m.\u001b[0m\u001b[0mviRead\u001b[0m\u001b[1;33m(\u001b[0m\u001b[0msession\u001b[0m\u001b[1;33m,\u001b[0m \u001b[0mbuffer\u001b[0m\u001b[1;33m,\u001b[0m \u001b[0mcount\u001b[0m\u001b[1;33m,\u001b[0m \u001b[0mbyref\u001b[0m\u001b[1;33m(\u001b[0m\u001b[0mreturn_count\u001b[0m\u001b[1;33m)\u001b[0m\u001b[1;33m)\u001b[0m\u001b[1;33m\u001b[0m\u001b[0m\n\u001b[0m\u001b[0;32m   1583\u001b[0m     \u001b[1;32mreturn\u001b[0m \u001b[0mbuffer\u001b[0m\u001b[1;33m.\u001b[0m\u001b[0mraw\u001b[0m\u001b[1;33m[\u001b[0m\u001b[1;33m:\u001b[0m\u001b[0mreturn_count\u001b[0m\u001b[1;33m.\u001b[0m\u001b[0mvalue\u001b[0m\u001b[1;33m]\u001b[0m\u001b[1;33m,\u001b[0m \u001b[0mret\u001b[0m\u001b[1;33m\u001b[0m\u001b[0m\n\u001b[0;32m   1584\u001b[0m \u001b[1;33m\u001b[0m\u001b[0m\n",
      "\u001b[1;32m~\\Anaconda3\\envs\\qcodes\\lib\\site-packages\\pyvisa\\ctwrapper\\highlevel.py\u001b[0m in \u001b[0;36m_return_handler\u001b[1;34m(self, ret_value, func, arguments)\u001b[0m\n\u001b[0;32m    147\u001b[0m             \u001b[0msetattr\u001b[0m\u001b[1;33m(\u001b[0m\u001b[0mself\u001b[0m\u001b[1;33m,\u001b[0m \u001b[0mmethod_name\u001b[0m\u001b[1;33m,\u001b[0m \u001b[0mgetattr\u001b[0m\u001b[1;33m(\u001b[0m\u001b[0mself\u001b[0m\u001b[1;33m.\u001b[0m\u001b[0mlib\u001b[0m\u001b[1;33m,\u001b[0m \u001b[0mmethod_name\u001b[0m\u001b[1;33m)\u001b[0m\u001b[1;33m)\u001b[0m\u001b[1;33m\u001b[0m\u001b[0m\n\u001b[0;32m    148\u001b[0m \u001b[1;33m\u001b[0m\u001b[0m\n\u001b[1;32m--> 149\u001b[1;33m     \u001b[1;32mdef\u001b[0m \u001b[0m_return_handler\u001b[0m\u001b[1;33m(\u001b[0m\u001b[0mself\u001b[0m\u001b[1;33m,\u001b[0m \u001b[0mret_value\u001b[0m\u001b[1;33m,\u001b[0m \u001b[0mfunc\u001b[0m\u001b[1;33m,\u001b[0m \u001b[0marguments\u001b[0m\u001b[1;33m)\u001b[0m\u001b[1;33m:\u001b[0m\u001b[1;33m\u001b[0m\u001b[0m\n\u001b[0m\u001b[0;32m    150\u001b[0m         \"\"\"Check return values for errors and warnings.\n\u001b[0;32m    151\u001b[0m         \"\"\"\n",
      "\u001b[1;31mKeyboardInterrupt\u001b[0m: "
     ]
    }
   ],
   "source": [
    "ivvi_setup.T2_voltage(0)\n",
    "ivvi_setup.T3_voltage(-0.44)\n",
    "ivvi_setup.T4_voltage(-0.3)\n",
    "\n",
    "TG = ivvi_setup.T4_voltage\n",
    "TG_vals = np.linspace(-0.25, -0.35, 3)\n",
    "\n",
    "ivvi_setup.SD_voltage(250e-6)\n",
    "ivvi_setup.SD_lockin_voltage(10e-6)\n",
    "lockin1.frequency(21.2)\n",
    "\n",
    "exp = select_experiment('DC_CSD', SAMPLE)\n",
    "\n",
    "meas = MeasurementExt(station, exp=exp,\n",
    "                      soft_sweep_params=[\n",
    "                          ivvi_setup.T4_voltage,\n",
    "                          ivvi_setup.R2_voltage,\n",
    "                          ivvi_setup.G_fine_voltage,\n",
    "                      ],\n",
    "                      soft_data_params=[\n",
    "                          lockin1.X,\n",
    "                          ivvi_setup.SD_current,                          \n",
    "                      ])\n",
    "\n",
    "meas.write_period = 1\n",
    "\n",
    "with meas.run() as datasaver:\n",
    "    \n",
    "    datasaver.dataset.subscribe(\n",
    "        QcodesDatasetSubscriber(datasaver.dataset), \n",
    "        state=[], min_wait=0, min_count=1,\n",
    "    )\n",
    "\n",
    "    for tg in TG_vals:\n",
    "        TG(tg)\n",
    "        \n",
    "        print(time.strftime('%Y-%m-%d %H:%M:%S') + ' setting {} to {} V'.format(TG, tg))\n",
    "    \n",
    "        for r2 in np.linspace(0, 1e-3, 51):\n",
    "            ivvi_setup.R2_voltage(r2)\n",
    "\n",
    "            for pg in np.linspace(0, 1e-3, 51):\n",
    "                ivvi_setup.G_fine_voltage(pg)\n",
    "\n",
    "                datasaver.add_result(*meas.get_result())"
   ]
  },
  {
   "cell_type": "code",
   "execution_count": null,
   "metadata": {
    "ExecuteTime": {
     "end_time": "2018-07-19T11:48:34.245407Z",
     "start_time": "2018-07-19T11:48:34.225413Z"
    },
    "collapsed": true
   },
   "outputs": [],
   "source": []
  },
  {
   "cell_type": "code",
   "execution_count": 69,
   "metadata": {
    "ExecuteTime": {
     "end_time": "2018-07-19T12:04:34.286572Z",
     "start_time": "2018-07-19T12:04:34.266546Z"
    }
   },
   "outputs": [
    {
     "data": {
      "text/plain": [
       "8.51517857142857"
      ]
     },
     "execution_count": 69,
     "metadata": {},
     "output_type": "execute_result"
    }
   ],
   "source": [
    "1.1 / (21 * 16) * 51**2"
   ]
  },
  {
   "cell_type": "code",
   "execution_count": null,
   "metadata": {
    "collapsed": true
   },
   "outputs": [],
   "source": []
  },
  {
   "cell_type": "code",
   "execution_count": null,
   "metadata": {
    "collapsed": true
   },
   "outputs": [],
   "source": []
  },
  {
   "cell_type": "code",
   "execution_count": null,
   "metadata": {
    "ExecuteTime": {
     "end_time": "2018-07-19T12:01:44.824680Z",
     "start_time": "2018-07-19T12:01:44.814710Z"
    },
    "collapsed": true
   },
   "outputs": [],
   "source": []
  },
  {
   "cell_type": "code",
   "execution_count": 79,
   "metadata": {
    "ExecuteTime": {
     "end_time": "2018-07-19T13:24:41.810005Z",
     "start_time": "2018-07-19T13:24:41.800002Z"
    },
    "collapsed": true
   },
   "outputs": [],
   "source": []
  },
  {
   "cell_type": "code",
   "execution_count": 108,
   "metadata": {
    "ExecuteTime": {
     "end_time": "2018-07-20T11:44:22.032017Z",
     "start_time": "2018-07-20T11:44:16.912313Z"
    }
   },
   "outputs": [
    {
     "name": "stdout",
     "output_type": "stream",
     "text": [
      "6.29 ms ± 60.9 µs per loop (mean ± std. dev. of 7 runs, 100 loops each)\n"
     ]
    }
   ],
   "source": [
    "%%timeit\n",
    "lockin1.X()"
   ]
  },
  {
   "cell_type": "code",
   "execution_count": 114,
   "metadata": {
    "ExecuteTime": {
     "end_time": "2018-07-20T11:45:37.180998Z",
     "start_time": "2018-07-20T11:45:37.160966Z"
    },
    "collapsed": true
   },
   "outputs": [],
   "source": [
    "key1.NPLC(10)"
   ]
  },
  {
   "cell_type": "code",
   "execution_count": 110,
   "metadata": {
    "ExecuteTime": {
     "end_time": "2018-07-20T11:45:13.579049Z",
     "start_time": "2018-07-20T11:45:09.369287Z"
    }
   },
   "outputs": [
    {
     "name": "stdout",
     "output_type": "stream",
     "text": [
      "51.3 ms ± 1.57 ms per loop (mean ± std. dev. of 7 runs, 10 loops each)\n"
     ]
    }
   ],
   "source": [
    "%%timeit\n",
    "key1.volt()"
   ]
  },
  {
   "cell_type": "code",
   "execution_count": 117,
   "metadata": {
    "ExecuteTime": {
     "end_time": "2018-07-20T11:45:45.220501Z",
     "start_time": "2018-07-20T11:45:44.790526Z"
    }
   },
   "outputs": [
    {
     "data": {
      "text/plain": [
       "0.00882813757"
      ]
     },
     "execution_count": 117,
     "metadata": {},
     "output_type": "execute_result"
    }
   ],
   "source": [
    "key1.volt()"
   ]
  },
  {
   "cell_type": "code",
   "execution_count": null,
   "metadata": {
    "collapsed": true
   },
   "outputs": [],
   "source": []
  }
 ],
 "metadata": {
  "kernelspec": {
   "display_name": "Python 3",
   "language": "python",
   "name": "python3"
  },
  "language_info": {
   "codemirror_mode": {
    "name": "ipython",
    "version": 3
   },
   "file_extension": ".py",
   "mimetype": "text/x-python",
   "name": "python",
   "nbconvert_exporter": "python",
   "pygments_lexer": "ipython3",
   "version": "3.6.3"
  },
  "toc": {
   "base_numbering": 1,
   "nav_menu": {},
   "number_sections": true,
   "sideBar": true,
   "skip_h1_title": false,
   "title_cell": "Table of Contents",
   "title_sidebar": "Contents",
   "toc_cell": false,
   "toc_position": {},
   "toc_section_display": true,
   "toc_window_display": true
  }
 },
 "nbformat": 4,
 "nbformat_minor": 2
}
