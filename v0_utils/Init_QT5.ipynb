{
 "cells": [
  {
   "cell_type": "code",
   "execution_count": 2,
   "metadata": {},
   "outputs": [],
   "source": [
    "from v0_utils.qcodes_tools import \\\n",
    "    instrument_factory, init_or_create_database, load_or_create_experiment, \\\n",
    "    add_parameter_to_instrument, \\\n",
    "    DelegateParameter, VirtualInstrument\n",
    "\n",
    "from importlib import reload\n",
    "from pytopo.qctools import instruments as instools; reload(instools)\n",
    "from pytopo.qctools.instruments import create_inst, add2station\n",
    "import qcodes as qc"
   ]
  },
  {
   "cell_type": "code",
   "execution_count": 3,
   "metadata": {},
   "outputs": [],
   "source": [
    "def QT5_init(**kwargs):\n",
    "    station = qc.Station()\n",
    "    inst_list = []\n",
    "    \n",
    "    if 'DMM1' in kwargs and kwargs['DMM1'] is True:\n",
    "        from qcodes.instrument_drivers.Keysight.Keysight_34465A import Keysight_34465A\n",
    "        DMM1 = instools.create_inst(Keysight_34465A, 'DMM1', address=\"TCPIP::169.254.26.27\")\n",
    "        inst_list.append(DMM1)\n",
    "    \n",
    "    if 'DMM2' in kwargs and kwargs['DMM2'] is True:\n",
    "        from qcodes.instrument_drivers.Keysight.Keysight_34465A import Keysight_34465A\n",
    "        DMM2 = instools.create_inst(Keysight_34465A, 'DMM2', address=\"TCPIP::169.254.88.178\")\n",
    "        inst_list.append(DMM2)\n",
    "            \n",
    "    if 'DMM3' in kwargs and kwargs['DMM3'] is True:\n",
    "        from qcodes.instrument_drivers.Keysight.Keysight_34465A import Keysight_34465A\n",
    "        DMM3 = instools.create_inst(Keysight_34465A, 'DMM3', address=\"TCPIP::169.254.4.61\")\n",
    "        inst_list.append(DMM1)\n",
    "    \n",
    "    if 'lockin1' in kwargs and kwargs['lockin1'] is True:\n",
    "        from qcodes.instrument_drivers.stanford_research.SR860 import SR860\n",
    "        lockin1 = instools.create_inst(SR860, \"lockin1\", \"TCPIP::169.254.88.181\")\n",
    "        inst_list.append(lockin1)\n",
    "            \n",
    "    if 'lockin2' in kwargs and kwargs['lockin2'] is True:\n",
    "        from qcodes.instrument_drivers.stanford_research.SR860 import SR860\n",
    "        lockin2 = instools.create_inst(SR860, \"lockin2\", \"TCPIP::169.254.88.179\")\n",
    "        inst_list.append(lockin2)\n",
    "            \n",
    "    if 'yokogawa' in kwargs and kwargs['yokogawa'] is True:\n",
    "        from qcodes.instrument_drivers.yokogawa.GS200 import GS200\n",
    "        yokogawa = instools.create_inst(GS200, \"yokogawa\", \"USB0::0x0B21::0x0039::91U100329::INSTR\")\n",
    "        inst_list.append(yokogawa)\n",
    "            \n",
    "    if 'mdac' in kwargs and kwargs['mdac'] is True:\n",
    "        from MDAC.Driver.MDAC import MDAC\n",
    "        mdac = instools.create_inst(MDAC, \"mdac\", address='ASRL4::INSTR', force_new_instance=True)\n",
    "        inst_list.append(mdac)\n",
    "    \n",
    "    if 'SGS1' in kwargs and kwargs['SGS1'] is True:\n",
    "        from qcodes.instrument_drivers.rohde_schwarz.SGS100A import RohdeSchwarz_SGS100A\n",
    "        SGS1 = instools.create_inst(RohdeSchwarz_SGS100A, \"SGS1\", \"TCPIP::169.254.90.38\")\n",
    "        inst_list.append(SGS1)\n",
    "            \n",
    "    if 'SGS2' in kwargs and kwargs['SGS2'] is True:\n",
    "        from qcodes.instrument_drivers.rohde_schwarz.SGS100A import RohdeSchwarz_SGS100A\n",
    "        SGS2 = instools.create_inst(RohdeSchwarz_SGS100A, \"SGS2\", \"TCPIP::169.254.2.20\")\n",
    "        inst_list.append(SGS2)\n",
    "    \n",
    "    if 'scope' in kwargs and kwargs['scope'] is True:\n",
    "        from qcodes.instrument_drivers.Keysight.Infiniium import Infiniium\n",
    "        #import qcodes.instrument_drivers.Keysight.Infiniium as MSO\n",
    "        scope = instools.create_inst(Infiniium, 'scope', 'TCPIP::169.254.159.151')\n",
    "        inst_list.append(scope)\n",
    "        \n",
    "    if 'rigol' in kwargs and kwargs['rigol'] is True:\n",
    "        from qcodes.instrument_drivers.rigol.DG1062 import DG1062\n",
    "        rigol = instools.create_inst(DG1062, 'rigol', 'TCPIP::169.254.32.101')\n",
    "        inst_list.append(rigol)\n",
    "    \n",
    "    if 'awg_5208' in kwargs and kwargs['awg_5208'] is True:\n",
    "        from qcodes.instrument_drivers.tektronix.AWG5208 import AWG5208\n",
    "        awg = instools.create_inst(AWG5208, \"awg\", address='TCPIP0::169.254.121.32::inst0::INSTR')\n",
    "        inst_list.append(awg_5208)\n",
    "    \n",
    "    if 'magnet' in kwargs and kwargs['magnet'] is True:\n",
    "        from qcodes.instrument_drivers.american_magnetics.AMI430 import AMI430,AMI430_3D\n",
    "        ami_x = instools.create_inst(AMI430, \"AMI430_x\", \"169.254.237.94\", port = 7180, has_current_rating=True)\n",
    "        ami_y = instools.create_inst(AMI430, \"AMI430_y\", \"169.254.250.157\", port = 7180, has_current_rating=True)\n",
    "        ami_z = instools.create_inst(AMI430, \"AMI430_z\", \"169.254.70.33\", port = 7180, has_current_rating=True)\n",
    "        magnet = instools.create_inst(AMI430_3D, \"AMI430\", ami_x, ami_y, ami_z, 1)\n",
    "        inst_list.append(magnet)\n",
    "        \n",
    "    if 'alazar' in kwargs and kwargs['alazar'] is True:\n",
    "        from qcodes.instrument_drivers.AlazarTech import utils; reload(utils)\n",
    "        from qcodes.instrument_drivers.AlazarTech import ATS9360; reload(ATS9360)\n",
    "        from qcodes.instrument_drivers.AlazarTech.ATS9360 import AlazarTech_ATS9360\n",
    "        alazar = instools.create_inst(AlazarTech_ATS9360, 'alazar', force_new_instance=True)\n",
    "        inst_list.append(alazar)\n",
    "    \n",
    "    station = qc.Station(*inst_list)\n",
    "    return station"
   ]
  },
  {
   "cell_type": "code",
   "execution_count": 4,
   "metadata": {},
   "outputs": [
    {
     "name": "stdout",
     "output_type": "stream",
     "text": [
      "Connected to: Keysight Technologies 34465A (serial:MY57505814, firmware:A.02.17-02.40-02.17-00.52-04-01) in 0.37s\n",
      "Connected to: Keysight Technologies 34465A (serial:MY57507997, firmware:A.02.17-02.40-02.17-00.52-04-01) in 0.21s\n",
      "Connected to: Keysight Technologies 34465A (serial:MY57505806, firmware:A.02.17-02.40-02.17-00.52-04-01) in 0.26s\n",
      "Connected to: Stanford_Research_Systems SR860 (serial:003231, firmware:V1.47) in 0.12s\n",
      "Connected to: Stanford_Research_Systems SR860 (serial:003232, firmware:V1.47) in 0.11s\n"
     ]
    },
    {
     "name": "stderr",
     "output_type": "stream",
     "text": [
      "C:\\ProgramData\\Anaconda3\\envs\\qcodes\\lib\\site-packages\\pyvisa\\ctwrapper\\functions.py:1649: VisaIOWarning: VI_WARN_NSUP_ATTR_STATE (1073676420): Although the specified state of the attribute is valid, it is not supported by this implementation.\n",
      "  return library.viSetAttribute(session, attribute, attribute_state)\n"
     ]
    },
    {
     "name": "stdout",
     "output_type": "stream",
     "text": [
      "Connected to: QNL Sydney MDAC (serial:0x32353532353551040037003E, firmware:1.4) in 5.53s\n",
      "Connected to: Rohde&Schwarz SGS100A (serial:1416.0505k02/110835, firmware:3.1.19.26-3.50.124.73) in 0.05s\n",
      "Connected to: Rohde&Schwarz SGS100A (serial:1416.0505k02/110871, firmware:3.1.19.26-3.50.124.73) in 0.04s\n",
      "Connected to: KEYSIGHT TECHNOLOGIES MSOS254A (serial:MY58150108, firmware:06.20.00620) in 0.04s\n"
     ]
    },
    {
     "name": "stderr",
     "output_type": "stream",
     "text": [
      "c:\\users\\administrator\\onedrive\\bf5\\code\\qcodes\\qcodes\\instrument\\parameter.py:247: UserWarning: Wrapping get method, original get method will not be directly accessible. It is recommended to define get_raw in your subclass instead.\n",
      "  warnings.warn('Wrapping get method, original get method will not '\n"
     ]
    },
    {
     "name": "stdout",
     "output_type": "stream",
     "text": [
      "Connected to: Rigol Technologies DG1062Z (serial:DG1ZA195206768, firmware:03.01.12) in 0.06s\n",
      "Connected to: AMERICAN MAGNETICS INC. 430 (serial:180002, firmware:2.54) in 0.94s\n",
      "Connected to: AMERICAN MAGNETICS INC. 430 (serial:180001, firmware:2.54) in 0.94s\n",
      "Connected to: AMERICAN MAGNETICS INC. 430 (serial:180003, firmware:2.54) in 0.99s\n"
     ]
    },
    {
     "name": "stderr",
     "output_type": "stream",
     "text": [
      "Snapshot: Could not update parameter: period on rigol_burst\n",
      "Snapshot: Could not update parameter: period on rigol_burst\n"
     ]
    }
   ],
   "source": [
    "station = QT5_init(DMM1=True, DMM2=True, DMM3=True, lockin1=True, lockin2=True, mdac=True, SGS1=True, SGS2=True, scope=True, rigol=True, awg_5208=False, magnet=True, alazar=True)"
   ]
  },
  {
   "cell_type": "code",
   "execution_count": 5,
   "metadata": {},
   "outputs": [
    {
     "data": {
      "text/plain": [
       "100000.0"
      ]
     },
     "execution_count": 5,
     "metadata": {},
     "output_type": "execute_result"
    }
   ],
   "source": [
    "station.lockin2.frequency()"
   ]
  },
  {
   "cell_type": "code",
   "execution_count": null,
   "metadata": {},
   "outputs": [],
   "source": []
  }
 ],
 "metadata": {
  "kernelspec": {
   "display_name": "Python 3",
   "language": "python",
   "name": "python3"
  },
  "language_info": {
   "codemirror_mode": {
    "name": "ipython",
    "version": 3
   },
   "file_extension": ".py",
   "mimetype": "text/x-python",
   "name": "python",
   "nbconvert_exporter": "python",
   "pygments_lexer": "ipython3",
   "version": "3.6.5"
  }
 },
 "nbformat": 4,
 "nbformat_minor": 2
}
